{
 "cells": [
  {
   "cell_type": "markdown",
   "metadata": {},
   "source": [
    "![Astrofisica Computacional](../logo.PNG)"
   ]
  },
  {
   "cell_type": "markdown",
   "metadata": {},
   "source": [
    "---\n",
    "## 30. Integración Numérica\n",
    "\n",
    "\n",
    "Eduard Larrañaga (ealarranaga@unal.edu.co)\n",
    "\n",
    "---"
   ]
  },
  {
   "cell_type": "markdown",
   "metadata": {
    "id": "JHAFitzdBgov"
   },
   "source": [
    "\n",
    "### Resumen\n",
    "\n",
    "En este cuaderno se presentan algunas técnicas de integración numérica.\n",
    "\n",
    "---"
   ]
  },
  {
   "cell_type": "markdown",
   "metadata": {
    "id": "GkljYLsvBgow"
   },
   "source": [
    "Una de las tareas más comunes en astrofísica es evaluar integrales como\n",
    "\n",
    "\\begin{equation}\n",
    "I = \\int_a^b f(x) dx ,\n",
    "\\end{equation}\n",
    "\n",
    "y, en muchos casos, estas no pueden realizarse en forma analítica. El integrando en estas expresiones puede darse como una función analítica $f(x)$ o como un conjunto discreto de valores $f(x_i)$. Acontinuación describiremos algunas técnicas para realizar estas integrales numéricamente en ambos casos.\n",
    " \n",
    "--- \n",
    "## Interpolación por intervalos y cuadraturas\n",
    "\n",
    "Cualquier método de integración que utilice una suma con pesos es denominado **regla de cuadraturas**. Suponga que conocemos (o podemos evaluar) el integrando  $f(x)$ en un conjunto finito de *nodos*, $\\{x_j\\}$ con $j=0,\\cdots,n$ en el intervalo $[a,b]$ y tal que $x_0 = a$ y $x_n = b$. Con esto se obtendrá un conjunto de $n+1$ nodos o equivalentemente $n$ intervalos. Una aproximación discreta de la integral de esta función está dada por la **regla del rectángulo**,\n",
    "\n",
    "\\begin{equation}\n",
    "I = \\int_a^b f(x) dx \\approx  \\Delta x \\sum_{i=0}^{n-1} f(x_i),\n",
    "\\end{equation}\n",
    "\n",
    "donde el ancho de los intervalos es $\\Delta x = \\frac{b-a}{n}$. A partir de la definición de una integral, es claro que esta aproximación converge al valor real de la integral cuando $n\\rightarrow \\infty$, i.e. cuando $\\Delta x \\rightarrow 0$. \n",
    "\n",
    "A pesar de que la regla del rectangulo puede dar una buena aproximación de la integral, puede ser mejorada al utilizar una función interpolada en cada intervalo. Los métodos en los que se utiliza la interpolación de polinomios se denominan, en general, **cuadraturas de Newton-Cotes**."
   ]
  },
  {
   "cell_type": "markdown",
   "metadata": {
    "id": "MkRPraH0Bgow"
   },
   "source": [
    "---\n",
    "### Regla de punto medio\n",
    "\n",
    "La modificación más simple a la regla del rectángulo descrita arriba es utilizar el valor central de la función $f(x)$ en cada intervalo en lugar del valor en uno de los nodos. de Esta forma, si es posible evaluar el integrando en el punto medio de cada intervalo, el valor aproximado de la integral estará dado por\n",
    "\n",
    "\\begin{equation}\n",
    "I = \\int_{a}^{b} f(x) dx = \\sum _{i=0}^{n-1} (x_{i+1} - x_i)  f(\\bar{x}_i ),\n",
    "\\end{equation}\n",
    "\n",
    "donde $\\bar{x}_i = \\frac{x_i + x_{i+1}}{2}$ es el punto medio en el intervalo $[x_i, x_{i+1}]$.\n",
    "\n",
    "Con el fin de estimar el error asociado con este método, se utiliza una expansión en serie de Taylor del integrando en el intervalo $[x_i, x_{i+1}]$ alrededor del punto medio $\\bar{x}_i$,\n",
    "\n",
    "\\begin{equation}\n",
    "f(x) = f(\\bar{x}_i) + f'(\\bar{x}_i)(x-\\bar{x}_i) + \\frac{f''(\\bar{x}_i)}{2}(x-\\bar{x}_i)^2 + \\frac{f'''(\\bar{x}_i)}{6}(x-\\bar{x}_i)^3 + ...\n",
    "\\end{equation}\n",
    "\n",
    "Integrando esta expresión desde $x_i$ hasta $x_{i+1}$, y notando que los terminos de orden impar se anulan, se obtiene\n",
    "\n",
    "\\begin{equation}\n",
    "\\int_{x_i}^{x_{i+1}} f(x)dx = f(\\bar{x}_i)(x_{i+1}-x_i) + \\frac{f''(\\bar{x}_i)}{24}(x_{i+1}-x_i)^3 + ...\n",
    "\\end{equation}\n",
    "\n",
    "Esta expansión muestra que el error asociado con la aproximación en cada intervalo es de orden $\\varepsilon_i =  (x_{i+1}-x_i)^3$. Ya que la integral total se obtiene como una suma de $n$ integrales similares, el error total es será de orden $\\varepsilon = n \\varepsilon_i $. \n",
    "\n",
    "Cuando los nodos están igualmente espaciados, podemos escribir el tamaño de estos intervalos como  $h = \\frac{b - a}{n}$ y por ello, el error asociado con cada intervalo es $\\varepsilon_i =\\frac{(b - a)^3}{n^3} = h^3$, mientras que el error total de la cuadratúra será de orden $\\varepsilon = n \\varepsilon_i = \\frac{(b - a)^3}{n^2} = nh^3$."
   ]
  },
  {
   "cell_type": "markdown",
   "metadata": {
    "id": "T21ZT5mrBgox"
   },
   "source": [
    "#### Ejemplo. Integración numérica\n",
    "\n",
    "Leeremos los datos de la función desde un archivo .txt y estimaremos numéricamente el valor de la integral de esta función utilizando la regla del punto medio. Debido a que la función esdada en forma de puntos discretos (y no en forma analítica), no es posible evaluar el valor de la función en los puntos medios por lo que utilizaremos inicialmente el valor en el primer punto de cada uno de los intervalos para calcular las sumas parciales. "
   ]
  },
  {
   "cell_type": "code",
   "execution_count": 1,
   "metadata": {
    "colab": {
     "base_uri": "https://localhost:8080/",
     "height": 384
    },
    "executionInfo": {
     "elapsed": 6845,
     "status": "ok",
     "timestamp": 1618768747225,
     "user": {
      "displayName": "Eduard Alexis Larranaga",
      "photoUrl": "https://lh3.googleusercontent.com/a-/AOh14GgCVABzEgj-rCdyxWa29RnA0kIYUCXAaVbnRYOEhQ=s64",
      "userId": "04402438389940282602"
     },
     "user_tz": 300
    },
    "id": "L9jB3RGbBgox",
    "outputId": "5de9a38b-8c55-40ff-abfd-e45ab5ad6779"
   },
   "outputs": [
    {
     "data": {
      "image/png": "[encoded data removed]",
      "text/plain": [
       "<Figure size 504x360 with 1 Axes>"
      ]
     },
     "metadata": {
      "needs_background": "light"
     },
     "output_type": "display_data"
    },
    {
     "name": "stdout",
     "output_type": "stream",
     "text": [
      "El resultado de la integración numérica de la función discreta\n",
      "entre x = -20.0 y x = 20.0 es I = 5.01388e-06\n"
     ]
    }
   ],
   "source": [
    "import numpy as np\n",
    "import matplotlib.pyplot as plt\n",
    "%matplotlib inline\n",
    "\n",
    "# Reading the data\n",
    "data = np.loadtxt('data_points1.txt', comments='#', delimiter=',')\n",
    "x = data[:,0]\n",
    "f = data[:,1]\n",
    "\n",
    "N = len(x)\n",
    "\n",
    "\n",
    "plt.figure(figsize=(7,5))\n",
    "\n",
    "# Numerical integration loop\n",
    "Integral = 0.\n",
    "for i in range(N-1):\n",
    "    h = x[i+1] - x[i]\n",
    "    Integral = Integral + h*f[i]\n",
    "    \n",
    "    plt.vlines([x[i], x[i+1]], 0, [f[i], f[i]], color='red')\n",
    "    plt.plot([x[i], x[i+1]], [f[i], f[i]],color='red')\n",
    "    plt.fill_between([x[i], x[i+1]], [f[i], f[i]],color='red', alpha=0.3)\n",
    "\n",
    "plt.scatter(x, f, color='black')\n",
    "plt.hlines(0, x.min(), x.max())\n",
    "plt.title('Integración por la regla del rectángulo')\n",
    "plt.xlabel(r'$x$')\n",
    "plt.ylabel(r'$f(x)$')\n",
    "plt.show()\n",
    "\n",
    "print(f'El resultado de la integración numérica de la función discreta')\n",
    "print(f'entre x = {x[0]:.1f} y x = {x[len(x)-1]:.1f} es I = {Integral:.5e}')"
   ]
  },
  {
   "cell_type": "code",
   "execution_count": 2,
   "metadata": {
    "colab": {
     "base_uri": "https://localhost:8080/",
     "height": 384
    },
    "executionInfo": {
     "elapsed": 1958,
     "status": "ok",
     "timestamp": 1618768758410,
     "user": {
      "displayName": "Eduard Alexis Larranaga",
      "photoUrl": "https://lh3.googleusercontent.com/a-/AOh14GgCVABzEgj-rCdyxWa29RnA0kIYUCXAaVbnRYOEhQ=s64",
      "userId": "04402438389940282602"
     },
     "user_tz": 300
    },
    "id": "_X-ZB0MuBgoy",
    "outputId": "5f808bc0-9646-4aaf-e9db-0afe0ae3ee0f"
   },
   "outputs": [
    {
     "data": {
      "image/png": "[encoded data removed]",
      "text/plain": [
       "<Figure size 504x360 with 1 Axes>"
      ]
     },
     "metadata": {
      "needs_background": "light"
     },
     "output_type": "display_data"
    },
    {
     "name": "stdout",
     "output_type": "stream",
     "text": [
      "El resultado de la integración numérica de la función discreta\n",
      "entre x = -20.0 y x = 20.0 es I = 2.91244e+02\n"
     ]
    }
   ],
   "source": [
    "import numpy as np\n",
    "import matplotlib.pyplot as plt\n",
    "%matplotlib inline\n",
    "\n",
    "# Reading the data\n",
    "data = np.loadtxt('data_points2.txt', comments='#', delimiter=',')\n",
    "x = data[:,0]\n",
    "f = data[:,1]\n",
    "\n",
    "N = len(x)\n",
    "\n",
    "\n",
    "plt.figure(figsize=(7,5))\n",
    "\n",
    "# Numerical integration loop\n",
    "Integral = 0.\n",
    "for i in range(N-1):\n",
    "    h = x[i+1] - x[i]\n",
    "    Integral = Integral + h*f[i]\n",
    "    \n",
    "    plt.vlines([x[i], x[i+1]], 0, [f[i], f[i]], color='red')\n",
    "    plt.plot([x[i], x[i+1]], [f[i], f[i]],color='red')\n",
    "    plt.fill_between([x[i], x[i+1]], [f[i], f[i]],color='red', alpha=0.3)\n",
    "\n",
    "plt.scatter(x, f, color='black')\n",
    "plt.hlines(0, x.min(), x.max())\n",
    "plt.title('Integración por la regla del rectángulo')\n",
    "plt.xlabel(r'$x$')\n",
    "plt.ylabel(r'$f(x)$')\n",
    "plt.show()\n",
    "\n",
    "print(f'El resultado de la integración numérica de la función discreta')\n",
    "print(f'entre x = {x[0]:.1f} y x = {x[len(x)-1]:.1f} es I = {Integral:.5e}')"
   ]
  },
  {
   "cell_type": "markdown",
   "metadata": {
    "id": "m4qzDQ9wBgoy"
   },
   "source": [
    "---\n",
    "### Regla del Trapezoide\n",
    "\n",
    "La siguiente generalización de la regla del rectángulo corresponde a aproximar la función $f(x)$ con un polinomio lineal en cada uno de los intervalos. Esto se conoce como la **regla del trapezoide** y la correspondiente cuadratura estará dada por \n",
    "\n",
    "\\begin{equation}\n",
    "I = \\int_{a}^{b} f(x) dx = \\sum _{i=0}^{n-1} \\frac{1}{2} (x_{i+1} - x_i)  \\left[ f(x_{i+1}) + f(x_i) \\right] .\n",
    "\\end{equation}\n",
    "\n",
    "Contrario a lo que sucede en la regla del punto medio, este método no necesita la evaluación del integrando en el punto medio sino en los dos nodos de cada intervalo."
   ]
  },
  {
   "cell_type": "markdown",
   "metadata": {
    "id": "2e24ZxGRBgoz"
   },
   "source": [
    "#### Ejemplo. Integración con la regla del trapezoide.\n",
    "\n",
    "De nuevo se leerán los datos de la función a partir de un archivo .txt file y se integrará numéricamente utilizando la regla del trapezoide. "
   ]
  },
  {
   "cell_type": "code",
   "execution_count": 3,
   "metadata": {
    "colab": {
     "base_uri": "https://localhost:8080/",
     "height": 384
    },
    "executionInfo": {
     "elapsed": 1079,
     "status": "ok",
     "timestamp": 1618768764623,
     "user": {
      "displayName": "Eduard Alexis Larranaga",
      "photoUrl": "https://lh3.googleusercontent.com/a-/AOh14GgCVABzEgj-rCdyxWa29RnA0kIYUCXAaVbnRYOEhQ=s64",
      "userId": "04402438389940282602"
     },
     "user_tz": 300
    },
    "id": "qdzjthBxBgoz",
    "outputId": "cdd8cd75-9a16-4784-a6a6-bfe4fc4357d9"
   },
   "outputs": [
    {
     "data": {
      "image/png": "[encoded data removed]",
      "text/plain": [
       "<Figure size 504x360 with 1 Axes>"
      ]
     },
     "metadata": {
      "needs_background": "light"
     },
     "output_type": "display_data"
    },
    {
     "name": "stdout",
     "output_type": "stream",
     "text": [
      "El resultado de la integración numérica de la función discreta\n",
      "entre x = -20.0 y x = 20.0 es I = -7.87808e-17\n"
     ]
    }
   ],
   "source": [
    "import numpy as np\n",
    "import matplotlib.pyplot as plt\n",
    "\n",
    "# Reading the data\n",
    "data = np.loadtxt('data_points1.txt', comments='#', delimiter=',')\n",
    "x = data[:,0]\n",
    "f = data[:,1]\n",
    "\n",
    "N = len(x)\n",
    "\n",
    "plt.figure(figsize=(7,5))\n",
    "\n",
    "# Numerical integration loop\n",
    "Integral = 0.\n",
    "for i in range(N-1):\n",
    "    h = x[i+1] - x[i]\n",
    "    f_mean = (f[i] + f[i+1])/2\n",
    "    Integral = Integral + h*f_mean\n",
    "    \n",
    "    plt.vlines([x[i], x[i+1]], 0, [f[i], f[i+1]], color='red')\n",
    "    plt.plot([x[i], x[i+1]], [f[i], f[i+1]],color='red')\n",
    "    plt.fill_between([x[i], x[i+1]], [f[i], f[i+1]],color='red', alpha=0.3)\n",
    "\n",
    "plt.scatter(x, f, color='black')\n",
    "plt.hlines(0, x.min(), x.max())\n",
    "plt.title('Integración con la regla del trapezoide')\n",
    "plt.xlabel(r'$x$')\n",
    "plt.ylabel(r'$f(x)$')\n",
    "plt.show()\n",
    "\n",
    "print(f'El resultado de la integración numérica de la función discreta')\n",
    "print(f'entre x = {x[0]:.1f} y x = {x[len(x)-1]:.1f} es I = {Integral:.5e}')"
   ]
  },
  {
   "cell_type": "code",
   "execution_count": 4,
   "metadata": {
    "colab": {
     "base_uri": "https://localhost:8080/",
     "height": 384
    },
    "executionInfo": {
     "elapsed": 1418,
     "status": "ok",
     "timestamp": 1618768771652,
     "user": {
      "displayName": "Eduard Alexis Larranaga",
      "photoUrl": "https://lh3.googleusercontent.com/a-/AOh14GgCVABzEgj-rCdyxWa29RnA0kIYUCXAaVbnRYOEhQ=s64",
      "userId": "04402438389940282602"
     },
     "user_tz": 300
    },
    "id": "VCwbuwysBgoz",
    "outputId": "98d9e726-aee4-4ccb-d4e8-be2232582f54"
   },
   "outputs": [
    {
     "data": {
      "image/png": "[encoded data removed]",
      "text/plain": [
       "<Figure size 504x360 with 1 Axes>"
      ]
     },
     "metadata": {
      "needs_background": "light"
     },
     "output_type": "display_data"
    },
    {
     "name": "stdout",
     "output_type": "stream",
     "text": [
      "El resultado de la integración numérica de la función discreta\n",
      "entre x = -20.0 y x = 20.0 es I = 2.91244e+02\n"
     ]
    }
   ],
   "source": [
    "import numpy as np\n",
    "import matplotlib.pyplot as plt\n",
    "\n",
    "# Reading the data\n",
    "data = np.loadtxt('data_points2.txt', comments='#', delimiter=',')\n",
    "x = data[:,0]\n",
    "f = data[:,1]\n",
    "\n",
    "N = len(x)\n",
    "\n",
    "plt.figure(figsize=(7,5))\n",
    "\n",
    "# Numerical integration loop\n",
    "Integral = 0.\n",
    "for i in range(N-1):\n",
    "    h = x[i+1] - x[i]\n",
    "    f_mean = (f[i] + f[i+1])/2\n",
    "    Integral = Integral + h*f_mean\n",
    "    \n",
    "    plt.vlines([x[i], x[i+1]], 0, [f[i], f[i+1]], color='red')\n",
    "    plt.plot([x[i], x[i+1]], [f[i], f[i+1]],color='red')\n",
    "    plt.fill_between([x[i], x[i+1]], [f[i], f[i+1]],color='red', alpha=0.3)\n",
    "\n",
    "plt.scatter(x, f, color='black')\n",
    "plt.hlines(0, x.min(), x.max())\n",
    "plt.title('Integración con la regla del trapezoide')\n",
    "plt.xlabel(r'$x$')\n",
    "plt.ylabel(r'$f(x)$')\n",
    "plt.show()\n",
    "\n",
    "print(f'El resultado de la integración numérica de la función discreta')\n",
    "print(f'entre x = {x[0]:.1f} y x = {x[len(x)-1]:.1f} es I = {Integral:.5e}')\n"
   ]
  },
  {
   "cell_type": "markdown",
   "metadata": {
    "id": "Z_QVLirwBgoz"
   },
   "source": [
    "---\n",
    "## Regla de Simpson\n",
    "\n",
    "La regla de Simpson es un método en el que la integral $f(x)$ se estima aproximando el integrando por un polinomi de segundo orden en cada intervalo.\n",
    "\n",
    "Si se conocen tres valores de la función; $f_1 =f(x_1)$, $f_2 =f(x_2)$ y $f_3 =f(x_3)$; en los puntos $x_1 < x_2 < x_3$, se puede ajustar un polinomio de segundo orden de la forma \n",
    "l\n",
    "\\begin{equation}\n",
    "p_2 (x) = A (x-x_1)^2 + B (x-x_1) + C .\n",
    "\\end{equation} \n",
    "\n",
    "Al integrar este polinomio en el intervalo  $[x_1 , x_3]$, se obtiene\n",
    "\n",
    "\\begin{equation}\n",
    "\\int_{x_1}^{x^3} p_2 (x) dx = \\frac{x_3 - x_1}{6} \\left( f_1 + 4f_2 + f_3 \\right) + \\mathcal{O} \\left( (x_3 - x_1)^5 \\right)\n",
    "\\end{equation}"
   ]
  },
  {
   "cell_type": "markdown",
   "metadata": {
    "id": "trRJ9v-TBgo0"
   },
   "source": [
    "---\n",
    "### Regla de Simpson con nodos igualmente espaciados \n",
    "\n",
    "Si se tienen $N$ nodos igualmente espaciados en el intervalo de integración, o equivalentemente $n=N-1$ intervalos con un ancho constante  $h$, la integral total mediante la regla de Simpson se escribe en la forma\n",
    "\n",
    "\\begin{equation}\n",
    "I = \\int_a^b f(x) dx \\approx \\frac{h}{3} \\sum_{i=0}^{\\frac{n-2}{2}} \\left[ f(x_{2i}) + 4f(x_{2i+1}) + f(x_{2i+2}) \\right] .\n",
    "\\end{equation}\n",
    "\n",
    "El error numérico en cada intervalo es de orden $h^5$ y por lo tanto, la integral total tendrá un error de orden $n h^5 = \\frac{(a-b)^5}{n^4}$."
   ]
  },
  {
   "cell_type": "markdown",
   "metadata": {
    "id": "avmQ8B46Bgo0"
   },
   "source": [
    "#### Ejemplo. Integración con la regla de Simpson"
   ]
  },
  {
   "cell_type": "code",
   "execution_count": 5,
   "metadata": {
    "colab": {
     "base_uri": "https://localhost:8080/",
     "height": 384
    },
    "executionInfo": {
     "elapsed": 858,
     "status": "ok",
     "timestamp": 1618768780423,
     "user": {
      "displayName": "Eduard Alexis Larranaga",
      "photoUrl": "https://lh3.googleusercontent.com/a-/AOh14GgCVABzEgj-rCdyxWa29RnA0kIYUCXAaVbnRYOEhQ=s64",
      "userId": "04402438389940282602"
     },
     "user_tz": 300
    },
    "id": "FYTN4NQ5Bgo0",
    "outputId": "262f0898-0b99-4df2-d904-e97d4b126a09"
   },
   "outputs": [
    {
     "data": {
      "image/png": "[encoded data removed]",
      "text/plain": [
       "<Figure size 504x360 with 1 Axes>"
      ]
     },
     "metadata": {
      "needs_background": "light"
     },
     "output_type": "display_data"
    },
    {
     "name": "stdout",
     "output_type": "stream",
     "text": [
      "El resultado de la integración numérica de la función discreta\n",
      "entre x = -20.0 y x = 20.0 es I = 2.24796e-05\n"
     ]
    }
   ],
   "source": [
    "import numpy as np\n",
    "import matplotlib.pyplot as plt\n",
    "\n",
    "def quadraticInterpolation(x1, x2, x3, f1, f2, f3, x):\n",
    "    p2 = (((x-x2)*(x-x3))/((x1-x2)*(x1-x3)))*f1 + (((x-x1)*(x-x3))/((x2-x1)*(x2-x3)))*f2 +\\\n",
    "         (((x-x1)*(x-x2))/((x3-x1)*(x3-x2)))*f3\n",
    "    return p2\n",
    "\n",
    "# Reading the data\n",
    "data = np.loadtxt('data_points1.txt', comments='#', delimiter=',')\n",
    "x = data[:,0]\n",
    "f = data[:,1]\n",
    "\n",
    "N = len(x)\n",
    "n = N-1\n",
    "\n",
    "plt.figure(figsize=(7,5))\n",
    "\n",
    "# Numerical integration loop\n",
    "Integral = 0.\n",
    "for i in range(int((n-2)/2 +1)):\n",
    "    h = x[2*i+1] -x[2*i] \n",
    "    Integral = Integral + h*(f[2*i] + 4*f[2*i+1] + f[2*i+2])/3\n",
    "    \n",
    "    x_interval = np.linspace(x[2*i],x[2*i+2],6)\n",
    "    y_interval = quadraticInterpolation(x[2*i], x[2*i+1], x[2*i+2], f[2*i], f[2*i+1], f[2*i+2], x_interval)\n",
    "    plt.plot(x_interval, y_interval,'r')\n",
    "    plt.fill_between(x_interval, y_interval, color='red', alpha=0.3)\n",
    "\n",
    "plt.scatter(x, f, color='black')\n",
    "plt.hlines(0, x.min(), x.max())\n",
    "plt.title('Integración con la regla de Simpson')\n",
    "plt.xlabel(r'$x$')\n",
    "plt.ylabel(r'$f(x)$')\n",
    "plt.show()\n",
    "\n",
    "print(f'El resultado de la integración numérica de la función discreta')\n",
    "print(f'entre x = {x[0]:.1f} y x = {x[len(x)-1]:.1f} es I = {Integral:.5e}')\n"
   ]
  },
  {
   "cell_type": "code",
   "execution_count": 6,
   "metadata": {
    "colab": {
     "base_uri": "https://localhost:8080/",
     "height": 384
    },
    "executionInfo": {
     "elapsed": 972,
     "status": "ok",
     "timestamp": 1618768787899,
     "user": {
      "displayName": "Eduard Alexis Larranaga",
      "photoUrl": "https://lh3.googleusercontent.com/a-/AOh14GgCVABzEgj-rCdyxWa29RnA0kIYUCXAaVbnRYOEhQ=s64",
      "userId": "04402438389940282602"
     },
     "user_tz": 300
    },
    "id": "CfWVt1UoBgo0",
    "outputId": "d4b4d573-65b5-4316-cd5e-6f012c4faa9e"
   },
   "outputs": [
    {
     "data": {
      "image/png": "[encoded data removed]",
      "text/plain": [
       "<Figure size 504x360 with 1 Axes>"
      ]
     },
     "metadata": {
      "needs_background": "light"
     },
     "output_type": "display_data"
    },
    {
     "name": "stdout",
     "output_type": "stream",
     "text": [
      "El resultado de la integración numérica de la función discreta\n",
      "entre x = -20.0 y x = 20.0 es I = 2.91243e+02\n"
     ]
    }
   ],
   "source": [
    "import numpy as np\n",
    "import matplotlib.pyplot as plt\n",
    "\n",
    "def quadraticInterpolation(x1, x2, x3, f1, f2, f3, x):\n",
    "    p2 = (((x-x2)*(x-x3))/((x1-x2)*(x1-x3)))*f1 + (((x-x1)*(x-x3))/((x2-x1)*(x2-x3)))*f2 +\\\n",
    "         (((x-x1)*(x-x2))/((x3-x1)*(x3-x2)))*f3\n",
    "    return p2\n",
    "\n",
    "# Reading the data\n",
    "data = np.loadtxt('data_points2.txt', comments='#', delimiter=',')\n",
    "x = data[:,0]\n",
    "f = data[:,1]\n",
    "\n",
    "N = len(x)\n",
    "n = N-1\n",
    "\n",
    "plt.figure(figsize=(7,5))\n",
    "\n",
    "# Numerical integration loop\n",
    "Integral = 0.\n",
    "for i in range(int((n-2)/2 +1)):\n",
    "    h =  x[2*i+1] - x[2*i]\n",
    "    Integral = Integral + h*(f[2*i] + 4*f[2*i+1] + f[2*i+2])/3\n",
    "    \n",
    "    x_interval = np.linspace(x[2*i],x[2*i+2],6)\n",
    "    y_interval = quadraticInterpolation(x[2*i], x[2*i+1], x[2*i+2], f[2*i], f[2*i+1], f[2*i+2], x_interval)\n",
    "    plt.plot(x_interval, y_interval,'r')\n",
    "    plt.fill_between(x_interval, y_interval, color='red', alpha=0.3)\n",
    "\n",
    "plt.scatter(x, f, color='black')\n",
    "plt.hlines(0, x.min(), x.max())\n",
    "plt.title('Integración con la regla de Simpson')\n",
    "plt.xlabel(r'$x$')\n",
    "plt.ylabel(r'$f(x)$')\n",
    "plt.show()\n",
    "\n",
    "print(f'El resultado de la integración numérica de la función discreta')\n",
    "print(f'entre x = {x[0]:.1f} y x = {x[len(x)-1]:.1f} es I = {Integral:.5e}')"
   ]
  },
  {
   "cell_type": "markdown",
   "metadata": {
    "id": "BroN2cAvBgo1"
   },
   "source": [
    "---\n",
    "### Regla de Simpson para nodos no-equidistantes\n",
    "\n",
    "Cuando los nodos de la malla de discretización de $f(x)$ no están igualmente espaciados, la regla de Simpson debe modificarse en la forma\n",
    "\n",
    "\\begin{equation}\n",
    "I = \\int_a^b f(x) dx \\approx \\sum_{i=0}^{\\frac{n-2}{2}} \\left[ \\alpha f(x_{2i}) + \\beta f(x_{2i+1}) +\\gamma f(x_{2i+2}) \\right] \n",
    "\\end{equation}\n",
    "\n",
    "donde \n",
    "\n",
    "\\begin{align}\n",
    "\\alpha = &\\frac{-h_{2i+1}^2 + h_{2i+1} h_{2i} + 2 h_{2i}^2}{6 h_{2i}}   \\\\\n",
    "\\beta = &\\frac{ (h_{2i+1} + h_{2i})^3 }{6 h_{2i+1} h_{2i}} \\\\\n",
    "\\gamma =&  \\frac{2 h_{2i+1}^2 + h_{2i+1} h_{2i} - h_{2i}^2}{6 h_{2i+1}}\n",
    "\\end{align}\n",
    "\n",
    "y $h_j = x_{j+1} - x_j$."
   ]
  }
 ],
 "metadata": {
  "colab": {
   "name": "Integration01.ipynb",
   "provenance": []
  },
  "kernelspec": {
   "display_name": "Python 3 (ipykernel)",
   "language": "python",
   "name": "python3"
  },
  "language_info": {
   "codemirror_mode": {
    "name": "ipython",
    "version": 3
   },
   "file_extension": ".py",
   "mimetype": "text/x-python",
   "name": "python",
   "nbconvert_exporter": "python",
   "pygments_lexer": "ipython3",
   "version": "3.9.7"
  }
 },
 "nbformat": 4,
 "nbformat_minor": 1
}
