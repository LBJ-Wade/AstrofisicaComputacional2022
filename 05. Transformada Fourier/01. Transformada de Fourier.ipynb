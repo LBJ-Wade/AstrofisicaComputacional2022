{
 "cells": [
  {
   "cell_type": "markdown",
   "metadata": {},
   "source": [
    "![Astrofisica Computacional](../logo.PNG)"
   ]
  },
  {
   "cell_type": "markdown",
   "metadata": {
    "id": "3NgqXCbSJCtT"
   },
   "source": [
    "---\n",
    "## 01. Transformada de Fourier\n",
    "\n",
    "\n",
    "Eduard Larrañaga (ealarranaga@unal.edu.co)\n",
    "\n",
    "---"
   ]
  },
  {
   "cell_type": "markdown",
   "metadata": {
    "id": "dLPHY7q7JCtd"
   },
   "source": [
    "\n",
    "\n",
    "### Resumen\n",
    "\n",
    "En este cuaderno se presentan las transformadas de Fourier de una función. \n",
    "\n",
    "---"
   ]
  },
  {
   "cell_type": "markdown",
   "metadata": {
    "id": "QCXkYB3vJCte"
   },
   "source": [
    "Las transformadas de Fourier son una herramienta muy importante para entender, analizar suavizar y filtrar funciones o señales. También permiten resolver algunas ecuaciones diferenciales.\n",
    "\n",
    "---\n",
    "## Series de Fourier \n",
    "\n",
    "Consideraremos  una función periodica $f(x)$ en un intervalo finito $0\\leq x < L$. Si la función es par (simétrica) con respecto al punto medio $x = \\frac{L}{2}$, la función puede expandirse en ua serie de cosenos con la forma\n",
    "\n",
    "\\begin{equation}\n",
    "f(x) = \\sum_{k=0}^{\\infty} \\alpha_k \\cos \\left( \\frac{2\\pi kx}{L} \\right).\n",
    "\\end{equation}\n",
    "\n",
    "Si la función es impar con respecto al punto medio del intervalo, se puede expandir en términos de funciones seno,\n",
    "\n",
    "\\begin{equation}\n",
    "f(x) = \\sum_{k=1}^{\\infty} \\beta_k \\sin \\left( \\frac{2\\pi kx}{L} \\right).\n",
    "\\end{equation}\n",
    "\n",
    "En los dos casos, los coeficientes $\\alpha_k$ y $\\beta_k$ son constantes que determinan las diferentes contribuciones en la superposición. \n",
    "\n",
    "En el caso de una función general (sin una simetría especial), se puede realizar la expansión \n",
    "\n",
    "\\begin{equation}\n",
    "f(x) = \\sum_{k=0}^{\\infty} \\alpha_k \\cos \\left( \\frac{2\\pi kx}{L} \\right) + \\sum_{k=1}^{\\infty} \\beta_k \\sin \\left( \\frac{2\\pi kx}{L} \\right)\n",
    "\\end{equation}\n",
    "\n",
    "la cual puede re-escribirse en términos de funciones exponenciales complejas,\n",
    "\n",
    "\\begin{equation}\n",
    "f(x) = \\sum_{k=-\\infty}^{\\infty} \\gamma_k \\exp \\left( i\\frac{2\\pi kx}{L} \\right) \n",
    "\\end{equation}\n",
    "\n",
    "donde \n",
    "\n",
    "\\begin{equation}\n",
    "\\gamma_k = \n",
    "\\begin{cases}\n",
    "\\frac{1}{2}(\\alpha_{-k} + i \\beta_{-k}) & \\text{ si }k<0\\\\\n",
    "\\alpha_0 & \\text{ si }k=0\\\\\n",
    "\\frac{1}{2}(\\alpha_{k} - i \\beta_{k}) & \\text{ si }k>0\n",
    "\\end{cases}\n",
    "\\end{equation}\n",
    "\n",
    "Cuando la función $f(x)$ no es periodica, es posible realizar la expansión en serie de Fourier considerando la función en el intervalo $0\\leq x <L$ y repitiendo este comportamiento una y otra vez a izquierda y derecha. Sin embargo, la serie obtenida solo será util en el intervalo considerado. "
   ]
  },
  {
   "cell_type": "markdown",
   "metadata": {
    "id": "Hn6aHxRAJCtf"
   },
   "source": [
    "---\n",
    "### Coeficientes en la Serie de Fourier\n",
    "\n",
    "Los coeficientes $\\gamma_k$ son, en general, números complejos y pueden obtenerse mediante la expresión\n",
    "\n",
    "\\begin{equation}\n",
    "\\gamma_k = \\frac{1}{L} \\int_0^L f(x) \\exp \\left( -i\\frac{2\\pi kx}{L}\\right) dx .\n",
    "\\end{equation}"
   ]
  },
  {
   "cell_type": "markdown",
   "metadata": {
    "id": "teYE6T0lJCtg"
   },
   "source": [
    "## Transformada Discreta de Fourier (DFT)\n",
    "\n",
    "A nivel computacional, la integral que define los coeficientes en la serie de Fourier debe realizarse numéricamente. Discretizando el intervalo de integración definiendo $n$ nodos, se tendran $n-1$ sub-intervalos con un tamaño $\\Delta x = \\frac{L}{n}$. Al utilizar la regla del trapezoide descrita en una clase anterior, se tiene\n",
    "\n",
    "\\begin{equation}\n",
    "\\gamma_k = \\frac{1}{n}\\left[ \\frac{1}{2}f(0) + \\frac{1}{2} f(L) + \\sum_{j=1}^{n-1} f(x_j) \\exp\\left( -i \\frac{2\\pi kx_j}{L} \\right) \\right].\n",
    "\\end{equation}\n",
    "\n",
    "Ya que la función debe ser periodica en el intervalo de integración , se tiene $f(0) = f(L)$ y con ello los dos primeros terminos se ueden incorporar dentro de la sumatoria,\n",
    "\n",
    "\\begin{equation}\n",
    "\\gamma_k = \\frac{1}{n}\\sum_{j=0}^{n-1} f(x_j) \\exp\\left( -i \\frac{2\\pi kx_j}{L} \\right).\n",
    "\\end{equation}\n",
    "\n",
    "Finalmente, debido a que los intervalos son iguales se puede escribir\n",
    "\n",
    "\\begin{equation}\n",
    "x_j = \\frac{j}{n}L\n",
    "\\end{equation}\n",
    "\n",
    "Los coeficientes s epueden escribir en la forma\n",
    "\n",
    "\\begin{equation}\n",
    "\\gamma_k = \\frac{1}{n}\\sum_{j=0}^{n-1} f(x_j) \\exp\\left( -i \\frac{2\\pi kj}{n} \\right).\n",
    "\\end{equation}\n",
    "\n",
    "Aunque esta expresión yas corresponde a la transformada de Fourier, en muchas referencias bibliográficas se suele denominar *Transformada Discreta de Fourier (DFT)* a los coeficientes\n",
    "\n",
    "\\begin{equation}\n",
    "c_k = \\sum_{j=0}^{n-1} f_j \\exp\\left( -i \\frac{2\\pi kj}{n} \\right)\n",
    "\\end{equation}\n",
    "\n",
    "de tal forma que $c_k = n \\gamma_k$ y donde se ha utilizado $f_j = f(x_j)$.\n",
    "\n",
    "A partir de los coeficientes obtenidos se puede recuperar la discretización de la función. A esto se le denomina *Inversa de la Transformada Discreta de Fourier* y corresponde a la relación\n",
    "\n",
    "\\begin{equation}\n",
    "f_j = \\frac{1}{n} \\sum_{k=0}^{n-1} c_k \\exp\\left( i \\frac{2\\pi kj}{n} \\right).\n",
    "\\end{equation}"
   ]
  },
  {
   "cell_type": "markdown",
   "metadata": {},
   "source": [
    "### DFT de una Función Real\n",
    "\n",
    "Los resultados descritos arriba son aplicables a funciones reales o complejas. Sin embargo, en el caso de funciones reales el tiempo de computo de los coeficientes se puede reducir notablemente. \n",
    "\n",
    "Para comprender la razón, considere el coeficiente $c_k$ para un índice $k$ menor que $n$ pero mayor que $\\frac{1}{2}N$. Se puede re-escribir entonces $k = n - p$ con $1\\leq p < \\frac{1}{2}n$. Se tiene entonces que\n",
    "\n",
    "\\begin{align}\n",
    "c_{n-p} = &\\sum_{j=0}^{n-1} f_j \\exp\\left( -i \\frac{2\\pi (n-p)j}{n} \\right)\\\\ \n",
    "c_{n-p} = & \\sum_{j=0}^{n-1} f_j \\exp\\left( -i 2\\pi j \\right) \\exp\\left( i \\frac{2\\pi pj}{n} \\right) \\\\\n",
    "c_{n-p} = & \\sum_{j=0}^{n-1} f_j  \\exp\\left( i \\frac{2\\pi pj}{n} \\right)\\\\\n",
    "c_{n-p} = & c^*_p,\n",
    "\\end{align}\n",
    "\n",
    "donde $^*$ signifca complejo conjugado. Esta relación quiere decir que \n",
    "\n",
    "\\begin{align}\n",
    "c_{n-1} = &c^*_1 \\\\\n",
    "c_{n-2} = &c^*_2 \\\\\n",
    "c_{n-3} = &c^*_3 \\\\\n",
    "...\n",
    "\\end{align}\n",
    "\n",
    "Si la función es real, se concluye que solo se deben calcular los coeficientes  $c_k$  para $0\\leq k \\leq \\frac{1}{2}n$ y los demás quedan automáticamente definidos."
   ]
  },
  {
   "cell_type": "markdown",
   "metadata": {},
   "source": [
    "### Ejemplo\n",
    "\n",
    "En el archivo `signal.txt` se encuentran los datos de una señal para la cual calcularemos su DFT."
   ]
  },
  {
   "cell_type": "code",
   "execution_count": 1,
   "metadata": {
    "colab": {
     "base_uri": "https://localhost:8080/",
     "height": 334
    },
    "executionInfo": {
     "elapsed": 2167,
     "status": "ok",
     "timestamp": 1618768943329,
     "user": {
      "displayName": "Eduard Alexis Larranaga",
      "photoUrl": "https://lh3.googleusercontent.com/a-/AOh14GgCVABzEgj-rCdyxWa29RnA0kIYUCXAaVbnRYOEhQ=s64",
      "userId": "04402438389940282602"
     },
     "user_tz": 300
    },
    "id": "QmtJMqNuJCtg",
    "outputId": "c2a03a01-663a-4ceb-88dc-2b43168bd377"
   },
   "outputs": [
    {
     "data": {
      "image/png": "[encoded data removed]",
      "text/plain": [
       "<Figure size 720x504 with 1 Axes>"
      ]
     },
     "metadata": {
      "needs_background": "light"
     },
     "output_type": "display_data"
    }
   ],
   "source": [
    "import numpy as np\n",
    "import matplotlib.pyplot as plt\n",
    "%matplotlib inline\n",
    "\n",
    "# Reading the data\n",
    "f_data = np.loadtxt( 'signal.txt')\n",
    "x_data = np.arange(len(f_data))\n",
    "plt.figure(figsize=(10,7))\n",
    "plt.plot(x_data, f_data, color='black')\n",
    "plt.title('')\n",
    "plt.xlabel(r'$x$')\n",
    "plt.ylabel(r'$f(x)$')\n",
    "plt.grid()\n",
    "plt.show()"
   ]
  },
  {
   "cell_type": "markdown",
   "metadata": {
    "id": "e3J7AgyMJCti"
   },
   "source": [
    "El número total de datos es"
   ]
  },
  {
   "cell_type": "code",
   "execution_count": 2,
   "metadata": {},
   "outputs": [
    {
     "data": {
      "text/plain": [
       "1024"
      ]
     },
     "execution_count": 2,
     "metadata": {},
     "output_type": "execute_result"
    }
   ],
   "source": [
    "n = len(f_data)\n",
    "n"
   ]
  },
  {
   "cell_type": "code",
   "execution_count": 3,
   "metadata": {},
   "outputs": [],
   "source": [
    "c = np.zeros(n//2+1, complex)\n",
    "for k in range(n//2+1):\n",
    "    for i in range(n):\n",
    "        c[k] += f_data[i]*np.exp(-2j*np.pi*k*i/n) \n"
   ]
  },
  {
   "cell_type": "code",
   "execution_count": 4,
   "metadata": {},
   "outputs": [
    {
     "data": {
      "text/plain": [
       "array([ 6.66030160e+00+0.00000000e+00j,  5.04602896e+00-1.22810603e+01j,\n",
       "       -9.86459267e+00+5.80734103e+00j,  8.04598719e+00-5.18535619e+00j,\n",
       "        3.90394877e+00-7.77479862e+00j,  5.41221116e+00-2.64834708e-01j,\n",
       "       -1.27853927e+01-3.39627922e+00j,  8.23792070e+00-3.21119098e+00j,\n",
       "       -6.54357010e+00+1.84283634e+00j,  4.66777122e+00+5.24607859e+00j,\n",
       "       -9.01982252e+00-1.29366889e+01j,  4.49001826e+00+5.08583780e-01j,\n",
       "       -3.76417822e+00+2.36842246e+00j, -4.78066174e+00-6.39200152e-01j,\n",
       "       -4.93285529e+00+1.22414583e+00j, -1.51415938e+01+3.35596891e+00j,\n",
       "       -8.55327441e+00-5.77578973e+02j, -1.23030807e+00+2.88436289e+00j,\n",
       "        6.06112938e+00-6.11744051e+00j, -1.16278221e+01-7.17508461e-02j,\n",
       "       -1.17697073e+01+3.54842084e+00j,  7.40242820e+00+1.44650063e+01j,\n",
       "       -3.42360656e+00+3.50384671e+00j,  3.15352743e+00-1.35618818e+01j,\n",
       "       -2.89797765e+00-6.01158417e+00j, -4.06415648e+00-6.48724952e+00j,\n",
       "       -2.55073534e+00+1.73077172e+00j, -1.28140984e+01+1.47528701e+00j,\n",
       "       -2.76459619e-01-8.00228149e+00j, -9.00493142e+00+4.50444325e+00j,\n",
       "        6.70751882e+00-6.44455281e+00j, -3.57333722e+00+7.30316580e+00j,\n",
       "        3.79878451e+00+2.23650798e-01j,  3.19525446e+00+1.27301159e+00j,\n",
       "       -1.04216843e+01-6.28565971e+00j, -4.09007286e+00+1.12394850e+01j,\n",
       "       -5.76756766e+00+4.81492822e+00j, -6.05561808e+00-9.63093545e+00j,\n",
       "       -4.20248042e+00+5.31647818e+00j, -1.40503265e+00+3.23436423e-01j,\n",
       "        5.82133049e+00+1.95238568e+00j,  7.44326348e+00+1.20075693e+01j,\n",
       "       -6.83504000e+00+3.49524565e+00j, -6.55296332e+00+1.68736575e+00j,\n",
       "        1.50364321e+01+5.16529954e+00j, -1.15759028e+00+3.76217451e-01j,\n",
       "       -3.15377851e+00-1.49841277e+01j,  6.80823471e+00+4.88615757e+00j,\n",
       "       -1.41298391e+01-9.94618453e+01j, -2.86833823e-01-2.10515308e+00j,\n",
       "        3.46837211e-01+2.73743413e+00j, -2.73281409e+00+1.02551707e+00j,\n",
       "       -1.30920969e+01+1.76261301e+00j, -7.77221690e+00-7.50640553e+00j,\n",
       "        6.97465872e+00+1.85542240e+00j, -6.79832305e+00+1.57966370e+00j,\n",
       "       -4.99058272e+00-1.04335544e+00j,  6.50732794e+00-1.40541084e+01j,\n",
       "       -1.16352620e+01-5.94306481e+00j,  5.66611487e+00+3.01158141e+00j,\n",
       "       -5.64816544e+00-9.55770625e+00j,  5.01889595e+00+1.11644985e+01j,\n",
       "        7.29256199e+00+2.18314350e-01j,  7.81199324e-01+2.61316517e+00j,\n",
       "       -1.19593547e+01+2.97403062e+00j,  5.21804457e+00+7.19231636e+00j,\n",
       "        5.75315938e+00-6.22379030e+00j,  6.93924850e-01+1.61925435e+01j,\n",
       "        5.92520933e+00-5.94209588e-01j, -2.77763247e-01-4.24807449e+00j,\n",
       "       -4.29700000e+00-6.97538869e+00j,  4.22810861e+00-6.00394559e+00j,\n",
       "       -1.40007174e+00-9.67284158e+00j, -3.89187657e+00-2.61093891e+00j,\n",
       "       -5.40068343e+00+2.99974564e+00j,  9.38712474e+00+7.15344617e+00j,\n",
       "       -5.56768854e+00-8.09005105e+00j,  4.53285228e+00-4.99100011e+00j,\n",
       "       -7.33143588e+00-6.61377971e+00j,  4.30726389e-01+1.36655765e+00j,\n",
       "       -1.18810092e+01-4.88145134e+01j,  6.32370993e+00-3.31065163e+00j,\n",
       "        2.35365895e+01+8.73361418e+00j, -4.18536968e+00+4.48474813e-01j,\n",
       "        5.89318472e+00+9.00837684e+00j,  1.31547927e+01-7.08429658e+00j,\n",
       "       -9.12391405e+00+1.17198369e+01j, -1.15858449e+00-4.97406620e-01j,\n",
       "       -1.11097007e+00+3.94205811e+00j, -1.04057638e+01-4.30564600e+00j,\n",
       "        8.96673501e-01+3.10865128e-02j,  1.80132715e+01+9.71294830e+00j,\n",
       "        4.93447392e+00+4.03559749e-01j, -1.01522252e+01+2.17108987e+00j,\n",
       "       -3.16248467e+00-4.86023565e+00j, -6.16345187e-01+3.87119406e+00j,\n",
       "        8.39463192e+00+9.42954138e+00j,  2.78465300e+00-1.58414370e+00j,\n",
       "       -1.19796784e+01+2.56673031e+00j, -1.07893919e+01-6.46570777e+00j,\n",
       "        3.71629524e-01-2.48785107e+00j, -1.97682770e+00+4.93832969e+00j,\n",
       "        5.48404667e+00-1.58628291e+00j,  3.38043809e+00-6.60508464e+00j,\n",
       "        1.23195297e+01+6.24642424e+00j, -5.08619273e+00+1.63741841e+01j,\n",
       "        5.70265075e+00-3.81184852e+00j,  3.28083882e+00+8.53270541e+00j,\n",
       "        1.93670905e+00-1.25085239e+00j, -1.78586263e+00+9.43072017e+00j,\n",
       "       -4.95849941e+00+3.77416294e+00j, -7.44853498e-01+3.18188688e+00j,\n",
       "        2.38983585e+00-3.32858641e+01j,  1.12657784e+00-4.90971881e+00j,\n",
       "        5.19210591e+00-5.01305167e+00j,  4.31465280e-02-2.89782282e+00j,\n",
       "       -3.45220285e+00-8.40073830e+00j, -6.31708990e+00+8.79711137e+00j,\n",
       "        1.03434637e+01-6.23710772e+00j, -5.02501568e+00+1.15824670e+00j,\n",
       "        1.56826979e+01+4.22999324e+00j,  6.54056856e+00-9.29179153e+00j,\n",
       "        8.08218422e-01+1.19982172e+01j,  9.89720067e+00+8.04147403e+00j,\n",
       "        7.27253202e+00+8.21963588e+00j,  4.89920348e+00+3.04415677e+00j,\n",
       "       -6.87946193e+00-1.97700323e+01j,  2.21914272e-01-1.26079996e+00j,\n",
       "        1.01317447e+01-7.56857551e-02j, -3.01628723e+00-3.52638634e+00j,\n",
       "        8.67258513e+00-7.37546692e+00j,  3.05895007e-01-3.33582878e+00j,\n",
       "        1.12751149e+00+1.79894729e+00j, -2.81540664e+00+1.25923702e+01j,\n",
       "        4.69551517e+00-1.00304883e+01j,  5.35906151e+00-7.20515549e-01j,\n",
       "        6.86388128e+00+4.99891571e+00j,  3.55934549e+00-5.61879063e+00j,\n",
       "       -1.43146240e+00-2.69037787e+00j,  2.34630636e+00+6.68662858e+00j,\n",
       "       -3.48286193e+00-2.75298303e+00j,  7.16789976e+00-2.03746428e+00j,\n",
       "       -3.11896886e+00+9.11823291e+00j,  1.18817841e+01-2.25059529e+00j,\n",
       "       -4.05836640e+00-1.92140592e+01j,  1.12657245e+01+9.44636861e-01j,\n",
       "       -5.23756366e+00-9.67533579e+00j,  8.77450912e-02-8.70713899e+00j,\n",
       "        1.54910130e+00-2.97455616e+00j, -6.36657153e+00-6.01956076e+00j,\n",
       "       -5.07450497e+00+1.25896988e+00j, -7.73520426e+00+7.10649613e-01j,\n",
       "        1.16769032e+01+6.93173751e+00j,  1.17488148e+01+1.42299368e-01j,\n",
       "        6.67531772e+00-5.77216170e+00j, -5.11170676e+00+1.35478897e+01j,\n",
       "       -1.87562124e-01+3.99132796e-01j, -4.78571761e+00-3.78716256e-01j,\n",
       "       -2.35995605e+00+7.83783564e+00j,  1.88960023e+00+1.30460950e+00j,\n",
       "       -5.29015518e+00-8.03286047e+00j,  2.90322237e+00-6.95623581e+00j,\n",
       "        7.16660288e+00+5.96340839e+00j, -2.30918557e-02-2.77897787e+00j,\n",
       "       -1.06825752e+00+3.43270652e+00j,  1.08032833e+00+3.70669874e+00j,\n",
       "       -2.54463568e+00-4.28212647e+00j, -3.86753698e+00+2.89314726e+00j,\n",
       "        3.77853416e-01+2.03876972e+00j,  3.44230677e+00+3.82008995e+00j,\n",
       "        1.21118865e+00-2.10044550e+00j,  2.95848243e+00+3.80508620e+00j,\n",
       "        7.80007338e+00-7.72379578e+00j, -4.89592279e-01+1.13156911e+01j,\n",
       "        5.54305941e+00+7.08953144e+00j, -3.57542659e-01-7.48183565e+00j,\n",
       "       -8.83676976e-01-6.79350535e+00j,  7.63573605e-01-3.40678016e+00j,\n",
       "       -1.43788055e+00+4.42242724e+00j,  1.03077850e+01-2.96623271e+00j,\n",
       "       -2.20849417e+00+1.98434743e+00j,  1.08011583e+01+1.64481626e+01j,\n",
       "       -7.37324306e+00+3.58485085e+00j,  1.15119171e-01-6.34633147e+00j,\n",
       "       -9.16318846e+00+4.83724149e+00j, -6.59281741e+00-1.10360145e+01j,\n",
       "       -5.09888892e+00-3.67472464e+00j,  9.01950123e-01-1.11547316e+01j,\n",
       "        3.34989277e+00-6.66755406e-01j, -3.71586155e-01+8.37244363e+00j,\n",
       "        1.73433979e+00+2.83843436e+00j,  4.66244847e+00+6.96538294e+00j,\n",
       "        7.21523244e-01-5.12016471e+00j,  6.54958591e+00+8.41404507e+00j,\n",
       "       -9.47164875e-01-9.51656845e+00j, -3.40526324e+00-4.06510342e+00j,\n",
       "        7.77514736e+00-1.07637041e+01j, -1.26574263e+01+6.05677113e+00j,\n",
       "        1.20009970e+00+2.79829641e+00j,  1.32453326e+00+9.64036731e+00j,\n",
       "       -1.76711646e+00-4.63279286e+00j,  6.07629373e+00-1.87655022e+00j,\n",
       "       -2.73162856e+00-7.55538952e-01j,  4.41563984e+00-6.03482260e+00j,\n",
       "       -2.35396697e+00+6.16688679e+00j, -3.56694734e+00+1.21382332e+00j,\n",
       "        5.50336021e+00-1.10243880e+01j,  8.84149787e+00-5.07000244e+00j,\n",
       "        4.26315275e+00-1.32236691e+01j,  9.25825878e+00-1.47194496e+00j,\n",
       "        4.76551246e+00-1.14450691e+01j, -1.60748981e+01+3.36428359e+00j,\n",
       "        1.04330730e+01+8.36209263e-01j,  5.10765529e+00+8.47729887e+00j,\n",
       "        6.58784143e+00-2.10491336e+00j, -1.39653159e+00+1.27065013e+01j,\n",
       "        7.85811835e-01+7.89125650e+00j, -3.20645679e-01+1.70513590e-01j,\n",
       "        5.08564431e-01-1.06324656e+01j,  3.63347121e+00-7.37609180e+00j,\n",
       "        4.56454845e+00+2.76123549e-01j, -2.87407136e+00+3.66961024e+00j,\n",
       "       -3.39603142e+00+4.63385327e+00j, -8.58139303e+00-7.23939881e+00j,\n",
       "       -1.74836237e+00-5.78561738e+00j,  5.58180710e+00-5.96492992e+00j,\n",
       "       -7.04474234e+00-2.62771361e+00j,  2.12092225e+00-3.66462856e+00j,\n",
       "       -1.07156396e+01-1.36350016e+01j, -2.83856746e+00+2.86501976e+00j,\n",
       "        6.08665256e-01+2.30111990e+00j,  6.75302903e+00+1.02653230e+01j,\n",
       "       -1.06593451e+01-1.37622532e+00j, -2.50484734e-01+1.09359636e+01j,\n",
       "        8.23510710e+00-4.88852352e+00j,  2.62903194e+00+8.91107896e+00j,\n",
       "       -6.20735236e+00-1.52703779e+01j,  1.93688937e+00-8.30694473e-01j,\n",
       "       -4.13009108e+00-1.01995770e+01j,  3.77121225e+00+5.28351841e-01j,\n",
       "        5.95892597e+00-3.26884884e+00j, -4.72980251e+00-2.67518754e+00j,\n",
       "       -6.35683861e-01-1.29240754e+00j, -4.41013045e+00-6.32957469e+00j,\n",
       "        2.12898187e+00-4.73233413e+00j, -1.52379311e+00+7.27794692e+00j,\n",
       "       -1.27036047e+01-1.73523454e+01j,  4.16917442e+00-1.13969617e+00j,\n",
       "       -7.08490380e+00+8.46705918e+00j,  1.18845746e+01-8.06872727e+00j,\n",
       "        2.36216927e+00+1.66622683e+00j,  1.15534057e+01-1.14911296e+01j,\n",
       "       -8.10683722e-01-2.02865607e+00j,  5.08593112e+00+2.34048825e+00j,\n",
       "        1.33763902e+00-3.40622074e-01j, -1.13800205e+01+2.18199029e-01j,\n",
       "        7.24936190e+00-3.33421150e+00j, -3.82455491e-01-7.57032934e+00j,\n",
       "       -9.48032085e+00-9.04572542e+00j,  5.65906404e+00-1.83580005e+00j,\n",
       "        5.35970147e+00+1.48121176e+01j, -1.26589567e+01+2.67783548e+00j,\n",
       "       -8.63588105e-01-1.39278056e+00j, -4.45682490e+00+3.57084689e+00j,\n",
       "        2.48109435e+00+7.49605119e+00j, -1.13918731e+00+1.76397118e+00j,\n",
       "        4.54331727e+00+7.19778612e+00j, -9.95793623e+00+1.89154972e+00j,\n",
       "       -5.80146807e+00-3.99730043e-01j,  9.49030371e+00+1.55433646e+00j,\n",
       "       -5.22680119e-01-1.14412181e+01j, -9.75891440e+00+7.31222108e+00j,\n",
       "        2.40662427e-01-1.01357247e+01j, -2.93413798e+00-7.91129752e+00j,\n",
       "        6.34146993e+00+3.34966878e+00j, -4.96979283e-01+1.03152896e+01j,\n",
       "        2.28472900e+00+1.91864252e+00j,  1.62217272e+01+5.09716180e+00j,\n",
       "       -9.23199046e-01-1.13535519e+00j, -4.85679761e+00-3.60703465e+00j,\n",
       "        4.36816007e+00-4.32883858e+00j,  5.27752849e+00+5.77208925e+00j,\n",
       "        4.50588903e+00-2.01963907e+00j,  1.51755472e+01+1.25727380e+01j,\n",
       "       -2.35645965e+00-4.84934693e+00j, -1.02702162e+00-1.12952121e+01j,\n",
       "        2.38769498e+00-7.38396780e+00j,  8.69969274e+00+6.59268735e+00j,\n",
       "        5.33950411e+00-3.03478627e+00j, -2.10908427e+00-1.27191150e+01j,\n",
       "        8.10755376e+00+1.07975087e+01j,  7.74805611e+00-1.16786473e+01j,\n",
       "       -5.32539033e+00+5.83170151e+00j,  4.17156187e+00-5.32142947e-02j,\n",
       "        1.34621045e+01+6.98117995e-02j,  8.59766196e-01+1.22574036e+01j,\n",
       "        3.61798870e+00+7.03601334e+00j, -3.27209629e+00-3.93695332e+00j,\n",
       "        3.02849515e+00+5.57112684e+00j,  2.89595634e+00+4.24577699e+00j,\n",
       "       -4.98481099e+00+7.52233786e+00j,  5.14870551e+00-9.20393612e+00j,\n",
       "        3.95260396e+00+1.49179738e-01j,  1.11164000e+01+4.12873605e+00j,\n",
       "        3.36866358e-02-1.04929163e+01j, -2.56170900e+00-2.65686675e+00j,\n",
       "        4.97385341e+00-1.22223378e+01j,  3.03033053e+00+6.01744041e+00j,\n",
       "        4.63079736e+00-7.66572331e+00j,  6.03380976e+00-9.20908089e-01j,\n",
       "        8.33308522e-01+1.39145585e+00j, -7.12030278e+00+4.49596704e-01j,\n",
       "        1.83078873e+00-1.38893088e+00j, -7.38935248e+00+1.33630748e-01j,\n",
       "        3.73761185e+00-1.86731109e+00j,  3.46556569e+00-1.18971983e+00j,\n",
       "        4.27842574e+00-1.44689684e+00j,  3.97257698e+00-1.17672745e+01j,\n",
       "        5.09997708e+00-7.94607980e+00j,  1.91472888e+00-4.72281408e+00j,\n",
       "        4.56995815e+00-5.98071200e+00j,  2.30470852e+00+2.29320970e-01j,\n",
       "       -4.76582911e+00-9.84735564e+00j,  5.91750694e+00+2.90572589e+00j,\n",
       "       -1.12005228e+01+3.78453749e+00j,  4.42659812e+00-7.23896706e+00j,\n",
       "        8.49990525e-01-5.24812103e-01j, -8.42897615e+00-6.71246850e+00j,\n",
       "       -1.16574325e+01+6.40497619e+00j,  6.98568123e+00+7.99306859e+00j,\n",
       "        4.64164300e+00-9.89499432e+00j,  3.53724002e+00+5.78698539e+00j,\n",
       "        4.03378067e+00+9.99030440e-01j, -4.87031710e+00-1.71906810e-01j,\n",
       "       -2.17887851e+00+5.73275050e+00j, -4.59231488e+00+1.32585106e+01j,\n",
       "        1.08080802e+01-1.05825980e+00j,  2.19795212e+00-2.00737012e+00j,\n",
       "        1.82477478e+00-4.43413906e+00j,  4.34817167e+00-4.06818343e+00j,\n",
       "        4.34057307e+00-5.33492057e+00j,  8.86681706e+00-1.34786314e+01j,\n",
       "       -3.01207300e+00-1.94151055e+00j, -1.53769092e+01-3.61454123e+00j,\n",
       "        2.97555896e+00-9.43438163e+00j,  2.01518301e+00-7.51800974e+00j,\n",
       "       -6.50593893e+00-5.56626030e+00j,  3.99493983e+00+5.53355194e+00j,\n",
       "        1.00406137e+01+1.37663516e+01j,  1.39471388e+01-6.19672840e+00j,\n",
       "       -6.90795327e+00+1.24504578e+00j,  5.99302805e+00-5.82497423e+00j,\n",
       "        8.80579919e+00+1.23233240e+01j,  1.11965422e+01-7.30674141e+00j,\n",
       "       -1.52019383e+00-3.43570054e+00j, -6.45422194e+00+4.74483981e+00j,\n",
       "        6.33758611e+00+3.68580598e+00j,  5.02535206e+00-8.84259370e+00j,\n",
       "       -8.99776082e+00+3.83811832e+00j, -1.46635781e+00+5.68743810e+00j,\n",
       "        5.52328799e+00-2.03842015e+00j, -1.77860393e+00+4.39740673e+00j,\n",
       "       -1.65171463e+00-2.37672207e+00j, -4.93735353e+00+4.06217683e+00j,\n",
       "       -3.02440809e+00-1.24585196e+01j, -1.04354744e+01+1.59798436e+00j,\n",
       "       -7.26762685e+00-6.61868786e+00j, -9.61773706e-01-9.66499863e+00j,\n",
       "        4.53877186e+00-8.64324477e+00j,  1.02182621e+01+1.91578053e+00j,\n",
       "        1.08621560e+01+6.01467896e+00j,  3.54092755e+00+1.01015662e+00j,\n",
       "        5.24159198e-01+7.55677508e+00j,  5.93115099e+00-1.66190966e+00j,\n",
       "        6.84071990e-01+6.23468286e+00j, -1.01332413e+01-6.09737080e+00j,\n",
       "       -3.34430494e+00+1.11208262e+01j, -1.07009736e+01+1.28771530e+00j,\n",
       "       -1.16794043e+01-1.51019818e+00j,  6.54113635e+00-5.94035359e+00j,\n",
       "       -3.67785778e+00+1.18763412e+01j, -7.49316250e+00+9.99622530e+00j,\n",
       "       -1.71402479e+00+2.51884392e+00j, -3.55887070e+00-6.08440157e+00j,\n",
       "       -5.40396662e-01+3.54914445e-01j,  1.03995288e+00+1.61068051e+01j,\n",
       "       -3.27893682e+00-2.27076900e+00j, -4.98379567e+00+7.55135195e+00j,\n",
       "        4.55177555e+00-2.72657689e+00j, -2.87303037e-01-3.73462557e-01j,\n",
       "       -6.69795467e+00+8.50148300e+00j,  7.03709276e-01+9.88616606e+00j,\n",
       "        2.79202688e+00-9.99943675e+00j,  4.53577962e+00-9.94099026e+00j,\n",
       "        8.39818244e+00-6.96793012e+00j,  4.64157254e+00-5.03124764e+00j,\n",
       "        1.23176710e+01+2.06124625e-02j, -1.01761789e+01-1.31960002e+00j,\n",
       "       -1.69986031e-01+5.53532669e+00j,  1.05874970e+01-6.53393428e+00j,\n",
       "       -8.45739951e+00-1.17322430e+01j, -6.30614068e+00+6.28993138e-01j,\n",
       "       -5.83097041e+00-5.13073246e+00j,  5.82276825e+00+2.72737578e+00j,\n",
       "       -4.22571865e+00+1.68963551e+01j, -7.90328008e+00-2.73276029e+00j,\n",
       "        8.28536774e-02-2.82505342e+00j, -8.08756615e+00+3.55062804e+00j,\n",
       "       -3.19510162e+00-5.86628958e+00j, -4.40677219e+00-1.65974791e+00j,\n",
       "        1.15329425e+01+1.89709298e+01j,  1.16803263e+01+4.10731833e+00j,\n",
       "       -2.19379695e+00-7.15428015e+00j,  9.85474354e+00-7.30777967e+00j,\n",
       "       -5.80554683e+00-7.80156588e+00j, -5.27907129e+00+8.27995408e+00j,\n",
       "       -6.37204243e+00-7.97019619e+00j, -4.93229689e+00+1.33888240e+01j,\n",
       "       -7.84971098e+00+6.58880748e+00j, -3.48198251e+00-2.59688509e+00j,\n",
       "        6.40955725e+00-9.11935681e+00j,  4.15563021e+00-3.90665848e+00j,\n",
       "       -3.05440813e+00-7.87984928e+00j,  6.33341969e+00-2.83094195e+00j,\n",
       "        5.77956480e+00-3.66416189e+00j, -4.66549161e-02-2.92689871e+00j,\n",
       "       -5.05594846e+00-8.70130894e+00j, -2.08965633e+00-6.06225084e+00j,\n",
       "        3.07941235e+00+1.20199124e+01j, -4.01034278e+00+8.03278676e+00j,\n",
       "       -3.63647152e+00-5.98595163e+00j, -9.89502181e+00-8.68887094e+00j,\n",
       "        4.05401876e+00-5.35953588e+00j, -1.92976128e+00+1.45487009e+01j,\n",
       "        2.07961186e+00+7.86018053e+00j,  4.08048501e+00-2.50203752e-01j,\n",
       "        8.32042963e+00-9.28433151e+00j,  6.55914386e+00-2.83273121e+00j,\n",
       "        5.55761271e+00+5.98375814e-01j,  9.43952831e+00+1.72839739e+00j,\n",
       "        5.78826831e+00+3.32713764e+00j,  3.60542447e-01+4.96516635e+00j,\n",
       "        8.83404858e+00-2.11941998e+00j,  1.10718978e+01+7.44244959e-01j,\n",
       "       -4.24423324e+00-5.75023352e+00j,  3.32843570e+00+7.82720763e+00j,\n",
       "       -7.37162561e+00-4.91321393e+00j,  1.26816703e+01+1.96393443e+00j,\n",
       "        1.96844773e+01+5.59070333e+00j,  5.15508084e+00+4.36371192e+00j,\n",
       "        1.44106497e+01-7.90944353e-01j, -1.55619454e+00-3.65350967e+00j,\n",
       "        2.12827112e+00+2.01258216e+00j, -3.94765441e+00+4.68424025e+00j,\n",
       "        1.52820804e+01+6.19720058e-01j, -3.40224634e+00-1.10694876e+00j,\n",
       "        9.37810005e-01-1.11529084e+00j,  6.24064164e+00-4.45299138e+00j,\n",
       "        4.41793363e+00-1.84169942e-01j, -1.10376661e+01+1.16155065e+01j,\n",
       "       -1.57020427e+01-1.07015981e+01j, -2.82309570e+00+1.65745638e+00j,\n",
       "       -4.55851459e+00-8.02403630e+00j, -5.96151936e+00+1.58057670e+00j,\n",
       "        5.23355478e+00-3.24766834e+00j, -4.18927510e-01+1.08014704e+00j,\n",
       "        5.64469614e+00+1.45427242e+00j,  3.49843183e+00-3.27057604e+00j,\n",
       "       -7.58641683e+00-3.54684811e+00j,  1.21444933e+01-2.50880395e+00j,\n",
       "       -2.89689914e+00+4.34861339e+00j, -2.88818204e+00-8.77233500e+00j,\n",
       "        4.92333402e-01-4.57793850e+00j,  1.73391782e+00-2.31123514e+00j,\n",
       "       -7.30320736e+00+1.42048644e+01j,  1.71283403e+01-8.47867762e+00j,\n",
       "       -4.56820237e+00-4.47555705e+00j,  8.19166785e+00-2.19019777e+00j,\n",
       "        5.16928785e+00+4.27092931e+00j, -1.29680703e+01+6.05576098e+00j,\n",
       "        2.89674425e+00+5.09532783e+00j, -2.10893157e-01+6.36778266e+00j,\n",
       "        2.74114969e-01-1.25818511e+00j, -4.19557835e+00-7.71314814e+00j,\n",
       "        1.83785367e+01+1.69147837e+01j,  1.76723998e+01-5.46014853e+00j,\n",
       "       -1.82211132e+00+2.23208307e+00j,  7.76992121e+00+3.76355211e+00j,\n",
       "        9.38177115e+00+4.30650036e+00j, -3.43821253e+00+1.16729298e+01j,\n",
       "       -5.89941290e+00-3.21021934e+00j,  2.09431118e+00-1.09382066e+00j,\n",
       "       -9.51338673e-01-1.19815562e+00j, -4.02737845e+00+3.10144885e+00j,\n",
       "       -5.80052743e+00+3.54245747e+00j, -8.65298507e-01+1.66268083e+00j,\n",
       "       -2.03379619e-01-2.76178232e+00j,  1.92721963e+00+7.30618932e+00j,\n",
       "       -8.51562983e+00+6.13130031e+00j, -5.77317770e+00-6.37789612e+00j,\n",
       "       -9.96403211e+00+5.96653464e+00j,  5.30694566e+00-1.11819948e+00j,\n",
       "       -1.14582137e+01-8.19679131e+00j, -7.21629612e-01+2.71022656e+00j,\n",
       "        3.27375998e-01+6.73152027e+00j,  5.14328457e+00-3.23050495e+00j,\n",
       "       -1.52433468e+01-7.18745717e-01j, -2.80614592e+00+1.64094870e+00j,\n",
       "       -1.32042608e+01+5.71230097e+00j,  4.15763611e+00+7.70006953e+00j,\n",
       "       -1.05906122e+01-7.10213140e+00j,  3.29730536e+00+4.04887291e+00j,\n",
       "        2.07977586e+01+2.35623557e-12j])"
      ]
     },
     "execution_count": 4,
     "metadata": {},
     "output_type": "execute_result"
    }
   ],
   "source": [
    "c"
   ]
  },
  {
   "cell_type": "code",
   "execution_count": 5,
   "metadata": {
    "colab": {
     "base_uri": "https://localhost:8080/",
     "height": 338
    },
    "executionInfo": {
     "elapsed": 711,
     "status": "ok",
     "timestamp": 1618768949288,
     "user": {
      "displayName": "Eduard Alexis Larranaga",
      "photoUrl": "https://lh3.googleusercontent.com/a-/AOh14GgCVABzEgj-rCdyxWa29RnA0kIYUCXAaVbnRYOEhQ=s64",
      "userId": "04402438389940282602"
     },
     "user_tz": 300
    },
    "id": "fJXVwP4aJCti",
    "outputId": "1d8d10d7-d115-4972-b346-1dd83d7d5e57"
   },
   "outputs": [
    {
     "data": {
      "image/png": "[encoded data removed]",
      "text/plain": [
       "<Figure size 720x504 with 1 Axes>"
      ]
     },
     "metadata": {
      "needs_background": "light"
     },
     "output_type": "display_data"
    }
   ],
   "source": [
    "plt.figure(figsize=(10,7))\n",
    "plt.plot(range(len(c)), abs(c), color='black')\n",
    "plt.title('')\n",
    "plt.xlabel(r'$k$')\n",
    "plt.ylabel(r'$\\left| c_k \\right|$')\n",
    "plt.grid()\n",
    "plt.show()"
   ]
  },
  {
   "cell_type": "markdown",
   "metadata": {},
   "source": [
    "## Transformada de Fourier 2-Dimensional\n",
    "\n",
    "El desarrollo presentado se puede extender fácilmente al caso de funciones 2-dimensionales, $f(x,y)$. Para ello se realiza la DFT con respecto a una de las variables y luego con respecto a la otra variable de forma independiente.\n",
    "\n",
    "Considere la función\n",
    "\n",
    "\\begin{equation}\n",
    "f_{\\mu, \\nu} = f(x_\\mu, y_\\nu)\n",
    "\\end{equation}\n",
    "\n",
    "con $\\mu = 0, 1, 2, ..., m-1$ y $\\nu = 0, 1, 2, ..., n-1$. Primero se realiza la transformada sobre cada una de $\\mu$,\n",
    "\n",
    "\\begin{equation}\n",
    "c'_{\\mu, \\beta} = \\sum_{\\nu=0}^{n-1}f_{\\mu,\\nu} \\exp \\left( -i\\frac{2\\pi \\beta \\nu}{n} \\right).\n",
    "\\end{equation}\n",
    "\n",
    "De esta forma, para cada $\\mu$ se tienen $n$ coeficientes etiquetados con el índice $\\beta$. \n",
    "\n",
    "Ahora se realiza la DFT para cada valor de $\\beta$,\n",
    "\n",
    "\\begin{equation}\n",
    "c_{\\alpha, \\beta} = \\sum_{\\mu=0}^{m-1}c'_{\\mu,\\beta} \\exp \\left( -i\\frac{2\\pi \\alpha \\mu}{m} \\right).\n",
    "\\end{equation}\n",
    "\n",
    "Al unir estas dos ecuaciones se obtiene la transformada 2-dimensional\n",
    "\n",
    "\\begin{equation}\n",
    "c_{\\alpha, \\beta} = \\sum_{\\mu=0}^{m-1}\\sum_{\\nu=0}^{n-1}f_{\\mu,\\nu} \\exp \\left( -i\\frac{2\\pi \\beta \\nu}{n} \\right) \\exp \\left( -i\\frac{2\\pi \\alpha \\mu}{m} \\right)\n",
    "\\end{equation}\n",
    "\n",
    "\\begin{equation}\n",
    "c_{\\alpha, \\beta} = \\sum_{\\mu=0}^{m-1}\\sum_{\\nu=0}^{n-1}f_{\\mu,\\nu} \\exp \\left[ -i2\\pi \\left(   \\frac{ \\alpha \\mu}{m} + \\frac{ \\beta \\nu}{n} \\right) \\right]\n",
    "\\end{equation}\n",
    "\n",
    "\n",
    "De forma similar, la DFT inversa resulta ser\n",
    "\n",
    "\\begin{equation}\n",
    "f_{\\mu, \\nu} = \\sum_{\\alpha=0}^{m-1}\\sum_{\\beta=0}^{n-1} c_{\\alpha,\\beta} \\exp \\left[ i2\\pi \\left(   \\frac{ \\alpha \\mu}{m} + \\frac{ \\beta \\nu}{n} \\right) \\right]\n",
    "\\end{equation}"
   ]
  },
  {
   "cell_type": "markdown",
   "metadata": {},
   "source": [
    "---\n",
    "## Transformada Rápida de Fourier (FFT)\n",
    "\n",
    "Para realizar la DFT,\n",
    "\n",
    "\\begin{equation}\n",
    "c_k = \\sum_{j=0}^{n-1} f_j \\exp\\left( -i \\frac{2\\pi kj}{n} \\right)\n",
    "\\end{equation}\n",
    "\n",
    "se requiere calcular $\\frac{1}{2} (n+1)$ coeficientes y enc ada uno de ellos se deben sumar $n$ términos. Por ello el número total de operaciones es $\\frac{1}{2} (n+1)n \\sim \\mathcal{O} \\left( \\frac{1}{2} n^2\\right)$.\n",
    "\n",
    "Para mejorar el tiempo de cálculo, se puede optimizar el proceso introduciendo la *Transformada Rápida de Fourier (FFT)*. Para compredner este procedimiento supondremos que la muestra tiene $n=2^m$ datos. Como $n$ es una potnecia de $2$ es posible dividir la muestra en dos sub-conjuntos de igual tamaño: aquellos con $j$ par y aquellos con $j$ impar.\n",
    "\n",
    "Para los datos pares, escribimos $j=2\\alpha$ con $\\alpha = 0,1,2,..,\\frac{1}{2}n-1$ y con ello, la DFT toma la forma\n",
    " \n",
    "\\begin{equation}\n",
    "E_k = \\sum_{\\alpha=0}^{\\frac{1}{2}n-1} f_{2\\alpha} \\exp\\left( -i \\frac{2\\pi k(2\\alpha )}{n} \\right) = \\sum_{\\alpha=0}^{\\frac{1}{2}n-1} f_{2\\alpha} \\exp\\left( -i \\frac{2\\pi k\\alpha}{\\frac{1}{2}n} \\right)\n",
    "\\end{equation}\n",
    "\n",
    "que corresponde simplemente a una DFT con $\\frac{1}{2}n$ datos. \n",
    "\n",
    "De forma similar, para los valores impares se escribe $j=2\\alpha +1$ y al DFT toma la forma\n",
    "\n",
    "\\begin{equation}\n",
    "\\sum_{\\alpha=0}^{\\frac{1}{2}n-1} f_{2\\alpha+1} \\exp\\left( -i \\frac{2\\pi k(2\\alpha +1)}{n} \\right) = \\exp\\left( -i \\frac{2\\pi k}{n} \\right) \\sum_{\\alpha=0}^{\\frac{1}{2}n-1} f_{2\\alpha+1} \\exp\\left( -i \\frac{2\\pi k\\alpha}{\\frac{1}{2}n} \\right) = \\exp\\left( -i \\frac{2\\pi k}{n} \\right) O_k\n",
    "\\end{equation}\n",
    "\n",
    "donde $O_k$ es una DFT con $\\frac{1}{2}n$ datos.\n",
    "\n",
    "EL coeficiente de Fourier Completo se obtiene al sumar términos pares e impares, i.e.\n",
    "\n",
    "\\begin{equation}\n",
    "c_k =E_k + \\exp\\left( -i \\frac{2\\pi k}{n} \\right) O_k\n",
    "\\end{equation}"
   ]
  },
  {
   "cell_type": "markdown",
   "metadata": {},
   "source": [
    "De esta expresión se puede notar que, para calcular el coeficiente $c_k$ en la DFT, se reuquiere calcular dos términos $E_k$ y $O_k$ que son dos DFT mas pequeños (con la mitad de los datos) y un factor (twiddle factor) que es trivial de calcular.\n",
    "Este proceso de reducción puede repetirse nuevamente al dividir cada uno de los coeficientes en dos DFT mas pequeñas y un (twiddle) factor adicional. El proceso de sub-división se repite hasta que se llega al momento en el que cada DFT es la transformada de un solo dato. El coeficiente de Fourier correspondiente es simplemente\n",
    "\n",
    "\\begin{equation}\n",
    "c_0 = \\sum_{j=0}^{0} f_0 e^0 = f_0,\n",
    "\\end{equation}\n",
    "\n",
    "es decir solo un término!!!\n",
    "\n",
    "Para comprender porque se mejora el tiempo de calculo con este procedimiento, debemos notar que para descomponer completamente el conjunto de $2^m$ datos se requieren $m=\\log_2 n$ niveles de división. Por lo tanto, el número de coeficientes que se deben calcular en todo el procesos es de $n$ en cada uno de los $\\log_2 n$ niveles y por lo tanto el número total de operaciones involucradas es de $\\mathcal{O} \\left( n \\log_2 n\\right)$ el cual es mucho mejor que el orden $\\mathcal{O} \\left( \\frac{1}{2} n^2\\right)$ de la DFT.\n",
    "\n",
    "\n",
    "Por ejemplo, para una muestra de $n= 10^6$ datos la DFT requiere $\\mathcal{O} \\left( \\frac{1}{2} n^2\\right) \\sim 5 \\times 10^{11}$ operaciones mientras que la FFT requiere  $\\mathcal{O} \\left( n \\log_2 n\\right) \\sim 2 \\times 10^7$ operaciones."
   ]
  },
  {
   "cell_type": "markdown",
   "metadata": {},
   "source": [
    "---\n",
    "En python se tienen varias implementaciones de la FFT. Por ejemplo están las funciones \n",
    "\n",
    "- [scipy.fft](https://docs.scipy.org/doc/scipy/tutorial/fft.html)\n",
    "- [numpy.fft](https://numpy.org/doc/stable/reference/routines.fft.html)"
   ]
  }
 ],
 "metadata": {
  "colab": {
   "collapsed_sections": [],
   "name": "Roots01.ipynb",
   "provenance": []
  },
  "kernelspec": {
   "display_name": "Python 3 (ipykernel)",
   "language": "python",
   "name": "python3"
  },
  "language_info": {
   "codemirror_mode": {
    "name": "ipython",
    "version": 3
   },
   "file_extension": ".py",
   "mimetype": "text/x-python",
   "name": "python",
   "nbconvert_exporter": "python",
   "pygments_lexer": "ipython3",
   "version": "3.9.5"
  }
 },
 "nbformat": 4,
 "nbformat_minor": 1
}
