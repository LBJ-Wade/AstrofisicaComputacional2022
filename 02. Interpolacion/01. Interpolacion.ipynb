{
 "cells": [
  {
   "cell_type": "markdown",
   "metadata": {},
   "source": [
    "![Astrofisica Computacional](../logo.PNG)"
   ]
  },
  {
   "cell_type": "markdown",
   "metadata": {
    "id": "SEphfsCC9H1J"
   },
   "source": [
    "---\n",
    "## 01. Interpolación de Funciones\n",
    "\n",
    "\n",
    "Eduard Larrañaga (ealarranaga@unal.edu.co)\n",
    "\n",
    "---"
   ]
  },
  {
   "cell_type": "markdown",
   "metadata": {
    "id": "IxNOh9IA9H1P"
   },
   "source": [
    "## Interpolación \n",
    "\n",
    "### Resumen\n",
    "\n",
    "En este cuaderno se presentan algunas de las técnicas de interpolación de una función.\n",
    "\n",
    "---"
   ]
  },
  {
   "cell_type": "markdown",
   "metadata": {
    "id": "nm_o4_Aq9H1P"
   },
   "source": [
    "## Interpolación\n",
    "\n",
    "Los datos astrofísicos (experimentales y sintéticos) usualmente consiten de un conjunto de valores discretos con la forma $(x_j, f_j)$ en donde se representa el valor de una función $f(x)$ paa un conjunto finito de argumentos $\\{ x_0, x_1, x_2, ..., x_{n} \\}$. Sin embargo, en muchas ocasiones se necesita conocer el valor de la función en puntos adicionales (que no pertenecen al conjunto dado). La **interpolación** es el método que permite obtener estos valores.\n",
    "\n",
    "Por **interpolación** entenderemos el definir una función $g(x)$, utilizando la información discreta conocida y de tal forma que $g(x_j) = f(x_j)$ y que se aproxime el valor de la función $f$ en cualquier punto $x \\in [x_{min}, x_{max}]$, done $x_{min} = \\min [x_j]$ y $x_{max} = \\max \\{ x_j \\}$. \n",
    "\n",
    "Por otro lado, la **extrapolación** correspondería a aproximar el valor de la función $f$ en un punto $x \\notin [x_{min}, x_{max}]$}. Sin embargo, este caso no será analizado aquí.\n",
    " \n",
    "--- \n",
    "## Interpolación Lineal Simple \n",
    "\n",
    "El método de interpolación más simple es denominado **Interpolación Polinomial** y consiste en encontrar un polinomio $p_n(x)$ de grado $n$ que pasa por $N = n+1$ puntos $x_j$ tomando los valores $p(x_j) = f(x_j)$, donde $j=0,1,2,...,n$. \n",
    "\n",
    "El polinomio se escribe en la forma general\n",
    "\n",
    "$p_n(x) = a_0 + a_1 x + a_2 x^2 + \\cdots + a_n x^n$\n",
    "\n",
    "donde $a_i$ son $n+1$-constantes reales que se determinarán por las condiciones\n",
    "\n",
    "$\\left( \n",
    "\\begin{array}{ccccc}\n",
    "1&x_0^1&x_0^2&\\cdots&x_0^n\\\\\n",
    "\\vdots&\\vdots&\\vdots&\\vdots&\\vdots\\\\\n",
    "\\vdots&\\vdots&\\vdots&\\vdots&\\vdots\\\\\n",
    "1&x_n^1&x_n^2&\\cdots&x_n^n\\\\\n",
    "\\end{array}\n",
    "\\right)\n",
    "\\left(\\begin{array}{c}\n",
    "a_0\\\\\n",
    "\\vdots\\\\\n",
    "\\vdots\\\\\n",
    "a_n\n",
    "\\end{array}\\right)\n",
    "=\n",
    "\\left(\\begin{array}{c}\n",
    "f(x_0)\\\\\n",
    "\\vdots\\\\\n",
    "\\vdots\\\\\n",
    "f(x_n)\n",
    "\\end{array}\\right)$\n",
    "\n",
    "La solución de este sistema es fácil de obtener en los casos de interpolación lineal ($n=1$) y cuadrática  ($n=2$), pero puede ser dificil de encontrar para un valor grande de $n$. "
   ]
  },
  {
   "cell_type": "markdown",
   "metadata": {
    "id": "Hdkxe3Ac9H1Q"
   },
   "source": [
    "---\n",
    "###  Interpolación Lineal\n",
    "\n",
    "La interpolación lineal ($n=1$) de una función $f(x)$ en un intervalo\n",
    "$[x_i,x_{i+1}]$ requiere conocer solamente  dos puntos.\n",
    "\n",
    "Resolviendo el sistema lineal resultante se obtiene el polinomio interpolado\n",
    "\n",
    "\\begin{equation}\n",
    "p_1(x) = f(x_i) + \\frac{f(x_{i+1}) - f(x_i)}{x_{i+1} - x_i} (x-x_i) + \\mathcal{O}(\\Delta x^2)\n",
    "\\end{equation}\n",
    "\n",
    "donde $\\Delta x = x_{i+1} - x_i$.\n",
    "\n",
    "El método de interpolación lineal provee un polinomio con una precisión de segundo orden que puede ser derivado una vez, pero esta derivada no es continua en los puntos extremos del intervalo de interpolación, $x_i$ y $x_{i+1}$."
   ]
  },
  {
   "cell_type": "markdown",
   "metadata": {
    "id": "PkSvlQdr9H1Q"
   },
   "source": [
    "#### Ejemplo. Interpolación Lineal por intervalos\n",
    "\n",
    "A continuación se leerá un conjunto de datos desde un archivo .txt y se interpolará linealmente entre cada par de puntos (*piecewise interpolation*)"
   ]
  },
  {
   "cell_type": "code",
   "execution_count": 1,
   "metadata": {
    "colab": {
     "base_uri": "https://localhost:8080/",
     "height": 279
    },
    "executionInfo": {
     "elapsed": 1442,
     "status": "ok",
     "timestamp": 1618614835520,
     "user": {
      "displayName": "Eduard Alexis Larranaga",
      "photoUrl": "https://lh3.googleusercontent.com/a-/AOh14GgCVABzEgj-rCdyxWa29RnA0kIYUCXAaVbnRYOEhQ=s64",
      "userId": "04402438389940282602"
     },
     "user_tz": 300
    },
    "id": "PmrGfDK59H1Q",
    "outputId": "be224bcf-c824-483f-94b3-aa48deeb75f4"
   },
   "outputs": [
    {
     "data": {
      "image/png": "[encoded data removed]",
      "text/plain": [
       "<Figure size 432x288 with 1 Axes>"
      ]
     },
     "metadata": {
      "needs_background": "light"
     },
     "output_type": "display_data"
    }
   ],
   "source": [
    "import numpy as np\n",
    "import matplotlib.pyplot as plt\n",
    "%matplotlib inline\n",
    "\n",
    "# Reading the data\n",
    "data = np.loadtxt('data_points.txt', comments='#', delimiter=',')\n",
    "x = data[:,0]\n",
    "f = data[:,1]\n",
    "\n",
    "plt.figure()\n",
    "plt.scatter(x,f)\n",
    "plt.xlabel(r'$x$')\n",
    "plt.ylabel(r'$f(x)$')\n",
    "plt.show()"
   ]
  },
  {
   "cell_type": "code",
   "execution_count": 2,
   "metadata": {},
   "outputs": [
    {
     "data": {
      "text/plain": [
       "(20, 2)"
      ]
     },
     "execution_count": 2,
     "metadata": {},
     "output_type": "execute_result"
    }
   ],
   "source": [
    "data.shape"
   ]
  },
  {
   "cell_type": "code",
   "execution_count": 3,
   "metadata": {
    "colab": {
     "base_uri": "https://localhost:8080/",
     "height": 350
    },
    "executionInfo": {
     "elapsed": 822,
     "status": "ok",
     "timestamp": 1618614839995,
     "user": {
      "displayName": "Eduard Alexis Larranaga",
      "photoUrl": "https://lh3.googleusercontent.com/a-/AOh14GgCVABzEgj-rCdyxWa29RnA0kIYUCXAaVbnRYOEhQ=s64",
      "userId": "04402438389940282602"
     },
     "user_tz": 300
    },
    "id": "xKa1Zeer9H1R",
    "outputId": "112d7872-6b9c-4347-dc58-564fdac288d9"
   },
   "outputs": [
    {
     "data": {
      "image/png": "[encoded data removed]",
      "text/plain": [
       "<Figure size 504x360 with 1 Axes>"
      ]
     },
     "metadata": {
      "needs_background": "light"
     },
     "output_type": "display_data"
    }
   ],
   "source": [
    "def linearInterpolation(x1, x2, f1, f2, x):\n",
    "    p1 = f1 + ((f2-f1)/(x2-x1))*(x-x1)\n",
    "    return p1\n",
    "    \n",
    "N = len(x)\n",
    "\n",
    "plt.figure(figsize=(7,5))\n",
    "plt.scatter(x, f, color='black')\n",
    "\n",
    "for i in range(N-1):\n",
    "    x_interval = np.linspace(x[i],x[i+1],3) \n",
    "    # Note that the number 3 in thie above line indeicates the number of \n",
    "    # points interpolated in each interval !\n",
    "    # (including the extreme points of the interval)\n",
    "    y_interval = linearInterpolation(x[i], x[i+1], f[i], f[i+1], x_interval)\n",
    "    plt.plot(x_interval, y_interval,'r')\n",
    "    \n",
    "plt.title(r'Linear Piecewise Interpolation')\n",
    "plt.xlabel(r'$x$')\n",
    "plt.ylabel(r'$p_1(x)$')\n",
    "plt.show()"
   ]
  },
  {
   "cell_type": "markdown",
   "metadata": {
    "id": "dDBPhlNv9H1R"
   },
   "source": [
    "---\n",
    "###  Interpolación Cuadrática\n",
    "\n",
    "La interpolación cuadrática ($n=2$) requiere información de tres puntos.\n",
    "\n",
    "Por ejemplo, se pueden tomar los tres puntos $x_i$ , $x_{i+1}$ y $x_{i+2}$ para interpolar la función $f(x)$ en el rango$[x_{i},x_{i+1}]$. Al solucionar el sistema de ecuaciones lineales correspondiente se obtiene el polinomio\n",
    "\n",
    "$p_2(x) = \\frac{(x-x_{i+1})(x-x_{i+2})}{(x_i - x_{i+1})(x_i - x_{i+2})} f(x_i)\n",
    "+ \\frac{(x-x_{i})(x-x_{i+2})}{(x_{i+1} - x_{i})(x_{i+1} - x_{i+2})} f(x_{i+1}) \n",
    "+ \\frac{(x-x_i)(x-x_{i+1})}{(x_{i+2} - x_i)(x_{i+2} - x_{i+1})} f(x_{i+2}) + \\mathcal{O}(\\Delta x^3)$,\n",
    "\n",
    "donde $\\Delta x = \\max \\{ x_{i+2}-x_{i+1},x_{i+1}-x_i \\}$. \n",
    "\n",
    "En este caso, el polinomio interpolado se puede derivar dos veces pero, aunque su primera derivada es continua, la segunda derivada no es continua en los puntos extremos del intervalo."
   ]
  },
  {
   "cell_type": "markdown",
   "metadata": {
    "id": "6ewqgEAA9H1S"
   },
   "source": [
    "#### Ejemplo. Interpolación Cuadrática por Intervalos\n",
    "\n",
    "A continuación se leerá un conjunto de datos desde un archivo .txt y se interpolará cuadráticamente en sub-intervalos (*quadratic piecewise interpolation*)"
   ]
  },
  {
   "cell_type": "code",
   "execution_count": 4,
   "metadata": {
    "colab": {
     "base_uri": "https://localhost:8080/",
     "height": 350
    },
    "executionInfo": {
     "elapsed": 636,
     "status": "ok",
     "timestamp": 1618615747073,
     "user": {
      "displayName": "Eduard Alexis Larranaga",
      "photoUrl": "https://lh3.googleusercontent.com/a-/AOh14GgCVABzEgj-rCdyxWa29RnA0kIYUCXAaVbnRYOEhQ=s64",
      "userId": "04402438389940282602"
     },
     "user_tz": 300
    },
    "id": "yCKXxkYi9H1S",
    "outputId": "ab1332b4-c546-4288-e106-fa166ea804b7"
   },
   "outputs": [
    {
     "data": {
      "image/png": "[encoded data removed]",
      "text/plain": [
       "<Figure size 504x360 with 1 Axes>"
      ]
     },
     "metadata": {
      "needs_background": "light"
     },
     "output_type": "display_data"
    }
   ],
   "source": [
    "import numpy as np\n",
    "import matplotlib.pyplot as plt\n",
    "\n",
    "# Reading the data\n",
    "data = np.loadtxt('data_points.txt', comments='#', delimiter=',')\n",
    "x = data[:,0]\n",
    "f = data[:,1]\n",
    "\n",
    "def quadraticInterpolation(x1, x2, x3, f1, f2, f3, x):\n",
    "    p2 = (((x-x2)*(x-x3))/((x1-x2)*(x1-x3)))*f1 +\\\n",
    "    (((x-x1)*(x-x3))/((x2-x1)*(x2-x3)))*f2 +\\\n",
    "    (((x-x1)*(x-x2))/((x3-x1)*(x3-x2)))*f3\n",
    "    return p2\n",
    "    \n",
    "N = len(x)\n",
    "\n",
    "plt.figure(figsize=(7,5))\n",
    "plt.scatter(x, f, color='black')\n",
    "\n",
    "for i in range(N-2):\n",
    "    x_interval = np.linspace(x[i],x[i+1],6) # 6 interpolate points in each interval\n",
    "    y_interval = quadraticInterpolation(x[i], x[i+1], x[i+2], f[i], f[i+1], f[i+2], x_interval)\n",
    "    plt.plot(x_interval, y_interval,'r')\n",
    "\n",
    "plt.title(r' Quadratic Polynomial Piecewise Interpolation')\n",
    "plt.xlabel(r'$x$')\n",
    "plt.ylabel(r'$p_2(x)$')\n",
    "plt.show()"
   ]
  },
  {
   "cell_type": "markdown",
   "metadata": {
    "id": "IMl__0YU9H1S"
   },
   "source": [
    "**Nota:** Por la forma de realizar la interpolación cuadrática, el último intervalo queda sin información. En esta región se puede extender la interpolación del penúltimo intervalo o también se puede interpolar un polinomio lineal. "
   ]
  },
  {
   "cell_type": "markdown",
   "metadata": {
    "id": "oTPxMw0g9H1S"
   },
   "source": [
    "---\n",
    "## Interpolación de Lagrange \n",
    "\n",
    "La **Interpolación de Lagrange Interpolation** también busca un polinomio de grado $n$ utilizando $n+1$ puntos, pero utiliza un método alternativo de encontrar los coeficientes. Para comprender esta idea, re-escribimos el polinomio lineal encontrado antes en la forma\n",
    "\n",
    "\\begin{equation} \n",
    "p_1(x) = \\frac{x-x_{i+1}}{x_i - x_{i+1}} f(x_i) + \\frac{x-x_i}{x_{i+1}-x_i} f(x_{i+1}) + \\mathcal{O}(\\Delta x^2),\n",
    "\\end{equation} \n",
    "\n",
    "o así,\n",
    "\n",
    "\\begin{equation} \n",
    "p_1(x) = \\sum_{j=i}^{i+1} f(x_j) L_{1j}(x) + \\mathcal{O}(\\Delta x^2) \n",
    "\\end{equation}\n",
    "\n",
    "donde se han introducido los *coeficientes de Lagrange*\n",
    "\n",
    "\\begin{equation} \n",
    "L_{1j}(x) = \\frac{x-x_k}{x_j-x_k}\\bigg|_{k\\ne j}.\n",
    "\\end{equation} \n",
    "\n",
    "Nótese que estos coeficientes aseguran que el polinomio pasa por los puntos conocidos, i.e. $p_1(x_i) = f(x_i)$ y $p_1(x_{i+1}) = f(x_{i+1})$\n",
    "\n",
    "La **interpolación de Lagrange** generaliza estas expresiones para un polinomio de grado $n$ que pasa por los $n+1$ puntos conocidos,\n",
    "\n",
    "\\begin{equation}\n",
    "p_n (x) = \\sum_{j=0}^{n} f(x_j) L_{nj}(x) + \\mathcal{O}(\\Delta x^{n+1})\\,, \\label{eq:LagrangeInterpolation}\n",
    "\\end{equation}\n",
    "\n",
    "donde los coeficientes de Lagrange se generalizan a \n",
    "\n",
    "\\begin{equation}\n",
    "L_{nj}(x) = \\prod_{k\\ne j}^{n} \\frac{x-x_k}{x_j - x_k}\\,.\n",
    "\\end{equation}\n",
    "\n",
    "De nuevo, es posible notar que estos coeficientes aseguran que el polinomio pasa por los puntos concidos $p(x_j) = f(x_j)$."
   ]
  },
  {
   "cell_type": "code",
   "execution_count": 5,
   "metadata": {
    "executionInfo": {
     "elapsed": 442,
     "status": "ok",
     "timestamp": 1618614967021,
     "user": {
      "displayName": "Eduard Alexis Larranaga",
      "photoUrl": "https://lh3.googleusercontent.com/a-/AOh14GgCVABzEgj-rCdyxWa29RnA0kIYUCXAaVbnRYOEhQ=s64",
      "userId": "04402438389940282602"
     },
     "user_tz": 300
    },
    "id": "6Z6KJLDh9H1S"
   },
   "outputs": [],
   "source": [
    "# %load lagrangeInterpolation\n",
    "'''\n",
    "Eduard Larrañaga\n",
    "Computational Astrophysics \n",
    "2020\n",
    "\n",
    "Lagrange Interpolation Method\n",
    "'''\n",
    "\n",
    "import numpy as np\n",
    "\n",
    "#Lagrange Coefficients\n",
    "def L(x, xi, j):\n",
    "\t'''\n",
    "\t------------------------------------------\n",
    "\tL(x, xi, j)\n",
    "\t------------------------------------------\n",
    "    Returns the Lagrange coefficient for the \n",
    "    interpolation evaluated at points x\n",
    "    Receives as arguments:\n",
    "    x : array of points where the interpolated\n",
    "    polynomial will be evaluated\n",
    "    xi : array of N data points \n",
    "    j : index of the coefficient to be \n",
    "    calculated\n",
    "\t------------------------------------------\n",
    "\t'''\n",
    "\t# Number of points\n",
    "\tN = len(xi) \n",
    "\n",
    "\tprod = 1\n",
    "\tfor k in range(N):\n",
    "\t\tif (k != j):\n",
    "\t\t\tprod = prod * (x - xi[k])/(xi[j] - xi[k])\n",
    "\treturn prod\n",
    "\n",
    "\n",
    "\n",
    "\n",
    "\n",
    "# Interpolated Polynomial\n",
    "def p(x, xi, fi):\n",
    "\t'''\n",
    "\t------------------------------------------\n",
    "    p(x, xi, fi)\n",
    "    ------------------------------------------\n",
    "    Returns the values of the Lagrange \n",
    "    interpolated polynomial in a set of points\n",
    "    defined by x\n",
    "    x : array of points where the interpolated\n",
    "    polynomial will be evaluated\n",
    "    xi : array of N data points points\n",
    "    fi : values of the function to be \n",
    "    interpolated\n",
    "    ------------------------------------------\n",
    "\t'''\n",
    "\t# Number of points\n",
    "\tN = len(xi)\n",
    "\n",
    "\tsumm = 0\n",
    "\tfor j in range(N):\n",
    "\t\tsumm = summ + fi[j]*L(x, xi, j)\n",
    "\treturn summ\n"
   ]
  },
  {
   "cell_type": "code",
   "execution_count": 10,
   "metadata": {
    "colab": {
     "base_uri": "https://localhost:8080/",
     "height": 350
    },
    "executionInfo": {
     "elapsed": 846,
     "status": "ok",
     "timestamp": 1618614984588,
     "user": {
      "displayName": "Eduard Alexis Larranaga",
      "photoUrl": "https://lh3.googleusercontent.com/a-/AOh14GgCVABzEgj-rCdyxWa29RnA0kIYUCXAaVbnRYOEhQ=s64",
      "userId": "04402438389940282602"
     },
     "user_tz": 300
    },
    "id": "odXQgGIg9H1T",
    "outputId": "f602330e-5c14-4ffc-c40f-9b50fed5fd35"
   },
   "outputs": [
    {
     "data": {
      "image/png": "[encoded data removed]",
      "text/plain": [
       "<Figure size 504x360 with 1 Axes>"
      ]
     },
     "metadata": {
      "needs_background": "light"
     },
     "output_type": "display_data"
    }
   ],
   "source": [
    "import numpy as np\n",
    "import matplotlib.pyplot as plt\n",
    "#import lagrangeInterpolation as lagi\n",
    "import sys\n",
    "\n",
    "# Reading the data\n",
    "data = np.loadtxt('data_points.txt', comments='#', delimiter=',')\n",
    "x = data[:,0]\n",
    "f = data[:,1]\n",
    "    \n",
    "N = len(x)\n",
    "\n",
    "# Degree of the polynomial to be interpolated piecewise\n",
    "n = 3\n",
    "\n",
    "# Check if the number of point is enough to interpolate such a polynomial\n",
    "if n>=N:\n",
    "    print('\\nThere are not enough points to interpolate this polynomial.')\n",
    "    print(f'Using {N:.0f} points it is possible to interpolate polynomials up to order n={N-1:.0f}')\n",
    "    sys.exit()\n",
    "\n",
    "    \n",
    "plt.figure(figsize=(7,5))\n",
    "plt.title(f'Lagrange Polynomial Piecewise Interpolation n={n:.0f}')\n",
    "plt.scatter(x, f, color='black')\n",
    "\n",
    "# Piecewise Interpolation Loop\n",
    "for i in range(N-n):\n",
    "    xi = x[i:i+n+1]\n",
    "    fi = f[i:i+n+1]\n",
    "    x_interval = np.linspace(x[i],x[i+1],3*n)\n",
    "    y_interval = p(x_interval,xi,fi)\n",
    "    plt.plot(x_interval, y_interval,'r')\n",
    "\n",
    "plt.xlabel(r'$x$')\n",
    "plt.ylabel(r'$p_n(x)$')\n",
    "plt.show()"
   ]
  },
  {
   "cell_type": "markdown",
   "metadata": {
    "id": "LbpS4s8M9H1T"
   },
   "source": [
    "Nótese que los últimos $n$ puntos no estan interpolados. Qué se puede hacer?"
   ]
  },
  {
   "cell_type": "code",
   "execution_count": 12,
   "metadata": {
    "colab": {
     "base_uri": "https://localhost:8080/",
     "height": 350
    },
    "executionInfo": {
     "elapsed": 712,
     "status": "ok",
     "timestamp": 1618614991910,
     "user": {
      "displayName": "Eduard Alexis Larranaga",
      "photoUrl": "https://lh3.googleusercontent.com/a-/AOh14GgCVABzEgj-rCdyxWa29RnA0kIYUCXAaVbnRYOEhQ=s64",
      "userId": "04402438389940282602"
     },
     "user_tz": 300
    },
    "id": "kT21fOBJ9H1T",
    "outputId": "7d5ebcb9-33c6-4c77-a4eb-27144925faac",
    "scrolled": true
   },
   "outputs": [
    {
     "data": {
      "image/png": "[encoded data removed]",
      "text/plain": [
       "<Figure size 504x360 with 1 Axes>"
      ]
     },
     "metadata": {
      "needs_background": "light"
     },
     "output_type": "display_data"
    }
   ],
   "source": [
    "import numpy as np\n",
    "import matplotlib.pyplot as plt\n",
    "#import lagrangeInterpolation as lagi\n",
    "import sys\n",
    "\n",
    "# Reading the data\n",
    "data = np.loadtxt('data_points.txt', comments='#', delimiter=',')\n",
    "x = data[:,0]\n",
    "f = data[:,1]\n",
    "    \n",
    "N = len(x)\n",
    "\n",
    "# Degree of the polynomial to be interpolated piecewise\n",
    "n = 6\n",
    "\n",
    "# Check if the number of point is enough to interpolate such a polynomial\n",
    "if n>=N:\n",
    "    print('\\nThere are not enough points to interpolate this polynomial.')\n",
    "    print(f'Using {N:.0f} points it is possible to interpolate polynomials up to order n={N-1:.0f}')\n",
    "    sys.exit()\n",
    "\n",
    "    \n",
    "plt.figure(figsize=(7,5))\n",
    "plt.title(f'Lagrange Polynomial Piecewise Interpolation n={n:.0f}')\n",
    "plt.scatter(x, f, color='black')\n",
    "\n",
    "# Piecewise Interpolation Loop\n",
    "for i in range(N-n):\n",
    "    xi = x[i:i+n+1]\n",
    "    fi = f[i:i+n+1]\n",
    "    x_interval = np.linspace(x[i],x[i+1],3*n)\n",
    "    y_interval = p(x_interval,xi,fi)\n",
    "    plt.plot(x_interval, y_interval,'r')\n",
    "\n",
    "# Piecewise Interpolation for the final N-n points, \n",
    "# using a lower degree polynomial\n",
    "while n>1:\n",
    "    m = n-1\n",
    "    for i in range(N-n,N-m):\n",
    "        xi = x[i:i+m+1]\n",
    "        fi = f[i:i+m+1]\n",
    "        x_interval = np.linspace(x[i],x[i+1],3*m)\n",
    "        y_interval = p(x_interval,xi,fi)\n",
    "        plt.plot(x_interval, y_interval,'r')\n",
    "    n=n-1\n",
    "\n",
    "\n",
    "plt.xlabel(r'$x$')\n",
    "plt.ylabel(r'$p_n(x)$')\n",
    "plt.show()"
   ]
  },
  {
   "cell_type": "markdown",
   "metadata": {
    "id": "ayscqd9A9H1U"
   },
   "source": [
    "### Fenómeno de Runge\n",
    "\n",
    "Por qué se se interpola por sub-intervalos? Cuando se tiene una gran cantidad de puntos conocidos, es posible interpolar un polinomio de grado alto. Sin embargo, el comportamiento del polinomio interpolado puede no ser el esperado (especialmente en los extremos del intervalo de interpolación) debido a la existencia de oscilaciones no controladas. A este comportamiento se le denomina el fenómeno de Runge.\n",
    "\n",
    "Por ejemplo, para un conjunto de datos con $20$ puntos es posible interpolar un polinomio de orden $n=19$,"
   ]
  },
  {
   "cell_type": "code",
   "execution_count": 13,
   "metadata": {
    "colab": {
     "base_uri": "https://localhost:8080/",
     "height": 350
    },
    "executionInfo": {
     "elapsed": 742,
     "status": "ok",
     "timestamp": 1618614999354,
     "user": {
      "displayName": "Eduard Alexis Larranaga",
      "photoUrl": "https://lh3.googleusercontent.com/a-/AOh14GgCVABzEgj-rCdyxWa29RnA0kIYUCXAaVbnRYOEhQ=s64",
      "userId": "04402438389940282602"
     },
     "user_tz": 300
    },
    "id": "wxbTq4HO9H1U",
    "outputId": "ebe1b830-0b9d-408b-efd9-afafd2a486c6"
   },
   "outputs": [
    {
     "data": {
      "image/png": "[encoded data removed]",
      "text/plain": [
       "<Figure size 504x360 with 1 Axes>"
      ]
     },
     "metadata": {
      "needs_background": "light"
     },
     "output_type": "display_data"
    }
   ],
   "source": [
    "import numpy as np\n",
    "import matplotlib.pyplot as plt\n",
    "import lagrangeInterpolation as lagi\n",
    "import sys\n",
    "\n",
    "# Reading the data\n",
    "data = np.loadtxt('data_points.txt', comments='#', delimiter=',')\n",
    "x = data[:,0]\n",
    "f = data[:,1]\n",
    "    \n",
    "N = len(x)\n",
    "\n",
    "# Higher Degree polynomial to be interpolated \n",
    "n = N-1\n",
    "\n",
    "plt.figure(figsize=(7,5))\n",
    "plt.title(f'Lagrange Polynomial Piecewise Interpolation n={n:.0f}')\n",
    "plt.scatter(x, f, color='black')\n",
    "\n",
    "#Interpolation of the higher degree polynomial\n",
    "x_int = np.linspace(x[0],x[N-1],3*n)\n",
    "y_int = lagi.p(x_int,x,f)\n",
    "plt.plot(x_int, y_int,'r')\n",
    "\n",
    "plt.xlabel(r'$x$')\n",
    "plt.ylabel(r'$p_n(x)$')\n",
    "plt.show()"
   ]
  },
  {
   "cell_type": "markdown",
   "metadata": {
    "id": "Kb1-cwJs9H1U"
   },
   "source": [
    "Sin embargo, es claro que el comportamiento del polinomio interpolado no es bueno en los extremos del intervalo considerado. Por esta razón, es muy aconsejable utilizar una interpolación de polinomios de grado pequeño por sub-intervalos."
   ]
  },
  {
   "cell_type": "markdown",
   "metadata": {
    "id": "HCcAMOfr9H1V"
   },
   "source": [
    "---\n",
    "## Interpolación Cúbica de Hermite por Intervalos\n",
    "\n",
    "La interpolación de Hermite es unc aso particular de interpolación polinomica que utiliza un conjunto de puntos conocidos en donde se conoce el valor de la función $f(x_j)$ y su derivada $f'(x_j)$. Al incorporar la primera derivada se pueden interpolar polinomios de un grado alto controlando las osiclaciones no deseadas. Adicionalmente, al conocer la primera derivada, se necesitan menos puntos para realizar la interpolación.\n",
    "\n",
    "Dentro de este tipo de interpolación, la más utilizada es la de polinomios de tercer orden. DE esta forma, en un intervalo $[x_i , x_{i+1}]$, se requiere conocer (o evaluar) los valores de $f(x_i)$, $f(x_{i+1})$, $f'(x_i)$ y $f'(x_{i+1})$ para obtener el polinomio interpolado de Hermite cúbico,\n",
    "\n",
    "\\begin{equation}\n",
    "H_3(x) = f(x_i)\\psi_0(z) + f(x_{i+1})\\psi_0(1-z)+ f'(x_i)(x_{i+1} - x_{i})\\psi_1(z) - f'(x_{i+1})(x_{i+1}-x_i)\\psi_1 (1-z),\n",
    "\\end{equation}\n",
    "\n",
    "donde \n",
    "\n",
    "\\begin{equation}\n",
    "z = \\frac{x-x_i}{x_{i+1}-x_i}\n",
    "\\end{equation}\n",
    "\n",
    "y\n",
    "\n",
    "\\begin{align}\n",
    "\\psi_0(z) =&2z^3 - 3z^2 + 1 \\\\\n",
    "\\psi_1(z) =&z^3-2z^2+z\\,\\,.\n",
    "\\end{align}\n",
    "\n",
    "Nótese que con esta formulación, es posible interpolar un polinomio de tercer orden en un intervalo con solo dos puntos. De esta forma, al trabajar con un conjunto de muhos puntos, se podría interpolar un polinomio cúbico entre cada par de datos, incluso en el último sub-intervalo!"
   ]
  },
  {
   "cell_type": "code",
   "execution_count": 14,
   "metadata": {
    "id": "BbMBed_p9H1V"
   },
   "outputs": [],
   "source": [
    "# %load HermiteInterpolation\n",
    "'''\n",
    "Eduard Larrañaga\n",
    "Computational Astrophysics \n",
    "2020\n",
    "\n",
    "Hermite Interpolation Method\n",
    "'''\n",
    "\n",
    "import numpy as np\n",
    "\n",
    "#Hermite Coefficients\n",
    "def psi0(z):\n",
    "\t'''\n",
    "\t------------------------------------------\n",
    "\tpsi0(z)\n",
    "\t------------------------------------------\n",
    "\tReturns the Hermite coefficients Psi_0\n",
    "\tfor the interpolation\n",
    "\tReceives as arguments: z\n",
    "\t------------------------------------------\n",
    "\t'''\n",
    "\tpsi_0 = 2*z**3 - 3*z**2 + 1\n",
    "\treturn psi_0\n",
    "\n",
    "def psi1(z):\n",
    "\t'''\n",
    "\t------------------------------------------\n",
    "\tpsi1(z)\n",
    "\t------------------------------------------\n",
    "\tReturns the Hermite coefficients Psi_1 for \n",
    "\tthe interpolation\n",
    "\tReceives as arguments: z\n",
    "\t------------------------------------------\n",
    "\t'''\n",
    "\tpsi_1 = z**3 - 2*z**2 + z\n",
    "\treturn psi_1\n",
    "\n",
    "\n",
    "# Interpolated Polynomial\n",
    "def H3(x, xi, fi, dfidx):\n",
    "\t'''\n",
    "\t------------------------------------------\n",
    "    H3(x, xi, fi, dfidx)\n",
    "    ------------------------------------------\n",
    "    Returns the values of the Cubic Hermite \n",
    "    interpolated polynomial in a set of points\n",
    "    defined by x\n",
    "    x : array of points where the interpolated\n",
    "    polynomial will be evaluated\n",
    "    xi : array of 2 data points \n",
    "    fi : array of values of the function at xi\n",
    "    dfidx : array of values of the derivative \n",
    "    of the function at xi\n",
    "    ------------------------------------------\n",
    "\t'''\n",
    "\t# variable z in the interpolation\n",
    "\tz = (x - xi[0])/(xi[1] - x[0])\n",
    "\t\n",
    "\th1 = psi0(z) * fi[0]\n",
    "\th2 = psi0(1-z)*fi[1]\n",
    "\th3 = psi1(z)*(xi[1] - xi[0])*dfidx[0]\n",
    "\th4 = psi1(1-z)*(xi[1] - xi[0])*dfidx[1]\n",
    "\tH =  h1 + h2 + h3 - h4\n",
    "\treturn H\n"
   ]
  },
  {
   "cell_type": "code",
   "execution_count": 15,
   "metadata": {
    "colab": {
     "base_uri": "https://localhost:8080/",
     "height": 350
    },
    "executionInfo": {
     "elapsed": 1166,
     "status": "ok",
     "timestamp": 1618615046356,
     "user": {
      "displayName": "Eduard Alexis Larranaga",
      "photoUrl": "https://lh3.googleusercontent.com/a-/AOh14GgCVABzEgj-rCdyxWa29RnA0kIYUCXAaVbnRYOEhQ=s64",
      "userId": "04402438389940282602"
     },
     "user_tz": 300
    },
    "id": "QbxpKsjH9H1V",
    "outputId": "1d56ed00-c398-4855-a5ec-8ef7fbe1f584"
   },
   "outputs": [
    {
     "data": {
      "image/png": "[encoded data removed]",
      "text/plain": [
       "<Figure size 504x360 with 1 Axes>"
      ]
     },
     "metadata": {
      "needs_background": "light"
     },
     "output_type": "display_data"
    }
   ],
   "source": [
    "import numpy as np\n",
    "import matplotlib.pyplot as plt\n",
    "import HermiteInterpolation as heri\n",
    "\n",
    "def Derivative(x, f):\n",
    "    '''\n",
    "    ------------------------------------------\n",
    "    Derivative(x, f)\n",
    "    ------------------------------------------\n",
    "    This function returns the numerical \n",
    "    derivative of a discretely-sample function \n",
    "    using one-side derivatives in the extreme \n",
    "    points of the interval and second order \n",
    "    accurate derivative in the middle points.\n",
    "    The data points may be evenly or unevenly\n",
    "    spaced.\n",
    "    ------------------------------------------\n",
    "    '''\n",
    "    # Number of points\n",
    "    N = len(x)\n",
    "    dfdx = np.zeros([N, 2])\n",
    "    dfdx[:,0] = x\n",
    "    \n",
    "    # Derivative at the extreme points\n",
    "    dfdx[0,1] = (f[1] - f[0])/(x[1] - x[0])\n",
    "    dfdx[N-1,1] = (f[N-1] - f[N-2])/(x[N-1] - x[N-2])\n",
    "    \n",
    "    #Derivative at the middle points\n",
    "    for i in range(1,N-1):\n",
    "        h1 = x[i] - x[i-1]\n",
    "        h2 = x[i+1] - x[i]\n",
    "        dfdx[i,1] = h1*f[i+1]/(h2*(h1+h2)) - (h1-h2)*f[i]/(h1*h2) -\\\n",
    "                    h2*f[i-1]/(h1*(h1+h2))\n",
    "    \n",
    "    return dfdx\n",
    "\n",
    "# Loading the data\n",
    "data = np.loadtxt('data_points.txt', comments='#', delimiter=',')\n",
    "x = data[:,0]\n",
    "f = data[:,1]\n",
    "N = len(x)\n",
    "\n",
    "# Calling the derivative function and chosing only the second column\n",
    "dfdx = Derivative(x,f)[:,1]\n",
    "\n",
    "plt.figure(figsize=(7,5))\n",
    "plt.title(f'Cubic Hermite Polynomial Piecewise Interpolation')\n",
    "plt.scatter(x, f, color='black')\n",
    "\n",
    "# Piecewise Hermite Interpolation Loop\n",
    "for i in range(N-1):\n",
    "    xi = x[i:i+2]\n",
    "    fi = f[i:i+2]\n",
    "    dfidx = dfdx[i:i+2]\n",
    "    x_interval = np.linspace(x[i],x[i+1],4)\n",
    "    y_interval = heri.H3(x_interval, xi, fi, dfidx)\n",
    "    plt.plot(x_interval, y_interval,'r')\n",
    "\n",
    "plt.xlabel(r'$x$')\n",
    "plt.ylabel(r'$H_3(x)$')\n",
    "plt.show()\n"
   ]
  },
  {
   "cell_type": "code",
   "execution_count": null,
   "metadata": {},
   "outputs": [],
   "source": []
  }
 ],
 "metadata": {
  "colab": {
   "collapsed_sections": [],
   "name": "Interpolation01.ipynb",
   "provenance": []
  },
  "kernelspec": {
   "display_name": "Python 3 (ipykernel)",
   "language": "python",
   "name": "python3"
  },
  "language_info": {
   "codemirror_mode": {
    "name": "ipython",
    "version": 3
   },
   "file_extension": ".py",
   "mimetype": "text/x-python",
   "name": "python",
   "nbconvert_exporter": "python",
   "pygments_lexer": "ipython3",
   "version": "3.9.5"
  }
 },
 "nbformat": 4,
 "nbformat_minor": 1
}
