{
 "cells": [
  {
   "cell_type": "code",
   "execution_count": 11,
   "id": "35b6abe3",
   "metadata": {},
   "outputs": [
    {
     "data": {
      "text/plain": [
       "2.000000000001067"
      ]
     },
     "execution_count": 11,
     "metadata": {},
     "output_type": "execute_result"
    }
   ],
   "source": [
    "import numpy as np\n",
    "\n",
    "def f(x):\n",
    "    return np.sin(x)\n",
    "\n",
    "\n",
    "fun(np.pi)\n",
    "\n",
    "def integral(a,b,n):\n",
    "    dx = (b-a)/n\n",
    "    rx = 0\n",
    "    A = 0\n",
    "    for i in range(int(n/2)):\n",
    "        A += (dx/3)*(f(rx) + 4*f(rx+dx) + f(rx+2*dx))\n",
    "        rx +=2*dx\n",
    "    return A\n",
    "\n",
    "integral(0, np.pi, 1000)\n"
   ]
  },
  {
   "cell_type": "code",
   "execution_count": null,
   "id": "10fbae33",
   "metadata": {},
   "outputs": [],
   "source": []
  }
 ],
 "metadata": {
  "kernelspec": {
   "display_name": "Python 3 (ipykernel)",
   "language": "python",
   "name": "python3"
  },
  "language_info": {
   "codemirror_mode": {
    "name": "ipython",
    "version": 3
   },
   "file_extension": ".py",
   "mimetype": "text/x-python",
   "name": "python",
   "nbconvert_exporter": "python",
   "pygments_lexer": "ipython3",
   "version": "3.9.5"
  }
 },
 "nbformat": 4,
 "nbformat_minor": 5
}
