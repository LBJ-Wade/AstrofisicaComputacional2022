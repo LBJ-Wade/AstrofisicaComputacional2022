{
 "cells": [
  {
   "cell_type": "markdown",
   "metadata": {
    "id": "1Z2b8W39eMnq"
   },
   "source": [
    "![Astrofisica Computacional](../logo.PNG)"
   ]
  },
  {
   "cell_type": "markdown",
   "metadata": {},
   "source": [
    "---\n",
    "## 32. Ecuaciones Diferenciales Ordinarias 01\n",
    "\n",
    "\n",
    "Eduard Larrañaga (ealarranaga@unal.edu.co)\n",
    "\n",
    "---"
   ]
  },
  {
   "cell_type": "markdown",
   "metadata": {
    "id": "TojCOZUEeMn1"
   },
   "source": [
    "\n",
    "### Resumen\n",
    "\n",
    "En este cuaderno se presentarán algunos de los métodos para resolver un sistema de ecuaciones diferenciales Ordinarias.\n",
    "\n",
    "`A. Garcia. Numerical Methods for Physics. (1999). Chapter 3 `\n",
    "\n",
    "---"
   ]
  },
  {
   "cell_type": "markdown",
   "metadata": {
    "id": "11t9KJdieMn2"
   },
   "source": [
    "## Ecuaciones Diferenciales Ordinarias (ODE)\n",
    "\n",
    "Un sistema de ecuaciones deiferenciales ordinarias (ODEs) de primer orden es una relación entre una función (vectorial) desconocida $y(x)$ y su derivada $y^\\prime(x)$. Un sistema general de  ODEs de primer orden se puede escribir en la forma\n",
    "\n",
    "\\begin{equation}\n",
    "y^\\prime (x) =f(x,y(x))\\,.\n",
    "\\end{equation}\n",
    "\n",
    "Una solución de la ecuación diferencial es una función $y(x)$ que satisface la ODE.\n",
    "\n",
    "En general, se tienen dos clases de problemas de ODE de primer orden:\n",
    "\n",
    "1. Problemas de valor inicial : $y(x_i)$ es dado en un punto inicial $x_i$.\n",
    "\n",
    "2. Problemas de valor de frontera (en dos puntos): $y$ es conicida en dos extremos (fronteras) del dominio y estas **condiciones de frontera** deben satisfacerse simultáneamente.\n",
    "\n",
    "\n",
    "\n",
    "\n",
    "\n",
    "---\n",
    "### Reducción a un problema de ODE de primer orden\n",
    "\n",
    "Cualquier ODE puede reducirse a un problema de primer orden introduciendo variables adicionales.\n",
    "\n",
    "#### Ejemplo\n",
    "\n",
    "\\begin{equation}\n",
    "y''(x) + q(x) y'(x) = r(x)\\,\\,.\n",
    "\\end{equation}\n",
    "\n",
    "Introduciendo una nueva función $z(x)$, este sistema se puede escribir como un sistema de ODE de primer orden,\n",
    "\n",
    "\\begin{align}\n",
    "\\text{(1)}\\,\\, y'(x) &= z(x)\\\\\n",
    "\\text{(2)}\\,\\, z'(x) &= r(x) - q(x) z(x).\n",
    "\\end{align}\n"
   ]
  },
  {
   "cell_type": "markdown",
   "metadata": {
    "id": "ftn1SFZHeMn3"
   },
   "source": [
    "---\n",
    "## Métodos Explícitos e Implícitos para resolver ODEs\n",
    "\n",
    "En terminos generales, los métodos para integrar un sistema de ODEs se clasifican en *explícitos* e *implícitos*.\n",
    "\n",
    "Los métodos explícitos utilizan diferencias para construir y actualizar la solución utilizando los valores actuales y previos de las variables. Algunos ejemplos de métodos explícitos son el método de Euler y los métodos Runge-Kutta.\n",
    "\n",
    "Los métodos implícitos evaluan el lado derecho de las ecuaciones diferenciales utilizando el nuevo valor de la función que se está buscando."
   ]
  },
  {
   "cell_type": "markdown",
   "metadata": {
    "id": "R2ykUwqVeMn3"
   },
   "source": [
    "--- \n",
    "## Errores y ODEs\n",
    "\n",
    "Todos los procedimientos para resolver numéricamente un sistema de ODEs de valor inicial implícan la transformación delas ecuaciioines diferenciales continuas en un proceso iterativo discreto que comienza a partir de una condición incial y retorna los valores de la función $y(x)$ en puntos $x_m = x_0 + m * h$, donde $h$ es el paso de discretización (el cual se asumirá como constante en esta descripción).\n",
    "\n",
    "Dos clases de error pueden surgir en estos procedimientos: \n",
    "\n",
    "1. **Error de redondeo.** Debido a la precicisión limitada de los números de punto flotante. El error de redondeo global es la sumade los errores de punto flotante locales (en cada paso de la iteración).\n",
    "\n",
    "\n",
    "2. **Error de truncamiento.** \n",
    "\n",
    "* Local: El error asociado con cada uno de los pasos cuando se reemplaza la descripción continua (e.g. una derivada) con una descripción discreta (e.g., diferencias finitas).\n",
    "\n",
    "* Global: Si el error de truncamiento local es $\\mathcal{O}(h^{n+1})$, entonces el error de truncamiento global será $\\mathcal{O}(h^n)$ porque el número de pasos utilizados para evaluar las derivadas hasta alcanzar un punto arbitrario $x_f$, comenzando desde $x_0$, es $\\frac{x_f - x_0}{h}$."
   ]
  },
  {
   "cell_type": "markdown",
   "metadata": {
    "id": "EEQW1NF7eMn4"
   },
   "source": [
    "---\n",
    "---\n",
    "\n",
    "## Método de Euler\n",
    "\n",
    "Considere el sigueinte sistema de ODEs,\n",
    "\n",
    "\\begin{equation}\n",
    "y' = f(x,y)\n",
    "\\end{equation}\n",
    "\n",
    "con la condición inicial $y(x_0) = y_0$. Introduciremos un tamaño de paso fijo $h$ y se obtendrá un estimado para $y(x)$ en el punto $x_1 = x_0 + h$ utilizando el teorema de Taylor,\n",
    "\n",
    "\\begin{equation}\n",
    "\\begin{aligned}\n",
    "y(x_1) &= y(x_0+h) = y(x_0) + y'(x_0) h + \\mathcal{O}(h^2)\\,,\\\\\n",
    "       &= y(x_0) + h f(x_0,y(x_0)) +  \\mathcal{O}(h^2)\\,.\n",
    "\\end{aligned}\n",
    "\\end{equation}\n",
    "\n",
    "\n",
    "De la misma forma, se obtiene el valor $y_{n+1}$ de la función en el punto $x_{n+1} = x_0 + (n+1) h$ mediante\n",
    "\n",
    "\\begin{equation}\n",
    "y_{n+1} = y(x_{n+1}) = y_n + h f(x_n,y(x_n)) + \\mathcal{O}(h^2)\\,.\n",
    "\\end{equation}\n",
    "\n",
    "\n",
    "Este se conoce como el **método de forward Euler**.\n",
    "\n",
    "---\n",
    "El método de Euler es extremadamente simple, pero puede ser impreciso y potencialmente inestable.\n",
    "\n",
    "El error de este método escala como $\\propto h^2$ localmente. Sin embargo, si $L$ es la longitud del dominio, entonces $h = L / N$, donde $N$ es el número de puntos usades para cubrir el dominio. Ya que se están tomando $N$ pasos de integración, el error global será $\\propto N h^2 = N L^2 / N^2 = L L/N \\propto h$. \n",
    "\n",
    "Por lo tanto, el método forward Euler es preciso a primer-orden globalmente.\n",
    "\n",
    "\n",
    "### Estabilidad\n",
    "\n",
    "Forward Euler es un método **explícito**. Esto significa que el valor $y_{n+1}$ es dado explícitamente en términos de cantidades conocidas como $y_n$ y $f(x_n,y_n)$.\n",
    " \n",
    "Los métodos explícitos son simples y eficientes pero debe utilizarse un tamaño de paso pequeño para asegurar estabilidad. \n"
   ]
  },
  {
   "cell_type": "markdown",
   "metadata": {
    "id": "qrPuHHkNtgb1"
   },
   "source": [
    "### Ejemplo. Ecuación de Transferencia Radiativa\n",
    "\n",
    "Consideraremos radiación electromagnética atravesando materia. En general, la intensidad de la radiación no permanecerá constante porque a lo largo de su camino, este puede perder o ganar energía por procesos de absorción o emisión. \n",
    "\n",
    "En el caso de un rayo de luz con intensidad $I$ que atraviesa un material con *coeficiente de absorción* $\\alpha$, se puede establecer un problema diferencial que representa la perdida de intensidad al viajar una distancia $ds$ así:\n",
    "\n",
    "\\begin{equation}\n",
    "\\frac{dI}{ds} = -\\alpha I\\,\\,, \\hspace{1cm}\\text{with} \\hspace{1cm}  \n",
    "I(0) = 1\\,,\\,\\, \\alpha > 0\\,\\,.\n",
    "\\end{equation}\n",
    "\n",
    "Por convención, un valor de $\\alpha$ positivo representa que el rayo pierde energía y se considerará que la intensidad original del haz estará normalizada a $1$.\n",
    "\n",
    "\n",
    "Es claro que la solución exacta de este problema es $I(s) = e^{-\\alpha s}$, la cual es estable y suave con $I(0) = 1$ y $I(\\infty) = 0$.\n",
    "\n",
    "Al aplicar el método de forward Euler se tiene\n",
    "\n",
    "\\begin{equation}\n",
    "I_{n+1} = I_n - \\alpha \\, h\\, I_n = (1-\\alpha h) I_{n} \n",
    "\\end{equation}\n",
    "\n",
    "\\begin{equation}\n",
    "I_{n+1}  = (1 - \\alpha h)^2 I_{n-1} = \\cdots = (1 - \\alpha h)^{n+1} I_0\\,\\,.\n",
    "\\end{equation}\n",
    "\n",
    "Esto implica que, para prevenir cualquier posible amplificación de los errores, se debe asegurar que $|1 - \\alpha h|<1$.\n",
    "\n",
    "En efecto, se pueden identificar tres posibles casos \n",
    "\n",
    "| | | |\n",
    "|:-: | :-: | :--|\n",
    "| $0 < 1- \\alpha h < 1$  | : | $(1- \\alpha h)^{n+1}$ decae (muy bueno!) |\n",
    "|$-1 < 1- \\alpha h < 0$ | : | $(1- \\alpha h)^{n+1}$ oscila (no tan bueno!)|\n",
    "|$1- \\alpha h < -1$     | : | $(1- \\alpha h)^{n+1}$ oscila y diverge (muy malo!)|\n",
    "\n",
    "\n",
    "Este análisis da un criterio de estabilidad para el método cuando $0< h < \\frac{2}{\\alpha}$."
   ]
  },
  {
   "cell_type": "code",
   "execution_count": 1,
   "metadata": {
    "colab": {
     "base_uri": "https://localhost:8080/",
     "height": 295
    },
    "executionInfo": {
     "elapsed": 989,
     "status": "ok",
     "timestamp": 1619367964416,
     "user": {
      "displayName": "Eduard Alexis Larranaga",
      "photoUrl": "https://lh3.googleusercontent.com/a-/AOh14GgCVABzEgj-rCdyxWa29RnA0kIYUCXAaVbnRYOEhQ=s64",
      "userId": "04402438389940282602"
     },
     "user_tz": 300
    },
    "id": "zLzCgrh2eMn4",
    "outputId": "9221637d-263f-43c0-97eb-99744839e2a5"
   },
   "outputs": [
    {
     "data": {
      "image/png": "[encoded data removed]",
      "text/plain": [
       "<Figure size 432x288 with 1 Axes>"
      ]
     },
     "metadata": {
      "needs_background": "light"
     },
     "output_type": "display_data"
    }
   ],
   "source": [
    "import numpy as np\n",
    "import matplotlib.pyplot as plt\n",
    "%matplotlib inline\n",
    "\n",
    "def ODE(I):\n",
    "    alpha = 2.  # Apsorption coefficient\n",
    "    rhs = -alpha*I\n",
    "    return rhs\n",
    "\n",
    "\n",
    "def FEuler(h, t0, q0):\n",
    "    '''\n",
    "    ------------------------------------------\n",
    "    FEuler(h, t0, q0)\n",
    "    ------------------------------------------\n",
    "    Forward Euler's method for solving a ODEs \n",
    "    system.\n",
    "    Arguments:\n",
    "    h: stepsize for the iteration\n",
    "    t0: independent parameter initial value\n",
    "    q0: numpy array with the initial values of\n",
    "        the functions in the ODEs system\n",
    "    ------------------------------------------\n",
    "    '''\n",
    "    f = ODE(q0)\n",
    "    q1 = q0 + h*f\n",
    "    return q1\n",
    "\n",
    "\n",
    "# Creation of the Grid\n",
    "s_0 = 0.\n",
    "s_f = 10.\n",
    "n = 1000\n",
    "#h = 0.2\n",
    "h = (s_f - s_0)/n\n",
    "\n",
    "\n",
    "# Initial value\n",
    "I_0 = 1.\n",
    "\n",
    "\n",
    "# Variables setup\n",
    "s = np.linspace(s_0, s_f, n)\n",
    "I = np.zeros(n)\n",
    "I[0] = I_0\n",
    "\n",
    "# Main Loop\n",
    "for i in range(1,n):\n",
    "    I[i] = FEuler(h, s[i-1], I[i-1])\n",
    "\n",
    "# Plot\n",
    "fig, ax = plt.subplots()\n",
    "ax.plot(s, I, label=f'$h=$ {h:.2f}')\n",
    "ax.set_title('Método Forward Euler')\n",
    "ax.set_xlabel(r'$s$')\n",
    "ax.set_ylabel(r'$I(s)$')\n",
    "plt.legend()\n",
    "plt.show()"
   ]
  },
  {
   "cell_type": "markdown",
   "metadata": {
    "id": "8Mf-nLgPeMn6"
   },
   "source": [
    "Ahora comprobaremos la estabilidad del método."
   ]
  },
  {
   "cell_type": "code",
   "execution_count": 2,
   "metadata": {
    "colab": {
     "base_uri": "https://localhost:8080/",
     "height": 295
    },
    "executionInfo": {
     "elapsed": 911,
     "status": "ok",
     "timestamp": 1619367967726,
     "user": {
      "displayName": "Eduard Alexis Larranaga",
      "photoUrl": "https://lh3.googleusercontent.com/a-/AOh14GgCVABzEgj-rCdyxWa29RnA0kIYUCXAaVbnRYOEhQ=s64",
      "userId": "04402438389940282602"
     },
     "user_tz": 300
    },
    "id": "O8A7_O7CeMn6",
    "outputId": "d5ab54df-6be8-4275-ec5a-89fa8f352889"
   },
   "outputs": [
    {
     "data": {
      "image/png": "[encoded data removed]",
      "text/plain": [
       "<Figure size 432x288 with 1 Axes>"
      ]
     },
     "metadata": {
      "needs_background": "light"
     },
     "output_type": "display_data"
    }
   ],
   "source": [
    "\n",
    "# Initial Condition\n",
    "I_0 = 1.\n",
    "\n",
    "# Creation of the grid\n",
    "s_0 = 0.\n",
    "s_f = 10.\n",
    "\n",
    "# Three stepsizes to compare\n",
    "n1 = 100\n",
    "h1 = (s_f - s_0)/n1\n",
    "\n",
    "n2 = 15\n",
    "h2 = (s_f - s_0)/n2\n",
    "\n",
    "n3 = 10\n",
    "h3 = (s_f - s_0)/n3\n",
    "\n",
    "\n",
    "# Arrays to store the solution\n",
    "s1 = np.linspace(s_0, s_f, n1)\n",
    "I1 = np.zeros(n1)\n",
    "I1[0] = I_0\n",
    "\n",
    "s2 = np.linspace(s_0, s_f, n2)\n",
    "I2 = np.zeros(n2)\n",
    "I2[0] = I_0\n",
    "\n",
    "s3 = np.linspace(s_0, s_f, n3)\n",
    "I3 = np.zeros(n3)\n",
    "I3[0] = I_0\n",
    "\n",
    "for i in range(1,n1):\n",
    "    I1[i] = FEuler(h1, s1[i-1], I1[i-1])\n",
    "\n",
    "for i in range(1,n2):\n",
    "    I2[i] = FEuler(h2, s2[i-1], I2[i-1])\n",
    "\n",
    "for i in range(1,n3):\n",
    "    I3[i] = FEuler(h3, s3[i-1], I3[i-1])\n",
    "\n",
    "fig, ax = plt.subplots()\n",
    "ax.plot(s3, I3, color='crimson', label=f'$h_3=$ {h3:.1f}')\n",
    "ax.plot(s2, I2, color='orange', label=f'$h_2=$ {h2:.1f}')\n",
    "ax.plot(s1, I1, color='cornflowerblue', label=f'$h_1=$ {h1:.1f}')\n",
    "\n",
    "ax.set_title('Método Forward Euler')\n",
    "ax.set_xlabel(r'$s$')\n",
    "ax.set_ylabel(r'$I(s)$')\n",
    "plt.legend()\n",
    "plt.show()"
   ]
  },
  {
   "cell_type": "markdown",
   "metadata": {
    "id": "s4G4A1MueMn7"
   },
   "source": [
    "---\n",
    "## Método Predictor-Corrector\n",
    "\n",
    "Considere la siguiente modificación del método de Euler, \n",
    "\n",
    "\\begin{equation}\n",
    "y_{n+1} = y_{n} + h\\, \\frac{f(x_n, y_n) + f(x_{n+1},y_{n+1})}{2}\\,\\,.\n",
    "\\end{equation}\n",
    "\n",
    "Esta puede dar un mejor estimado debido a que utiliza la *pendiente promedio* de $y$. \n",
    "\n",
    "Sin embargo, cabe notar que en este paso aún no se conoce $y_{n+1}$. Para evitar este inconveniente, se puede utilizar el método usual de forward Euler para estimar incialmente el valor de $y_{n+1}$ y luego, utilizar este valor en la modificación presentada arriba. De esta forma, el método completo tendría la estructura\n",
    "\n",
    "\\begin{equation}\n",
    "\\begin{aligned}\n",
    "y_{n+1}^{(\\mathrm{P})} &= y_n + h f(x_n,y_n)\\,\\,, & \\text{(predictor)}\\\\\n",
    "y_{n+1} &= y_n + \\frac{h}{2} \\left[f(x_n,y_n) + f(x_{n+1}, y^{(\\mathrm{P})}_{n+1}) \\right]\\,\\,. & \\text{(corrector)}\n",
    "\\end{aligned}\n",
    "\\end{equation}\n",
    "\n",
    "Es posible mostrar que el error del **método predictor-corrector**  es localmente de $h^3$ y globalmente de $h^2$.  Esto quiere decir que este método es preciso a segundo orden, mientras que Euler es preciso a primer orden. "
   ]
  },
  {
   "cell_type": "markdown",
   "metadata": {
    "id": "HSsmYkdQeMn7"
   },
   "source": [
    "---\n",
    "---\n",
    "\n",
    "## Métodos  Runge-Kutta \n",
    "\n",
    "La idea detrás de los métodos Runge-Kutta (RK) es ajustar la expansión en serie de Taylor de $y(x)$ en $x=x_n$ hasta el orden más alto posible.\n",
    "\n",
    "\n",
    "---\n",
    "### RK2. Método RK de segundo orden\n",
    "\n",
    "Para el sistema\n",
    "\n",
    "\\begin{equation}\n",
    "\\frac{dy}{dx} = f(x,y)\\,\\,,\n",
    "\\end{equation}\n",
    "\n",
    "se considerará la iteración \n",
    "\n",
    "\\begin{equation}\n",
    "y_{n+1} = y_n + a k_1 + b k_2\\,\\,,\n",
    "\\end{equation}\n",
    "\n",
    "donde\n",
    "\n",
    "\\begin{align}\n",
    "k_1 &= h\\,f(x_n,y_n)\\,\\,,\\nonumber\\\\\n",
    "k_2 &= h\\,f(x_n+\\alpha h,y_n + \\beta k_1)\\,\\,.\n",
    "\\end{align}\n",
    "\n",
    "Los cuatro parámetros desconocidos $a,b,\\alpha,\\beta$ se fijan de tal forma que la ecuación para $y_{n+1}$ concuerde con la expansión en serie de Taylor de $y' = f(x,y)$:\n",
    "\n",
    "\\begin{align}\n",
    "y_{n+1} &= y_n + h y_n' + \\frac{h^2}{2} y_n'' + \\mathcal{O}(h^3)\\,\\,,\\nonumber\\\\\n",
    "&= y_n + h f(x_n,y_n) + \\frac{h^2}{2} \\frac{d}{dx} f(x_n,y_n) + \\mathcal{O}(h^3)\\,\\,,\\nonumber\\\\\n",
    "&= y_n + h f_n + h^2 \\frac{1}{2}\\left( \\frac{\\partial f_n}{\\partial x} + \\frac{\\partial f_n}{\\partial y} f_n \\right) + \\mathcal{O}(h^3)\\,\\,,\n",
    "\\end{align}\n",
    "\n",
    "donde $f_n = f(x_n,y_n)$. Al considerar la suposición hecha arriba,\n",
    "\n",
    "\\begin{equation}\n",
    "y_{n+1} = y_n + a h f_n + b h f(x_n + \\alpha h, y_n + \\beta h f_n)\\,\\,.\n",
    "\\label{eq:rk2c}\n",
    "\\end{equation}\n",
    "\n",
    "Al expandir el último término en serie de Taylor a primer orden $(x_n,y_n)$, se tiene\n",
    "\n",
    "\\begin{equation}\n",
    "y_{n+1} = y_n + a h f_n + bh\\left[ f_n + \\frac{\\partial f}{\\partial x}(x_n,y_n) \\alpha h + \n",
    "\\frac{\\partial f}{\\partial y}(x_n,y_n) \\beta h f_n \\right]\\,\\,.\n",
    "\\end{equation}\n",
    "\n",
    "Una comparaión directa de los resultados permite identificar las constantes \n",
    "\n",
    "\\begin{equation}\n",
    "a+b = 1\\,\\,,\\hspace{2em} \\alpha b = \\frac{1}{2}\\,\\,\\hspace{2em} \\beta b = \\frac{1}{2}\\,\\,.\n",
    "\\end{equation}\n",
    "\n",
    "\n",
    "Sin embargo, se nota que solo se tienen 3 ecuaciones para determianr 4 parámetros. Esto quiere decir que tomando un valor arbitrario para uno de ellos, se fijan los restantes. Una elección típica es\n",
    "\n",
    "\\begin{equation}\n",
    "\\alpha = \\beta = \\frac{1}{2}\\,\\,,\\hspace{2em} a=0\\,\\,, \\hspace{2em} b = 1\\,\\,.\n",
    "\\end{equation}\n",
    "\n",
    "Con esto se obtienen las ecuaciones del método RK2:\n",
    "\n",
    "\\begin{align}\n",
    "k_1 & = h f(x_n,y_n)\\,\\,,\\\\\n",
    "k_2 & = h f(x_n + \\frac{1}{2}h, y_n + \\frac{1}{2}k_1)\\,\\,,\\\\\n",
    "y_{n+1} & = y_n + k_2 + \\mathcal{O}(h^3)\\,\\,.\n",
    "\\end{align}\n",
    "\n",
    "Este método es localmente  $\\mathcal{O}(h^3)$ y globalmente $\\mathcal{O}(h^2)$.\n",
    "\n",
    "**Nota:** Utilizando $a=b=1/2$ y $\\alpha=\\beta=1$, se recupera el método predictor-corrector!\n"
   ]
  },
  {
   "cell_type": "markdown",
   "metadata": {
    "id": "TL3_t5NveMn8"
   },
   "source": [
    "---\n",
    "\n",
    "### RK3\n",
    "\n",
    "\\begin{align}\n",
    "k_1 &=h f(x_n,y_n)\\,\\,\\nonumber\\\\\n",
    "k_2 &= h f(x_n + \\frac{h}{2},y_n + \\frac{1}{2} k_1)\\,\\,,\\nonumber\\\\\n",
    "k_3 &= h f(x_n + h, y_n - k_1 + 2 k_2)\\,\\,,\\nonumber\\\\\n",
    "y_{n+1} &= y_n + \\frac{1}{6}(k_1 + 4 k_2 + k_3) + \\mathcal{O}(h^4)\\,\\,.\n",
    "\\end{align}\n",
    "\n",
    "\n",
    "--- \n",
    "\n",
    "### RK4\n",
    "\n",
    "\\begin{align}\n",
    "k_1 &=h f(x_n,y_n)\\,\\,,\\\\\n",
    "k_2 &=h f(x_n + \\frac{h}{2},y_n + \\frac{1}{2}k_1)\\,\\,,\\nonumber\\\\\n",
    "k_3 &=h f(x_n + \\frac{h}{2},y_n + \\frac{1}{2}k_2)\\,\\,,\\nonumber\\\\\n",
    "k_4 &=h f(x_n+h,y_n + k_3)\\,\\,,\\nonumber\\\\\n",
    "y_{n+1} &= y_n + \\frac{1}{6}(k_1 + 2 k_2 + 2 k_3 + k_4) + \\mathcal{O}(h^5)\\,\\,.\n",
    "\\end{align}"
   ]
  },
  {
   "cell_type": "markdown",
   "metadata": {
    "id": "vo6PUCSGeMn9"
   },
   "source": [
    "---\n",
    "\n",
    "### Ejemplo. Ecuación de Transferencia Radiativa\n",
    "\n",
    "Considere de nuevo ODE de transferencia radiativa con un coeficiente de absorción.\n",
    "\n",
    "\\begin{equation}\n",
    "\\frac{dI}{ds} = -\\alpha I\\,\\,, \\hspace{1cm}\\text{with} \\hspace{1cm}  \n",
    "I(0) = 1\\,,\\,\\, \\alpha > 0.\n",
    "\\end{equation}\n"
   ]
  },
  {
   "cell_type": "code",
   "execution_count": 3,
   "metadata": {
    "colab": {
     "base_uri": "https://localhost:8080/",
     "height": 295
    },
    "executionInfo": {
     "elapsed": 1955,
     "status": "ok",
     "timestamp": 1619368263944,
     "user": {
      "displayName": "Eduard Alexis Larranaga",
      "photoUrl": "https://lh3.googleusercontent.com/a-/AOh14GgCVABzEgj-rCdyxWa29RnA0kIYUCXAaVbnRYOEhQ=s64",
      "userId": "04402438389940282602"
     },
     "user_tz": 300
    },
    "id": "V-UNno_FeMn-",
    "outputId": "e155ecb7-7e32-4f09-9f4c-539c79ca9332"
   },
   "outputs": [
    {
     "data": {
      "image/png": "[encoded data removed]",
      "text/plain": [
       "<Figure size 432x288 with 1 Axes>"
      ]
     },
     "metadata": {
      "needs_background": "light"
     },
     "output_type": "display_data"
    }
   ],
   "source": [
    "import numpy as np\n",
    "import matplotlib.pyplot as plt\n",
    "from RK4 import *\n",
    "\n",
    "def ODE(s, I, alpha=1.):\n",
    "    rhs = -alpha*I\n",
    "    return rhs\n",
    "\n",
    "\n",
    "# Initial Condition\n",
    "I_0 = 1.\n",
    "\n",
    "\n",
    "# Creation of the grid\n",
    "s_0 = 0.\n",
    "s_f = 20.\n",
    "\n",
    "# Two stepsizes to compare\n",
    "n1 = 100\n",
    "h1 = (s_f - s_0)/n1\n",
    "\n",
    "n2 = 15\n",
    "h2 = (s_f - s_0)/n2\n",
    "\n",
    "n3 = 10\n",
    "h3 = (s_f - s_0)/n3\n",
    "\n",
    "# Arrays to store the solution\n",
    "s1 = np.linspace(s_0, s_f, n1)\n",
    "I1 = np.zeros(n1)\n",
    "I1[0] = I_0\n",
    "\n",
    "s2 = np.linspace(s_0, s_f, n2)\n",
    "I2 = np.zeros(n2)\n",
    "I2[0] = I_0\n",
    "\n",
    "s3 = np.linspace(s_0, s_f, n3)\n",
    "I3 = np.zeros(n3)\n",
    "I3[0] = I_0\n",
    "\n",
    "for i in range(1,n1):\n",
    "    I1[i] = RK4(ODE, h1, 0, I1[i-1])\n",
    "\n",
    "for i in range(1,n2):\n",
    "    I2[i] = RK4(ODE, h2, 0, I2[i-1])\n",
    "\n",
    "for i in range(1,n3):\n",
    "    I3[i] = RK4(ODE, h3, 0, I3[i-1])\n",
    "\n",
    "fig, ax = plt.subplots()\n",
    "ax.plot(s1, I1, color='cornflowerblue', label=f'$h_1=$ {h1:.1f}')\n",
    "ax.plot(s2, I2, color='orange', label=f'$h_2=$ {h2:.1f}')\n",
    "ax.plot(s3, I3, color='crimson', label=f'$h_3=$ {h3:.1f}')\n",
    "\n",
    "ax.set_title('Método RK4')\n",
    "ax.set_xlabel(r'$s$')\n",
    "ax.set_ylabel(r'$I(s)$')\n",
    "plt.legend()\n",
    "plt.show()\n"
   ]
  },
  {
   "cell_type": "markdown",
   "metadata": {
    "id": "IGHn0eKGeMn-"
   },
   "source": [
    "## Métodos Runge-Kutta con paso adaptativo\n",
    "\n",
    "Los métodos RK descritos arriba requieren la elección de un paso fijo $h$ pero, como se debe escoger su valor?\n",
    "\n",
    "U-na opción interesante es ecoger un valor de **tolerancia al error** y dejar que el valor de $h$ sea elegido automáticamente para que el método cumpla con esta tolerancia. \n",
    "\n",
    "Esto implica que se necesita\n",
    "\n",
    "1. Un método para estimar el error.\n",
    "2. Una forma de ajustar el tamaño del paso $h$ si el error es muy grande (o muy pequeño)."
   ]
  },
  {
   "cell_type": "markdown",
   "metadata": {
    "id": "E1K6OEbweMn-"
   },
   "source": [
    "---\n",
    "### Formula RK con estimación de errores\n",
    "\n",
    "Ahora presentaremos un esquema para el RK de orden 3/4 (Bogaki and Shampine)\n",
    "\n",
    "\\begin{equation}\n",
    "\\begin{aligned}\n",
    "k_1 &= h f(x_n, y_n)\\,\\,,\\\\\n",
    "k_2 &= h f(x_n + \\frac{1}{2} h, y_n + \\frac{1}{2} k_1)\\,\\,,\\\\\n",
    "k_3 &= h f(x_n + \\frac{3}{4} h, y_n + \\frac{3}{4} k_2)\\,\\,,\\\\\n",
    "y_{n+1} &= y_n + \\frac{2}{9} k_1 + \\frac{1}{3} k_2 + \\frac{4}{9} k_3 + \\mathcal{O}(h^4)\\,\\,\\\\\n",
    "k_4 &= h f(x_n + h, y_{n+1})\\,\\,\\\\\n",
    "y^*_{n+1} &= y_n + \\frac{7}{24} k_1 + \\frac{1}{4}k_2 + \\frac{1}{3}k_3 + \\frac{1}{8} k_4 + \\mathcal{O}(h^3)\\,\\,.\n",
    "\\end{aligned}\n",
    "\\end{equation}\n",
    "\n",
    "El error está medido por la cantidad \n",
    "\n",
    "\\begin{equation}\n",
    "\\delta y_{n+1} = y_{n+1} - y^*_{n+1}\\,\\,.\n",
    "\\end{equation}\n",
    "\n",
    "\n",
    "En este esquema, la función $k_4$ del paso $n$ es igual a la función $k_1$ del paso $n+1$. Por lo tanto, no es necesario evaluar de nuevo $k_1$ en el paso $n+1$; simplemente se reserva el valor calculado de $k_4$ y se re-utiliza en el siguiente paso. Este truco se denomina **FSAL (First Same As Last)**.\n",
    "\n",
    "\n",
    "Dado el error estimado $\\delta y_{n+1} = y_{n+1} - y^*_{n+1}$, se exige que permanezca más pequeño que el valor de tolerancia, $|\\delta y_{n+1}| \\le\n",
    "\\epsilon$ ajustando el valor de $h$.\n",
    "\n",
    "\n",
    "Usualmente se utiliza \n",
    "\n",
    "\\begin{equation}\n",
    "\\epsilon = \\epsilon_a + |y_{n+1}|\\epsilon_r \n",
    "\\end{equation}\n",
    "\n",
    "donde\n",
    "\n",
    "$\\epsilon_a$ : tolerancia del error absoluto\n",
    "\n",
    "$\\epsilon_r$ : tolerancia del error relativo\n",
    "\n",
    "### Ajuste del paso $h$\n",
    "\n",
    "Se define \n",
    "\n",
    "\\begin{equation}\n",
    "\\Delta = \\frac{|\\delta y_{n+1}|}{\\epsilon}\\,\\,,\n",
    "\\end{equation}\n",
    "\n",
    "y se requiere que  $\\Delta \\approx 1$.\n",
    "\n",
    "Si se tiene un algoritmo con, $\\Delta \\sim \\mathcal{O}(h^p)$, es posible ajusta el valor de $\\Delta$ modificando  el paso $h$. En efecto al cambiar el tamaño del paso a \n",
    "\n",
    "\\begin{equation}\n",
    "h_\\text{desired} = h \\left|\\frac{\\Delta_\\text{desired}}{\\Delta} \\right| ^\\frac{1}{p}\\,\\,,\n",
    "\\end{equation}\n",
    "\n",
    "se obtendrá un valor de $\\Delta_\\text{desired} = 1$.\n",
    "\n",
    "---\n",
    "\n",
    "De esta forma, una forma general del algoritmo para ajustar $h$ es el siguiente:\n",
    "\n",
    "1. Considere un paso $h$ y calcule el valor de $\\Delta$.\n",
    "2. Si $\\Delta > 1$ (error muy grande), entonces\n",
    "\n",
    "  - defina $h_\\text{new} = h \\left| \\frac{1}{\\Delta} \\right|^{\\frac{1}{p}} S$, donde $S$ es un factor de suavizado ($\\sim$ $0.9$ aproximadamente).\n",
    "  \n",
    "  - **Descarte** la iteración anterior y repitala con $h_\\mathrm{new}$.\n",
    "  \n",
    "3. Si $\\Delta < 1$ (error muy), entonces\n",
    "\n",
    "  - defina $h_\\text{new} = h \\left| \\frac{1}{\\Delta} \\right|^{\\frac{1}{p}} S$.\n",
    "  \n",
    "  - **Acepte** la iteración anteriorold y realice la siguiente iteración con $h_\\text{new}$.\n",
    "\n"
   ]
  },
  {
   "cell_type": "code",
   "execution_count": null,
   "metadata": {
    "id": "lgtyEGaieMn_"
   },
   "outputs": [],
   "source": []
  }
 ],
 "metadata": {
  "colab": {
   "collapsed_sections": [],
   "name": "ODE01.ipynb",
   "provenance": [],
   "toc_visible": true
  },
  "kernelspec": {
   "display_name": "Python 3 (ipykernel)",
   "language": "python",
   "name": "python3"
  },
  "language_info": {
   "codemirror_mode": {
    "name": "ipython",
    "version": 3
   },
   "file_extension": ".py",
   "mimetype": "text/x-python",
   "name": "python",
   "nbconvert_exporter": "python",
   "pygments_lexer": "ipython3",
   "version": "3.9.7"
  }
 },
 "nbformat": 4,
 "nbformat_minor": 1
}
