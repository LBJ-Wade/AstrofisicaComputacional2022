{
 "cells": [
  {
   "cell_type": "markdown",
   "metadata": {
    "id": "QGIUMEbpB_Ow"
   },
   "source": [
    "![Astrofisica Computacional](../../logo.png)"
   ]
  },
  {
   "cell_type": "markdown",
   "metadata": {},
   "source": [
    "---\n",
    "## Spectros en archivos  `FITS`.\n",
    "\n",
    "\n",
    "Eduard Larrañaga (ealarranaga@unal.edu.co)\n",
    "\n",
    "---"
   ]
  },
  {
   "cell_type": "markdown",
   "metadata": {
    "id": "-pzkgKdcB_O1"
   },
   "source": [
    "### Resumen\n",
    "\n",
    "En este cuaderno se untilizará la librería `astropy` para leer un archivo .fits y visualizar un espectro astronómico.\n",
    "\n",
    "\n",
    "---"
   ]
  },
  {
   "cell_type": "markdown",
   "metadata": {
    "id": "u-DxgKmeB_O1"
   },
   "source": [
    "## 1. Los datos .FITS \n",
    "\n",
    "Ahora se descargará un espectro de una galaxia en formato .fits desde el SDSS Database. Para ello vaya a\n",
    "\n",
    "https://dr16.sdss.org/\n",
    "\n",
    "y haga click en la sección de **Optical Spectra**. Seleccione para acceder al espectro en el PlateID 271. Desde la tabla de espectros, descargue el archivo correspondiente a la FiberID 5, con el specobj_id: 305120280735410176. \n",
    "\n",
    "De esta forma, la identificación completa del espectro será\n",
    "\n",
    "Plate: 271\\\n",
    "MJD: 51883\\\n",
    "Fiber: 5\n",
    "\n",
    "También es posible encontrar este espectro utilizando esta información en la página\n",
    "\n",
    "https://dr16.sdss.org/optical/spectrum/search\n",
    "\n",
    "\n",
    "El archivo .fits descargado corresponde al espectro de la galaxia  SDSS J102008.09-004750.7. La información completa de este objeto puede verse al hacer click en el link CAS en la tabla de espectros, que llevará a la página\n",
    "\n",
    "http://skyserver.sdss.org/dr16/en/tools/explore/summary.aspx?plate=271&mjd=51883&fiber=5\n",
    "\n",
    "\n",
    "\n",
    "---\n",
    "\n",
    "### 1.1. Abrir el archivo .fits\n",
    "\n",
    "De nuevo se utilizará la función `astropy.io.fits.open()` para acceder a la información del archivo, pero esta vez incluiremos la opción `memmap=True` para prevenir inconvenientes con el almacenamiento en RAM."
   ]
  },
  {
   "cell_type": "code",
   "execution_count": 1,
   "metadata": {
    "id": "ZP8a5XLAB_O1"
   },
   "outputs": [
    {
     "name": "stdout",
     "output_type": "stream",
     "text": [
      "Filename: spec-0271-51883-0005.fits\n",
      "No.    Name      Ver    Type      Cards   Dimensions   Format\n",
      "  0  PRIMARY       1 PrimaryHDU     140   ()      \n",
      "  1  COADD         1 BinTableHDU     26   3827R x 8C   [E, E, E, J, J, E, E, E]   \n",
      "  2  SPECOBJ       1 BinTableHDU    262   1R x 126C   [6A, 4A, 16A, 23A, 16A, 8A, E, E, E, J, E, E, J, B, B, B, B, B, B, J, 22A, 19A, 19A, 22A, 19A, I, 3A, 3A, 1A, J, D, D, D, E, E, 19A, 8A, J, J, J, J, K, K, J, J, J, J, J, J, K, K, K, K, I, J, J, J, J, 5J, D, D, 6A, 21A, E, E, E, J, E, 24A, 10J, J, 10E, E, E, E, E, E, E, J, E, E, E, J, E, 5E, E, 10E, 10E, 10E, 5E, 5E, 5E, 5E, 5E, J, J, E, E, E, E, E, E, 25A, 21A, 10A, E, E, E, E, E, E, E, E, J, E, E, J, 1A, 1A, E, E, J, J, 1A, 5E, 5E]   \n",
      "  3  SPZLINE       1 BinTableHDU     48   29R x 19C   [J, J, J, 13A, D, E, E, E, E, E, E, E, E, E, E, J, J, E, E]   \n"
     ]
    }
   ],
   "source": [
    "import numpy as np\n",
    "from matplotlib import pyplot as plt\n",
    "\n",
    "from astropy.io import fits\n",
    "from astropy.table import Table\n",
    "\n",
    "hdul = fits.open('spec-0271-51883-0005.fits', memmap=True)\n",
    "hdul.info()"
   ]
  },
  {
   "cell_type": "markdown",
   "metadata": {
    "id": "f5yjE1MCB_O2"
   },
   "source": [
    "Note que este archivo contiene 3 objetos HDU. En el PRIMARY se tiene la información general del archivo"
   ]
  },
  {
   "cell_type": "code",
   "execution_count": 2,
   "metadata": {
    "colab": {
     "base_uri": "https://localhost:8080/"
    },
    "executionInfo": {
     "elapsed": 982,
     "status": "ok",
     "timestamp": 1609120201414,
     "user": {
      "displayName": "Eduard Alexis Larranaga",
      "photoUrl": "https://lh3.googleusercontent.com/a-/AOh14GgCVABzEgj-rCdyxWa29RnA0kIYUCXAaVbnRYOEhQ=s64",
      "userId": "04402438389940282602"
     },
     "user_tz": 300
    },
    "id": "lauyXf2cB_O3",
    "outputId": "f932f2be-1490-4f63-e830-2698e20eb212",
    "scrolled": false
   },
   "outputs": [
    {
     "data": {
      "text/plain": [
       "SIMPLE  =                    T / conforms to FITS standard                      \n",
       "BITPIX  =                    8 / array data type                                \n",
       "NAXIS   =                    0 / number of array dimensions                     \n",
       "EXTEND  =                    T                                                  \n",
       "TAI     =        4482562363.15 / 1st row - Number of seconds since Nov 17 1858  \n",
       "RA      =            154.26373 / 1st row - Right ascension of telescope boresigh\n",
       "DEC     =            0.023615  / 1st row - Declination of telescope boresight (d\n",
       "EQUINOX =              2000.00 /                                                \n",
       "RADECSYS= 'FK5     '           /                                                \n",
       "TAIHMS  = '11:50:32.96'        / 1st row - TAI time (HH:MM:SS.SS) (TAI-UT = appr\n",
       "TIMESYS = 'tai     '           / TAI, not UTC                                   \n",
       "MJD     =                51883 / MJD of observation                             \n",
       "MJDLIST = '51879 51883'        /                                                \n",
       "VERSION = 'v3_19_1 '           / version of IOP                                 \n",
       "CAMVER  = 'SPEC2 v4_5'         / Camera code version                            \n",
       "OBSERVER= 'prn     '                                                            \n",
       "OBSCOMM = 'science '                                                            \n",
       "TELESCOP= 'SDSS 2.5-M'         / Sloan Digital Sky Survey                       \n",
       "BESTEXP =                 7430 /                                                \n",
       "NEXP_B1 =                    4 / b1 camera number of exposures                  \n",
       "NEXP_R1 =                    4 / r1 camera number of exposures                  \n",
       "EXPT_B1 =              3600.00 / b1 camera exposure time (seconds)              \n",
       "EXPT_R1 =              3600.00 / r1 camera exposure time (seconds)              \n",
       "EXPTIME =              3600.00 / Minimum of exposure times for all cameras      \n",
       "SPCOADD = 'Thu Feb 28 15:08:51 2008' / SPCOADD finished                         \n",
       "FLAVOR  = 'science '           / Flavor of this sequence (e.g., dome flat, etc.)\n",
       "QUALITY = 'excellent'          / night/image quality                            \n",
       "RADEG   = 1.54264328000000E+02 / Right Ascension. (degrees)                     \n",
       "DECDEG  = 2.45240000000000E-02 / Declination. (degrees)                         \n",
       "PLATEID =                  271 / Plate Id                                       \n",
       "TILEID  =                  117 / Tile Id                                        \n",
       "CARTID  =                    3 /Cartridge used in this plugging                 \n",
       "MAPID   =              5187801 / Map Id                                         \n",
       "NAME    = '0271-51878-01'      / Name of target; PlateId-MJD-Mapper ReRun       \n",
       "COLBIN  =                    1 / Binning factor perpendicular to the columns    \n",
       "ROWBIN  =                    1 / Binning factor perpendicular to the rows       \n",
       "PROGRAM = 'binning 1   1 '     / Identifying name for CCD program               \n",
       "SECFOCUS= -2.0000000000000E+02 / Secondary Mirror Position as reported by TCC   \n",
       "GUIDEIMG= '/data/spectro/guider/gimg0072.fits' / Last archived guider image     \n",
       "WTIME   =        975844868.000 / weatherData(timeStamp)                         \n",
       "AIRTEMP =        3.25000000000 / weatherData(airtemp)                           \n",
       "DEWPOINT=       -14.0250000000 / weatherData(dewpoint)                          \n",
       "DEWDEP  =        17.3000000000 / weatherData(dewpointDep)                       \n",
       "DUSTA   =        9934.25000000 / weatherData(dusta)                             \n",
       "DUSTB   =        270.250000000 / weatherData(dustb)                             \n",
       "DUSTC   =        11822.5000000 / weatherData(dustc)                             \n",
       "DUSTD   =        234.500000000 / weatherData(dustd)                             \n",
       "GUSTD   = 3.05500000000000E+02 / weatherData(gustd)                             \n",
       "GUSTS   =        13.6000000000 / weatherData(gusts)                             \n",
       "HUMIDITY=        27.6500000000 / weatherData(humidity)                          \n",
       "HUMIDOUT=        27.0000000000 / weatherData(humidout)                          \n",
       "PRESSURE=        21.5600000000 / weatherData(pressure)                          \n",
       "WINDD   =        267.825000000 / weatherData(windd)                             \n",
       "WINDS   =        11.6750000000 / weatherData(winds)                             \n",
       "TEMP01  =       -94.0425000000 / CCD 01 Temperature                             \n",
       "TEMP02  =       -93.0675000000 / CCD 02 Temperature                             \n",
       "TEMP03  =       -92.2875000000 / CCD 03 Temperature                             \n",
       "TEMP04  =       -93.2625000000 / CCD 04 Temperature                             \n",
       "VERSIDL = '6.3     '           / Version of IDL                                 \n",
       "VERSUTIL= 'v5_3_0  '           / Version of idlutils                            \n",
       "VERSREAD= 'v5_3_12 '           / Version of idlspec2d for pre-processing raw dat\n",
       "VERS2D  = 'v5_3_12 '           / Version of idlspec2d for 2D reduction          \n",
       "VERSCOMB= 'v5_3_12 '           / Version of idlspec2d for combining multiple spe\n",
       "VERSLOG = 'fermi-CVS 02/28/08' / Version of SPECLOG product                     \n",
       "VERSFLAT= 'v1_7    '           / Version of SPECFLAT product                    \n",
       "OPBC    = 'opBC-51813.par'     /                                                \n",
       "OPCONFIG= 'opConfig-50000.par' /                                                \n",
       "OPECALIB= 'opECalib-51577.par' /                                                \n",
       "PLUGFILE= 'plPlugMapM-0271-51878-01.par' /                                      \n",
       "HELIO_RV=       -29.6327944885 / Heliocentric correction (added to velocities)  \n",
       "VACUUM  =                    T / Wavelengths are in vacuum                      \n",
       "SFLATTEN=                    T / Superflat has been applied                     \n",
       "PSFSKY  =                    3 / Order of PSF skysubtraction                    \n",
       "SKYCHI2 =        1.09974512227 / Mean chi^2 of sky-subtraction                  \n",
       "SCHI2MIN=       0.998933510277 /                                                \n",
       "SCHI2MAX=        1.21925706188 /                                                \n",
       "PREJECT =             0.200000 / Profile area rejection threshold               \n",
       "SPEC1_G =              20.1005 /(S/N)^2 for spec  1 at mag 20.20                \n",
       "SPEC1_R =              19.9642 /(S/N)^2 for spec  1 at mag 20.25                \n",
       "SPEC1_I =              18.3134 /(S/N)^2 for spec  1 at mag 19.90                \n",
       "SPEC2_G =              21.8072 /(S/N)^2 for spec  2 at mag 20.20                \n",
       "SPEC2_R =              20.5593 /(S/N)^2 for spec  2 at mag 20.25                \n",
       "SPEC2_I =              17.2228 /(S/N)^2 for spec  2 at mag 19.90                \n",
       "NSTD    =                   16 / Number of (good) std stars                     \n",
       "GOFFSTD =           -0.0446329 / Spectrophoto offset for std stars in G-band    \n",
       "GRMSSTD =            0.0490265 / Spectrophoto RMS for std stars in G-band       \n",
       "ROFFSTD =           -0.0247698 / Spectrophoto offset for std stars in R-band    \n",
       "RRMSSTD =            0.0254922 / Spectrophoto RMS for std stars in R-band       \n",
       "IOFFSTD =           -0.0223627 / Spectrophoto offset for std stars in I-band    \n",
       "IRMSSTD =            0.0466955 / Spectrophoto RMS for std stars in I-band       \n",
       "GROFFSTD=           -0.0258007 / Spectrophoto offset for std stars in (GR)      \n",
       "GRRMSSTD=            0.0404192 / Spectrophoto RMS for std stars in (GR)         \n",
       "RIOFFSTD=          -0.00487041 / Spectrophoto offset for std stars in (RI)      \n",
       "RIRMSSTD=            0.0323463 / Spectrophoto RMS for std stars in (RI)         \n",
       "NGAL    =                  432 / Number of (good) main galaxies                 \n",
       "GOFFGAL =           0.00241470 / Spectrophoto offset for main galaxies in G-band\n",
       "GRMSGAL =            0.0456766 / Spectrophoto RMS for main galaxies in G-band   \n",
       "ROFFGAL =          -0.00240326 / Spectrophoto offset for main galaxies in R-band\n",
       "RRMSGAL =            0.0358987 / Spectrophoto RMS for main galaxies in R-band   \n",
       "IOFFGAL =           0.00326633 / Spectrophoto offset for main galaxies in I-band\n",
       "IRMSGAL =            0.0425137 / Spectrophoto RMS for main galaxies in I-band   \n",
       "GROFFGAL=           0.00378990 / Spectrophoto offset for main galaxies in (GR)  \n",
       "GRRMSGAL=            0.0353218 / Spectrophoto RMS for main galaxies in (GR)     \n",
       "RIOFFGAL=          -0.00242996 / Spectrophoto offset for main galaxies in (RI)  \n",
       "RIRMSGAL=            0.0218006 / Spectrophoto RMS for main galaxies in (RI)     \n",
       "LOWREJ  =                    5 / Extraction: low rejection                      \n",
       "HIGHREJ =                    8 / Extraction: high rejection                     \n",
       "SCATPOLY=                    0 / Extraction: Order of scattered light polynomial\n",
       "PROFTYPE=                    3 / Extraction profile: 1=Gaussian                 \n",
       "NFITPOLY=                    1 / Extraction: Number of parameters in each profil\n",
       "XCHI2   =              1.24958 / Extraction: Mean chi^2                         \n",
       "XCHI2MIN=              1.09478 /                                                \n",
       "XCHI2MAX=              1.34914 /                                                \n",
       "SHIFTGUE=   -0.000812781513105 /                                                \n",
       "SHIFT   =      -0.718515214261 /Angstroms, at 4000AA                            \n",
       "SHIFTERR=        2.92979923757 /                                                \n",
       "NWORDER =                    2 / Linear-log10 coefficients                      \n",
       "WFITTYPE= 'LOG-LINEAR'         / Linear-log10 dispersion                        \n",
       "COEFF0  =        3.57970000000 / Central wavelength (log10) of first pixel      \n",
       "COEFF1  =    0.000100000000000 / Log10 dispersion per pixel                     \n",
       "FBADPIX =            0.0289874 / Fraction of bad pixels                         \n",
       "FBADPIX1=            0.0357595 / Fraction of bad pixels on spectro-1            \n",
       "FBADPIX2=            0.0221726 / Fraction of bad pixels on spectro-2            \n",
       "WAT0_001= 'system=linear'      /                                                \n",
       "WAT1_001= 'wtype=linear label=Wavelength units=Angstroms' /                     \n",
       "DC-FLAG =                    1 / Log-linear flag                                \n",
       "BUNIT   = '1E-17 erg/cm^2/s/Ang' /                                              \n",
       "PLUG_RA =            155.03376 / RA of object [deg]                             \n",
       "PLUG_DEC=          -0.79749571 / dec of object [deg]                            \n",
       "SPEC_ID = '    305120280735410176' / Unique object identifier                   \n",
       "FIBERID =                    5 / Fiber number (1-640)                           \n",
       "NEXP    =                    8 / Number of individual exposures                 \n",
       "EXPID01 = 'b1-00007345-00007348-00007349'                                       \n",
       "EXPID02 = 'b1-00007346-00007348-00007349'                                       \n",
       "EXPID03 = 'b1-00007429-00007432-00007433'                                       \n",
       "EXPID04 = 'b1-00007430-00007432-00007433'                                       \n",
       "EXPID05 = 'r1-00007345-00007348-00007349'                                       \n",
       "EXPID06 = 'r1-00007346-00007348-00007349'                                       \n",
       "EXPID07 = 'r1-00007429-00007432-00007433'                                       \n",
       "EXPID08 = 'r1-00007430-00007432-00007433'                                       "
      ]
     },
     "execution_count": 2,
     "metadata": {},
     "output_type": "execute_result"
    }
   ],
   "source": [
    "hdul[0].header"
   ]
  },
  {
   "cell_type": "markdown",
   "metadata": {
    "id": "5E6AmxunB_O3"
   },
   "source": [
    "En el header del `hdul[1]` se tiene la información del espectro,"
   ]
  },
  {
   "cell_type": "code",
   "execution_count": 3,
   "metadata": {
    "colab": {
     "base_uri": "https://localhost:8080/"
    },
    "executionInfo": {
     "elapsed": 623,
     "status": "ok",
     "timestamp": 1609120207399,
     "user": {
      "displayName": "Eduard Alexis Larranaga",
      "photoUrl": "https://lh3.googleusercontent.com/a-/AOh14GgCVABzEgj-rCdyxWa29RnA0kIYUCXAaVbnRYOEhQ=s64",
      "userId": "04402438389940282602"
     },
     "user_tz": 300
    },
    "id": "TNg2cIPLB_O3",
    "outputId": "487d2409-4b89-4337-9e9d-53484b9f3c38"
   },
   "outputs": [
    {
     "data": {
      "text/plain": [
       "XTENSION= 'BINTABLE'           / binary table extension                         \n",
       "BITPIX  =                    8 / array data type                                \n",
       "NAXIS   =                    2 / number of array dimensions                     \n",
       "NAXIS1  =                   32 / length of dimension 1                          \n",
       "NAXIS2  =                 3827 / length of dimension 2                          \n",
       "PCOUNT  =                    0 / number of group parameters                     \n",
       "GCOUNT  =                    1 / number of groups                               \n",
       "TFIELDS =                    8 / number of table fields                         \n",
       "TTYPE1  = 'flux    '                                                            \n",
       "TFORM1  = 'E       '                                                            \n",
       "TTYPE2  = 'loglam  '                                                            \n",
       "TFORM2  = 'E       '                                                            \n",
       "TTYPE3  = 'ivar    '                                                            \n",
       "TFORM3  = 'E       '                                                            \n",
       "TTYPE4  = 'and_mask'                                                            \n",
       "TFORM4  = 'J       '                                                            \n",
       "TTYPE5  = 'or_mask '                                                            \n",
       "TFORM5  = 'J       '                                                            \n",
       "TTYPE6  = 'wdisp   '                                                            \n",
       "TFORM6  = 'E       '                                                            \n",
       "TTYPE7  = 'sky     '                                                            \n",
       "TFORM7  = 'E       '                                                            \n",
       "TTYPE8  = 'model   '                                                            \n",
       "TFORM8  = 'E       '                                                            \n",
       "EXTNAME = 'COADD   '                                                            \n",
       "COMMENT Coadded spectrum                                                        "
      ]
     },
     "execution_count": 3,
     "metadata": {},
     "output_type": "execute_result"
    }
   ],
   "source": [
    "hdul[1].header"
   ]
  },
  {
   "cell_type": "markdown",
   "metadata": {
    "id": "mc0Uio6bB_O3"
   },
   "source": [
    "### Extracción del espectro del archivo FITS \n",
    "\n",
    "Ahora se extraerá la informaciónd el espectro del objeto HDUN. Una descripción detallada del proceso puede verse en\n",
    "\n",
    "http://learn.astropy.org/rst-tutorials/FITS-tables.html?highlight=filtertutorials\n",
    "\n",
    "El objeto `hdul[1]`contiene una tabla con los nombres de las columnas. Para acceder a estos datos se utiliza el método `.columns`"
   ]
  },
  {
   "cell_type": "code",
   "execution_count": 4,
   "metadata": {
    "colab": {
     "base_uri": "https://localhost:8080/"
    },
    "executionInfo": {
     "elapsed": 545,
     "status": "ok",
     "timestamp": 1609120210996,
     "user": {
      "displayName": "Eduard Alexis Larranaga",
      "photoUrl": "https://lh3.googleusercontent.com/a-/AOh14GgCVABzEgj-rCdyxWa29RnA0kIYUCXAaVbnRYOEhQ=s64",
      "userId": "04402438389940282602"
     },
     "user_tz": 300
    },
    "id": "LSLcRC_nB_O4",
    "outputId": "17dfb31e-6824-4556-c525-21ca012c80af"
   },
   "outputs": [
    {
     "data": {
      "text/plain": [
       "ColDefs(\n",
       "    name = 'flux'; format = 'E'\n",
       "    name = 'loglam'; format = 'E'\n",
       "    name = 'ivar'; format = 'E'\n",
       "    name = 'and_mask'; format = 'J'\n",
       "    name = 'or_mask'; format = 'J'\n",
       "    name = 'wdisp'; format = 'E'\n",
       "    name = 'sky'; format = 'E'\n",
       "    name = 'model'; format = 'E'\n",
       ")"
      ]
     },
     "execution_count": 4,
     "metadata": {},
     "output_type": "execute_result"
    }
   ],
   "source": [
    "hdul[1].columns"
   ]
  },
  {
   "cell_type": "markdown",
   "metadata": {
    "id": "B9yADA5SB_O4"
   },
   "source": [
    "La información detallada acerca de este espectro se encuentra en el link del modelo spec_data,\n",
    "\n",
    "https://data.sdss.org/datamodel/files/BOSS_SPECTRO_REDUX/RUN2D/spectra/PLATE4/spec.html\n",
    "\n",
    "Por ejemplo, alli se puede observar que la columna ['flux'] presenta el flujo en unidades de $10^{-17}$ ergs/s/cm2/Å y la columna  ['loglam'] presenta el $\\log_{10}$ ode la longitud de onda en Å.\n",
    "\n",
    "Sin embargo, asignar los datos contenidos en el objeto hdul[1] a una variable en Python no resulta en un tipo de objeto conocido,"
   ]
  },
  {
   "cell_type": "code",
   "execution_count": 5,
   "metadata": {
    "colab": {
     "base_uri": "https://localhost:8080/"
    },
    "executionInfo": {
     "elapsed": 611,
     "status": "ok",
     "timestamp": 1609120214231,
     "user": {
      "displayName": "Eduard Alexis Larranaga",
      "photoUrl": "https://lh3.googleusercontent.com/a-/AOh14GgCVABzEgj-rCdyxWa29RnA0kIYUCXAaVbnRYOEhQ=s64",
      "userId": "04402438389940282602"
     },
     "user_tz": 300
    },
    "id": "6HgUb6dwB_O4",
    "outputId": "f8877c35-6d32-4308-88ad-9ff774f79264"
   },
   "outputs": [
    {
     "data": {
      "text/plain": [
       "astropy.io.fits.fitsrec.FITS_rec"
      ]
     },
     "execution_count": 5,
     "metadata": {},
     "output_type": "execute_result"
    }
   ],
   "source": [
    "spectrum_data = hdul[1].data\n",
    "type(spectrum_data)"
   ]
  },
  {
   "cell_type": "markdown",
   "metadata": {
    "id": "D-IE4OKtB_O4"
   },
   "source": [
    "En realidad, para poder cargar el espectro se debe usar la función [astropy.table.Table( )](https://docs.astropy.org/en/stable/api/astropy.table.Table.html#astropy.table.Table) "
   ]
  },
  {
   "cell_type": "code",
   "execution_count": 6,
   "metadata": {
    "id": "OCSI19PpB_O4"
   },
   "outputs": [],
   "source": [
    "from astropy.table import Table\n",
    "\n",
    "spectrum_data = Table(hdul[1].data)"
   ]
  },
  {
   "cell_type": "markdown",
   "metadata": {
    "id": "BWcBM2TnB_O5"
   },
   "source": [
    "De esta forma, la información se almaceno en un objeto del tipo Table,"
   ]
  },
  {
   "cell_type": "code",
   "execution_count": 7,
   "metadata": {
    "colab": {
     "base_uri": "https://localhost:8080/"
    },
    "executionInfo": {
     "elapsed": 549,
     "status": "ok",
     "timestamp": 1609120220242,
     "user": {
      "displayName": "Eduard Alexis Larranaga",
      "photoUrl": "https://lh3.googleusercontent.com/a-/AOh14GgCVABzEgj-rCdyxWa29RnA0kIYUCXAaVbnRYOEhQ=s64",
      "userId": "04402438389940282602"
     },
     "user_tz": 300
    },
    "id": "mhZMu7ETB_O5",
    "outputId": "ffadad70-94ab-4a2d-a317-4818c22dde44"
   },
   "outputs": [
    {
     "data": {
      "text/plain": [
       "astropy.table.table.Table"
      ]
     },
     "execution_count": 7,
     "metadata": {},
     "output_type": "execute_result"
    }
   ],
   "source": [
    "type(spectrum_data)"
   ]
  },
  {
   "cell_type": "markdown",
   "metadata": {
    "id": "bM0VvaCJB_O5"
   },
   "source": [
    "y ahora la información se puede acceder fácilmente,"
   ]
  },
  {
   "cell_type": "code",
   "execution_count": 8,
   "metadata": {
    "colab": {
     "base_uri": "https://localhost:8080/",
     "height": 519
    },
    "executionInfo": {
     "elapsed": 545,
     "status": "ok",
     "timestamp": 1609120223207,
     "user": {
      "displayName": "Eduard Alexis Larranaga",
      "photoUrl": "https://lh3.googleusercontent.com/a-/AOh14GgCVABzEgj-rCdyxWa29RnA0kIYUCXAaVbnRYOEhQ=s64",
      "userId": "04402438389940282602"
     },
     "user_tz": 300
    },
    "id": "ozHxXUt-B_O6",
    "outputId": "ca652fa0-ef79-495a-9ff3-997afc5f3fd9"
   },
   "outputs": [
    {
     "data": {
      "text/html": [
       "<i>Table length=3827</i>\n",
       "<table id=\"table4596585088\" class=\"table-striped table-bordered table-condensed\">\n",
       "<thead><tr><th>flux</th><th>loglam</th><th>ivar</th><th>and_mask</th><th>or_mask</th><th>wdisp</th><th>sky</th><th>model</th></tr></thead>\n",
       "<thead><tr><th>float32</th><th>float32</th><th>float32</th><th>int32</th><th>int32</th><th>float32</th><th>float32</th><th>float32</th></tr></thead>\n",
       "<tr><td>21.53708</td><td>3.5819</td><td>0.08127065</td><td>0</td><td>0</td><td>1.2916901</td><td>10.570335</td><td>33.403244</td></tr>\n",
       "<tr><td>24.77743</td><td>3.582</td><td>0.07876171</td><td>0</td><td>0</td><td>1.2898893</td><td>9.759857</td><td>33.523865</td></tr>\n",
       "<tr><td>...</td><td>...</td><td>...</td><td>...</td><td>...</td><td>...</td><td>...</td><td>...</td></tr>\n",
       "<tr><td>71.695366</td><td>3.9644</td><td>0.1941352</td><td>0</td><td>0</td><td>0.7083817</td><td>7.494856</td><td>70.09506</td></tr>\n",
       "<tr><td>69.85985</td><td>3.9645</td><td>0.19558352</td><td>0</td><td>0</td><td>0.708248</td><td>8.147273</td><td>70.59616</td></tr>\n",
       "</table>"
      ],
      "text/plain": [
       "<Table length=3827>\n",
       "   flux    loglam    ivar    ...   wdisp      sky      model  \n",
       " float32  float32  float32   ...  float32   float32   float32 \n",
       "--------- ------- ---------- ... --------- --------- ---------\n",
       " 21.53708  3.5819 0.08127065 ... 1.2916901 10.570335 33.403244\n",
       " 24.77743   3.582 0.07876171 ... 1.2898893  9.759857 33.523865\n",
       "      ...     ...        ... ...       ...       ...       ...\n",
       "71.695366  3.9644  0.1941352 ... 0.7083817  7.494856  70.09506\n",
       " 69.85985  3.9645 0.19558352 ...  0.708248  8.147273  70.59616"
      ]
     },
     "execution_count": 8,
     "metadata": {},
     "output_type": "execute_result"
    }
   ],
   "source": [
    "spectrum_data"
   ]
  },
  {
   "cell_type": "markdown",
   "metadata": {
    "id": "Da1NddZ3B_O6"
   },
   "source": [
    "### Histograma del Flujo\n",
    "\n",
    "Podemos crear un histograma de la columna 'flux' en esta tabla,"
   ]
  },
  {
   "cell_type": "code",
   "execution_count": 9,
   "metadata": {
    "colab": {
     "base_uri": "https://localhost:8080/",
     "height": 265
    },
    "executionInfo": {
     "elapsed": 1282,
     "status": "ok",
     "timestamp": 1609120227234,
     "user": {
      "displayName": "Eduard Alexis Larranaga",
      "photoUrl": "https://lh3.googleusercontent.com/a-/AOh14GgCVABzEgj-rCdyxWa29RnA0kIYUCXAaVbnRYOEhQ=s64",
      "userId": "04402438389940282602"
     },
     "user_tz": 300
    },
    "id": "xOzoKwX5B_O7",
    "outputId": "ac6fab03-b59a-4e1b-da65-b1f1b5b2100a"
   },
   "outputs": [
    {
     "data": {
      "image/png": "[encoded data removed]",
      "text/plain": [
       "<Figure size 432x288 with 1 Axes>"
      ]
     },
     "metadata": {
      "needs_background": "light"
     },
     "output_type": "display_data"
    }
   ],
   "source": [
    "plt.hist(spectrum_data['flux'], bins='auto')\n",
    "plt.ylabel('Flux')\n",
    "plt.show()"
   ]
  },
  {
   "cell_type": "markdown",
   "metadata": {
    "id": "1vUlf1piB_O7"
   },
   "source": [
    "### Visualización del Espectro\n",
    "\n",
    "Para visualizar el espectro de esta galaxia, graficamos la columna ['flux'] vs. la columna ['loglam']."
   ]
  },
  {
   "cell_type": "code",
   "execution_count": 10,
   "metadata": {
    "colab": {
     "base_uri": "https://localhost:8080/",
     "height": 285
    },
    "executionInfo": {
     "elapsed": 850,
     "status": "ok",
     "timestamp": 1609120230286,
     "user": {
      "displayName": "Eduard Alexis Larranaga",
      "photoUrl": "https://lh3.googleusercontent.com/a-/AOh14GgCVABzEgj-rCdyxWa29RnA0kIYUCXAaVbnRYOEhQ=s64",
      "userId": "04402438389940282602"
     },
     "user_tz": 300
    },
    "id": "rsdwCGl-B_O7",
    "outputId": "1e9192c5-4d02-4e12-f91e-39878604dd7b"
   },
   "outputs": [
    {
     "data": {
      "image/png": "[encoded data removed]",
      "text/plain": [
       "<Figure size 432x288 with 1 Axes>"
      ]
     },
     "metadata": {
      "needs_background": "light"
     },
     "output_type": "display_data"
    }
   ],
   "source": [
    "plt.plot(spectrum_data['loglam'],spectrum_data['flux'],'k')\n",
    "plt.xlabel(r'$\\log_{10} \\lambda {(\\rm \\AA)}$')\n",
    "plt.ylabel('Flux')\n",
    "plt.show()"
   ]
  },
  {
   "cell_type": "markdown",
   "metadata": {
    "id": "qv-0x02tB_O7"
   },
   "source": [
    "Si se quiere utilizar la longitud de onda (y no su logaritmo), definimos"
   ]
  },
  {
   "cell_type": "code",
   "execution_count": 11,
   "metadata": {
    "id": "kvoTqOdcB_O8"
   },
   "outputs": [],
   "source": [
    "wavelength = np.power(10,spectrum_data['loglam'])"
   ]
  },
  {
   "cell_type": "code",
   "execution_count": 12,
   "metadata": {
    "id": "DOuqxVOKB_O8",
    "outputId": "4c065ce3-b688-4388-b1e5-8db314dccb92"
   },
   "outputs": [
    {
     "data": {
      "image/png": "[encoded data removed]",
      "text/plain": [
       "<Figure size 432x288 with 1 Axes>"
      ]
     },
     "metadata": {
      "needs_background": "light"
     },
     "output_type": "display_data"
    }
   ],
   "source": [
    "plt.plot(wavelength,spectrum_data['flux'],'k')\n",
    "plt.xlabel(r'$\\lambda {(\\rm \\AA)}$')\n",
    "plt.ylabel('Flux')\n",
    "plt.show()"
   ]
  },
  {
   "cell_type": "code",
   "execution_count": null,
   "metadata": {
    "id": "YOit4BkCB_O8"
   },
   "outputs": [],
   "source": []
  }
 ],
 "metadata": {
  "colab": {
   "collapsed_sections": [],
   "name": "FITSSpectrum01.ipynb",
   "provenance": []
  },
  "kernelspec": {
   "display_name": "Python 3 (ipykernel)",
   "language": "python",
   "name": "python3"
  },
  "language_info": {
   "codemirror_mode": {
    "name": "ipython",
    "version": 3
   },
   "file_extension": ".py",
   "mimetype": "text/x-python",
   "name": "python",
   "nbconvert_exporter": "python",
   "pygments_lexer": "ipython3",
   "version": "3.9.5"
  }
 },
 "nbformat": 4,
 "nbformat_minor": 1
}
