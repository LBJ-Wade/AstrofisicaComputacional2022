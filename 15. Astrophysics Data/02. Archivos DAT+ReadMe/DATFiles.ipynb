{
 "cells": [
  {
   "cell_type": "markdown",
   "metadata": {
    "id": "JG-5Y0W5_4cm"
   },
   "source": [
    "![Astrofisica Computacional](../../logo.png)"
   ]
  },
  {
   "cell_type": "markdown",
   "metadata": {},
   "source": [
    "---\n",
    "## Archivos `.dat` + `ReadMe` \n",
    "\n",
    "\n",
    "Eduard Larrañaga (ealarranaga@unal.edu.co)\n",
    "\n",
    "---"
   ]
  },
  {
   "cell_type": "markdown",
   "metadata": {
    "id": "V_L8Z7Pb_4cp"
   },
   "source": [
    "### Resumen\n",
    "\n",
    "En este cuaderno se utiliza la librería `astropy.io` para leer una arcivo de datos de texto plano con extensión .dat (formato ascii) junto con un archivo adicional ReadMe que contiene los metadatos. \n",
    "\n",
    "---"
   ]
  },
  {
   "cell_type": "markdown",
   "metadata": {
    "id": "MwAOj4WE_4cp"
   },
   "source": [
    "## 1. Obtención y Lectura de los Datos\n",
    "\n",
    "Consideraremos el conjunto de datos reportado Greene and Ho [2006], el cual contiene información de 88 galaxias cercanas. \n",
    "\n",
    "Greene, J. E. and Ho, L. C. *The MBH − σ∗ Relation in Local Active Galaxies*. ApJ 641 L21 (2006)\n",
    "https://ui.adsabs.harvard.edu/abs/2006ApJ...641L..21G/abstract\n",
    "\n",
    "El conjunto de datos está disponibele, en varios formatos en\n",
    "\n",
    "http://vizier.cfa.harvard.edu/viz-bin/VizieR?-source=J/ApJ/641/L21.\n",
    "\n",
    "Al hacer click en  el link ReadMe+ftp link se puede acceder a los datos via FTP.\n",
    "\n",
    "---\n",
    "\n",
    "### Abrir los archivos .dat+ReadMe.\n",
    "\n",
    "Para acceder a la información del archivo plano .dat file (en formato ascii) y los metadatos en el archivo ReadMe se utilizará el comando  [astropy.io.ascii](https://docs.astropy.org/en/stable/io/ascii/)\n",
    " "
   ]
  },
  {
   "cell_type": "code",
   "execution_count": 2,
   "metadata": {
    "id": "XJ-6tzQL_4cq"
   },
   "outputs": [
    {
     "name": "stderr",
     "output_type": "stream",
     "text": [
      "WARNING: UnitsWarning: '[10-7W]' did not parse as cds unit: Syntax error If this is meant to be a custom unit, define it with 'u.def_unit'. To have it recognized inside a file reader or other code, enable it with 'u.add_enabled_units'. For details, see https://docs.astropy.org/en/latest/units/combining_and_defining.html [astropy.units.core]\n"
     ]
    },
    {
     "data": {
      "text/html": [
       "<i>Table length=88</i>\n",
       "<table id=\"table4423173600\" class=\"table-striped table-bordered table-condensed\">\n",
       "<thead><tr><th>Name</th><th>z</th><th>sigma*</th><th>e_sigma*</th><th>n_sigma*</th><th>FWHM</th><th>e_FWHM</th><th>logL</th><th>e_logL</th><th>logM</th><th>E_logM</th><th>e_logM</th></tr></thead>\n",
       "<thead><tr><th></th><th></th><th>km / s</th><th>km / s</th><th></th><th>km / s</th><th>km / s</th><th>[10-7W]</th><th>[10-7W]</th><th>dex(Msun)</th><th>dex(Msun)</th><th>dex(Msun)</th></tr></thead>\n",
       "<thead><tr><th>str24</th><th>float64</th><th>float64</th><th>float64</th><th>str1</th><th>int64</th><th>int64</th><th>float64</th><th>float64</th><th>float64</th><th>float64</th><th>float64</th></tr></thead>\n",
       "<tr><td>SDSS J000805.62+145023.4</td><td>0.0454</td><td>140.0</td><td>27.0</td><td>--</td><td>7610</td><td>380</td><td>41.13</td><td>0.04</td><td>7.7</td><td>--</td><td>0.1</td></tr>\n",
       "<tr><td>...</td><td>...</td><td>...</td><td>...</td><td>...</td><td>...</td><td>...</td><td>...</td><td>...</td><td>...</td><td>...</td><td>...</td></tr>\n",
       "<tr><td>POX 52</td><td>0.0218</td><td>36.0</td><td>5.0</td><td>--</td><td>--</td><td>--</td><td>--</td><td>--</td><td>5.2</td><td>--</td><td>0.3</td></tr>\n",
       "<tr><td>NGC 4395</td><td>0.000947</td><td>30.0</td><td>5.0</td><td>--</td><td>--</td><td>--</td><td>--</td><td>--</td><td>4.9</td><td>--</td><td>0.4</td></tr>\n",
       "</table>"
      ],
      "text/plain": [
       "<Table length=88>\n",
       "          Name              z      sigma* ...   E_logM    e_logM \n",
       "                                   km / s ... dex(Msun) dex(Msun)\n",
       "         str24           float64  float64 ...  float64   float64 \n",
       "------------------------ -------- ------- ... --------- ---------\n",
       "SDSS J000805.62+145023.4   0.0454   140.0 ...        --       0.1\n",
       "                     ...      ...     ... ...       ...       ...\n",
       "                  POX 52   0.0218    36.0 ...        --       0.3\n",
       "                NGC 4395 0.000947    30.0 ...        --       0.4"
      ]
     },
     "execution_count": 2,
     "metadata": {},
     "output_type": "execute_result"
    }
   ],
   "source": [
    "import numpy as np\n",
    "from astropy.io import ascii\n",
    "import matplotlib.pyplot as plt\n",
    "\n",
    "\n",
    "\n",
    "data = ascii.read('table1.dat', readme='ReadMe')\n",
    "data"
   ]
  },
  {
   "cell_type": "markdown",
   "metadata": {
    "id": "qKEd7JfG_4cq"
   },
   "source": [
    "La longitud de la tabla es de 88 muestras y 12 características, incluyendo 'Name', 'z', 'sigma*', etc."
   ]
  },
  {
   "cell_type": "markdown",
   "metadata": {
    "id": "csTlpGk1_4cr"
   },
   "source": [
    "---\n",
    "Es posible acceder a cada una de las características,"
   ]
  },
  {
   "cell_type": "code",
   "execution_count": 4,
   "metadata": {
    "colab": {
     "base_uri": "https://localhost:8080/",
     "height": 561
    },
    "executionInfo": {
     "elapsed": 473,
     "status": "ok",
     "timestamp": 1609086574467,
     "user": {
      "displayName": "Eduard Alexis Larranaga",
      "photoUrl": "https://lh3.googleusercontent.com/a-/AOh14GgCVABzEgj-rCdyxWa29RnA0kIYUCXAaVbnRYOEhQ=s64",
      "userId": "04402438389940282602"
     },
     "user_tz": 300
    },
    "id": "0VQ6CVjA_4cr",
    "outputId": "08c36771-36ef-4930-ab6b-97f6de4dda31"
   },
   "outputs": [
    {
     "data": {
      "text/html": [
       "&lt;Column name=&apos;z&apos; dtype=&apos;float64&apos; description=&apos;Redshift&apos; length=88&gt;\n",
       "<table>\n",
       "<tr><td>0.0454</td></tr>\n",
       "<tr><td>0.0419</td></tr>\n",
       "<tr><td>0.0456</td></tr>\n",
       "<tr><td>0.0772</td></tr>\n",
       "<tr><td>...</td></tr>\n",
       "<tr><td>0.0172</td></tr>\n",
       "<tr><td>0.0163</td></tr>\n",
       "<tr><td>0.0218</td></tr>\n",
       "<tr><td>0.000947</td></tr>\n",
       "</table>"
      ],
      "text/plain": [
       "<Column name='z' dtype='float64' description='Redshift' length=88>\n",
       "  0.0454\n",
       "  0.0419\n",
       "  0.0456\n",
       "  0.0772\n",
       "     ...\n",
       "  0.0172\n",
       "  0.0163\n",
       "  0.0218\n",
       "0.000947"
      ]
     },
     "execution_count": 4,
     "metadata": {},
     "output_type": "execute_result"
    }
   ],
   "source": [
    "data['z']"
   ]
  },
  {
   "cell_type": "code",
   "execution_count": 5,
   "metadata": {
    "colab": {
     "base_uri": "https://localhost:8080/",
     "height": 561
    },
    "executionInfo": {
     "elapsed": 484,
     "status": "ok",
     "timestamp": 1609086579354,
     "user": {
      "displayName": "Eduard Alexis Larranaga",
      "photoUrl": "https://lh3.googleusercontent.com/a-/AOh14GgCVABzEgj-rCdyxWa29RnA0kIYUCXAaVbnRYOEhQ=s64",
      "userId": "04402438389940282602"
     },
     "user_tz": 300
    },
    "id": "jZknT-Ks_4cr",
    "outputId": "b9cc2cd9-1f10-400f-f35f-636015a12ab2"
   },
   "outputs": [
    {
     "data": {
      "text/html": [
       "&lt;MaskedColumn name=&apos;logL&apos; dtype=&apos;float64&apos; unit=&apos;[10-7W]&apos; description=&apos;Log of H{alpha} luminosity in erg/s&apos; length=88&gt;\n",
       "<table>\n",
       "<tr><td>41.13</td></tr>\n",
       "<tr><td>41.58</td></tr>\n",
       "<tr><td>41.45</td></tr>\n",
       "<tr><td>41.13</td></tr>\n",
       "<tr><td>...</td></tr>\n",
       "<tr><td>--</td></tr>\n",
       "<tr><td>--</td></tr>\n",
       "<tr><td>--</td></tr>\n",
       "<tr><td>--</td></tr>\n",
       "</table>"
      ],
      "text/plain": [
       "<MaskedColumn name='logL' dtype='float64' unit='[10-7W]' description='Log of H{alpha} luminosity in erg/s' length=88>\n",
       "41.13\n",
       "41.58\n",
       "41.45\n",
       "41.13\n",
       "  ...\n",
       "   --\n",
       "   --\n",
       "   --\n",
       "   --"
      ]
     },
     "execution_count": 5,
     "metadata": {},
     "output_type": "execute_result"
    }
   ],
   "source": [
    "data['logL']"
   ]
  },
  {
   "cell_type": "markdown",
   "metadata": {
    "id": "wEOs6_E7_4cr"
   },
   "source": [
    "También se puede acceder a los datos completos de una muestra particular o un conjunto de muestras,"
   ]
  },
  {
   "cell_type": "code",
   "execution_count": 7,
   "metadata": {
    "colab": {
     "base_uri": "https://localhost:8080/",
     "height": 120
    },
    "executionInfo": {
     "elapsed": 513,
     "status": "ok",
     "timestamp": 1609086584471,
     "user": {
      "displayName": "Eduard Alexis Larranaga",
      "photoUrl": "https://lh3.googleusercontent.com/a-/AOh14GgCVABzEgj-rCdyxWa29RnA0kIYUCXAaVbnRYOEhQ=s64",
      "userId": "04402438389940282602"
     },
     "user_tz": 300
    },
    "id": "WbZ-7s4U_4cs",
    "outputId": "dba03614-accb-4116-f658-602e1812396a"
   },
   "outputs": [
    {
     "data": {
      "text/html": [
       "<i>Row index=1</i>\n",
       "<table id=\"table4613993424\">\n",
       "<thead><tr><th>Name</th><th>z</th><th>sigma*</th><th>e_sigma*</th><th>n_sigma*</th><th>FWHM</th><th>e_FWHM</th><th>logL</th><th>e_logL</th><th>logM</th><th>E_logM</th><th>e_logM</th></tr></thead>\n",
       "<thead><tr><th></th><th></th><th>km / s</th><th>km / s</th><th></th><th>km / s</th><th>km / s</th><th>[10-7W]</th><th>[10-7W]</th><th>dex(Msun)</th><th>dex(Msun)</th><th>dex(Msun)</th></tr></thead>\n",
       "<thead><tr><th>str24</th><th>float64</th><th>float64</th><th>float64</th><th>str1</th><th>int64</th><th>int64</th><th>float64</th><th>float64</th><th>float64</th><th>float64</th><th>float64</th></tr></thead>\n",
       "<tr><td>SDSS J004236.86-104921.8</td><td>0.0419</td><td>78.4</td><td>10.0</td><td>--</td><td>1960</td><td>97</td><td>41.58</td><td>0.14</td><td>6.7</td><td>--</td><td>0.1</td></tr>\n",
       "</table>"
      ],
      "text/plain": [
       "<Row index=1>\n",
       "          Name              z     sigma* e_sigma* n_sigma*  FWHM  e_FWHM   logL   e_logL    logM     E_logM    e_logM \n",
       "                                  km / s  km / s           km / s km / s [10-7W] [10-7W] dex(Msun) dex(Msun) dex(Msun)\n",
       "         str24           float64 float64 float64    str1   int64  int64  float64 float64  float64   float64   float64 \n",
       "------------------------ ------- ------- -------- -------- ------ ------ ------- ------- --------- --------- ---------\n",
       "SDSS J004236.86-104921.8  0.0419    78.4     10.0       --   1960     97   41.58    0.14       6.7        --       0.1"
      ]
     },
     "execution_count": 7,
     "metadata": {},
     "output_type": "execute_result"
    }
   ],
   "source": [
    "data[1]"
   ]
  },
  {
   "cell_type": "code",
   "execution_count": 6,
   "metadata": {
    "colab": {
     "base_uri": "https://localhost:8080/",
     "height": 183
    },
    "executionInfo": {
     "elapsed": 517,
     "status": "ok",
     "timestamp": 1609086588209,
     "user": {
      "displayName": "Eduard Alexis Larranaga",
      "photoUrl": "https://lh3.googleusercontent.com/a-/AOh14GgCVABzEgj-rCdyxWa29RnA0kIYUCXAaVbnRYOEhQ=s64",
      "userId": "04402438389940282602"
     },
     "user_tz": 300
    },
    "id": "OVPtKyiH_4cs",
    "outputId": "8531e6c8-cc31-4982-d8a4-fab23783fa5a"
   },
   "outputs": [
    {
     "data": {
      "text/html": [
       "<i>Table length=4</i>\n",
       "<table id=\"table5050512768\" class=\"table-striped table-bordered table-condensed\">\n",
       "<thead><tr><th>Name</th><th>z</th><th>sigma*</th><th>e_sigma*</th><th>n_sigma*</th><th>FWHM</th><th>e_FWHM</th><th>logL</th><th>e_logL</th><th>logM</th><th>E_logM</th><th>e_logM</th></tr></thead>\n",
       "<thead><tr><th></th><th></th><th>km / s</th><th>km / s</th><th></th><th>km / s</th><th>km / s</th><th>[10-7W]</th><th>[10-7W]</th><th>dex(Msun)</th><th>dex(Msun)</th><th>dex(Msun)</th></tr></thead>\n",
       "<thead><tr><th>str24</th><th>float64</th><th>float64</th><th>float64</th><th>str1</th><th>int64</th><th>int64</th><th>float64</th><th>float64</th><th>float64</th><th>float64</th><th>float64</th></tr></thead>\n",
       "<tr><td>SDSS J000805.62+145023.4</td><td>0.0454</td><td>140.0</td><td>27.0</td><td>--</td><td>7610</td><td>380</td><td>41.13</td><td>0.04</td><td>7.7</td><td>--</td><td>0.1</td></tr>\n",
       "<tr><td>SDSS J004236.86-104921.8</td><td>0.0419</td><td>78.4</td><td>10.0</td><td>--</td><td>1960</td><td>97</td><td>41.58</td><td>0.14</td><td>6.7</td><td>--</td><td>0.1</td></tr>\n",
       "<tr><td>SDSS J020459.25-080816.0</td><td>0.0772</td><td>121.0</td><td>9.4</td><td>a</td><td>3720</td><td>180</td><td>41.13</td><td>0.05</td><td>7.0</td><td>--</td><td>0.1</td></tr>\n",
       "<tr><td>SDSS J020615.99-001729.1</td><td>0.0426</td><td>216.0</td><td>30.0</td><td>--</td><td>3860</td><td>190</td><td>41.91</td><td>0.07</td><td>7.5</td><td>--</td><td>0.1</td></tr>\n",
       "</table>"
      ],
      "text/plain": [
       "<Table length=4>\n",
       "          Name              z     sigma* ...   E_logM    e_logM \n",
       "                                  km / s ... dex(Msun) dex(Msun)\n",
       "         str24           float64 float64 ...  float64   float64 \n",
       "------------------------ ------- ------- ... --------- ---------\n",
       "SDSS J000805.62+145023.4  0.0454   140.0 ...        --       0.1\n",
       "SDSS J004236.86-104921.8  0.0419    78.4 ...        --       0.1\n",
       "SDSS J020459.25-080816.0  0.0772   121.0 ...        --       0.1\n",
       "SDSS J020615.99-001729.1  0.0426   216.0 ...        --       0.1"
      ]
     },
     "execution_count": 6,
     "metadata": {},
     "output_type": "execute_result"
    }
   ],
   "source": [
    "data[[0,1,3,4]]"
   ]
  },
  {
   "cell_type": "markdown",
   "metadata": {},
   "source": [
    "Distribuiremos la información en un conjunto de arreglos de numpy,"
   ]
  },
  {
   "cell_type": "code",
   "execution_count": 7,
   "metadata": {},
   "outputs": [],
   "source": [
    "z = np.array(data[\"z\"])\n",
    "sigma_star = np.array(data[\"sigma*\"])\n",
    "e_sigma_star = np.array(data[\"e_sigma*\"])\n",
    "logL = np.array(data[\"logL\"])\n",
    "e_logL = np.array(data[\"e_logL\"])\n",
    "logM = np.array(data[\"logM\"])\n",
    "e_logM = np.array(data[\"e_logM\"])"
   ]
  },
  {
   "cell_type": "markdown",
   "metadata": {},
   "source": [
    "## 2. Visualizar la información\n",
    "\n",
    "Veamos diferentes combinaciones de características, buscando alguna clase de patrón de interés,"
   ]
  },
  {
   "cell_type": "code",
   "execution_count": 8,
   "metadata": {},
   "outputs": [
    {
     "data": {
      "image/png": "[encoded data removed]",
      "text/plain": [
       "<Figure size 432x288 with 1 Axes>"
      ]
     },
     "metadata": {
      "needs_background": "light"
     },
     "output_type": "display_data"
    }
   ],
   "source": [
    "plt.scatter(z, logM,  color='red')\n",
    "plt.xlabel(r'$z$')\n",
    "plt.ylabel(r'$\\log M$')\n",
    "plt.show()"
   ]
  },
  {
   "cell_type": "code",
   "execution_count": 9,
   "metadata": {},
   "outputs": [
    {
     "data": {
      "image/png": "[encoded data removed]",
      "text/plain": [
       "<Figure size 720x720 with 4 Axes>"
      ]
     },
     "metadata": {
      "needs_background": "light"
     },
     "output_type": "display_data"
    }
   ],
   "source": [
    "plt.figure(figsize=(10, 10))\n",
    "\n",
    "plt.subplot(221)\n",
    "plt.plot(z, logM, 'b.')\n",
    "plt.xlabel(r'$z$')\n",
    "plt.ylabel(r'$\\log M$')\n",
    "\n",
    "plt.subplot(222)\n",
    "plt.plot(logL, logM, 'r.')\n",
    "plt.xlabel(r'$\\log L$')\n",
    "plt.ylabel(r'$\\log M$')\n",
    "\n",
    "plt.subplot(223)\n",
    "plt.plot(z, logL, 'g.')\n",
    "plt.xlabel(r'$z$')\n",
    "plt.ylabel(r'$\\log L$')\n",
    "\n",
    "plt.subplot(224)\n",
    "plt.plot(sigma_star, logM, 'k.')\n",
    "plt.xlabel(r'$\\sigma_{*}$')\n",
    "plt.ylabel(r'$\\log M$')\n",
    "\n",
    "plt.show()"
   ]
  },
  {
   "cell_type": "markdown",
   "metadata": {},
   "source": [
    "Aparecen alguna información o patrones intersantes. Por ejemplo,\n",
    "\n",
    "- Se obsrevan dos puntos separados (outcaast) en el gráfico de $\\log M$ vs $z$.\n",
    "- Parece que existen dos cúmulos separados en el gráfico de $\\log M$ vs $\\log L$\n",
    "- Parece que existen tres cúmulos separados (o dos cumulos y dos puntos separados) en el gráfico de  $\\log L$ vs $z$\n",
    "- Existe una tendencia de correlación en el gráfico de  $\\log M$ vs $\\sigma_{*}$\n",
    "\n",
    "A pesar de que estos comportamientos parecen existir, algunos de ellos deben revisarse con cuidado. Por ejemplo, los aparentes cúmulos en las figuras 2 y 3 corresponden a una ausencia de datos, mal interpreata al convertir la información a arreglos. Al revisar la información en $\\log L$ se tiene"
   ]
  },
  {
   "cell_type": "code",
   "execution_count": 10,
   "metadata": {},
   "outputs": [
    {
     "data": {
      "text/plain": [
       "array([41.13, 41.58, 41.45, 41.13, 41.91, 41.24, 41.58, 40.45, 41.63,\n",
       "       41.67, 40.14, 40.42, 41.17, 41.31, 41.27, 40.72, 41.14, 40.8 ,\n",
       "       41.46, 41.74, 41.51, 41.65, 41.17, 41.66, 40.1 , 41.57, 41.3 ,\n",
       "       40.92, 41.62, 41.86, 40.58, 40.62, 41.81, 41.55, 41.62, 41.23,\n",
       "       41.29, 41.1 , 41.84, 40.73, 40.46, 41.18, 42.09, 41.4 , 41.51,\n",
       "       41.41, 41.86, 41.09, 40.99, 41.92, 41.24, 41.41, 41.83, 41.21,\n",
       "       41.65, 41.87, 42.57, 41.93, 42.03, 40.47, 42.14, 42.68, 42.57,\n",
       "       42.35, 42.75, 41.87, 42.67, 42.19, 41.22, 42.96, 43.61,  0.  ,\n",
       "        0.  ,  0.  ,  0.  ,  0.  ,  0.  ,  0.  ,  0.  ,  0.  ,  0.  ,\n",
       "        0.  ,  0.  ,  0.  ,  0.  ,  0.  ,  0.  ,  0.  ])"
      ]
     },
     "execution_count": 10,
     "metadata": {},
     "output_type": "execute_result"
    }
   ],
   "source": [
    "logL"
   ]
  },
  {
   "cell_type": "markdown",
   "metadata": {},
   "source": [
    "donde se observa una gran cantidad de valores $0.$ que en realidad correspondian a datos ausentes en el conjunto inicial. Estos valores de cero fueron incorporados al utilizar el comando `logL = np.array(data[\"logL\"])`. \n",
    "\n",
    "NOTA: Es importante manjear adecuadamente la ausencia de datos!"
   ]
  },
  {
   "cell_type": "markdown",
   "metadata": {},
   "source": [
    "---\n",
    "Por otra parte, podemos analizar con mayor detalle la aparente correlación entre  $\\log M$ y $\\sigma_{*}$"
   ]
  },
  {
   "cell_type": "code",
   "execution_count": 11,
   "metadata": {},
   "outputs": [
    {
     "data": {
      "image/png": "[encoded data removed]",
      "text/plain": [
       "<Figure size 432x288 with 1 Axes>"
      ]
     },
     "metadata": {
      "needs_background": "light"
     },
     "output_type": "display_data"
    }
   ],
   "source": [
    "plt.plot(sigma_star, logM,  'k.')\n",
    "plt.xlabel(r'$\\sigma_{*}$')\n",
    "plt.ylabel(r'$\\log M$')\n",
    "plt.show()"
   ]
  },
  {
   "cell_type": "markdown",
   "metadata": {},
   "source": [
    "Puede parecer una dependencia lineal entre las dos variables. Sin embargo, para tener una mejor apreciación, incluiremos las barras de error. Para ello utilizamos la función [matplotlib.pyplot.errorbar](https://matplotlib.org/3.2.1/api/_as_gen/matplotlib.pyplot.errorbar.html)"
   ]
  },
  {
   "cell_type": "code",
   "execution_count": 12,
   "metadata": {},
   "outputs": [
    {
     "data": {
      "image/png": "[encoded data removed]",
      "text/plain": [
       "<Figure size 432x288 with 1 Axes>"
      ]
     },
     "metadata": {
      "needs_background": "light"
     },
     "output_type": "display_data"
    }
   ],
   "source": [
    "plt.errorbar(sigma_star, logM, e_logM, e_sigma_star, fmt='k.')\n",
    "plt.xlabel(r'$\\sigma_{*}$')\n",
    "plt.ylabel(r'$\\log M$')\n",
    "plt.show()"
   ]
  },
  {
   "cell_type": "markdown",
   "metadata": {},
   "source": [
    "Esta visualización miestra una correlación no-lineal. Para comprobarlo, podemos modificar la gráfica incluyendo el logaritmo de la dispersion de velocidades, $\\log M$ vs $\\log \\sigma_{*}$,con lo cual la tendencia lineal es evidente,"
   ]
  },
  {
   "cell_type": "code",
   "execution_count": 13,
   "metadata": {},
   "outputs": [
    {
     "data": {
      "image/png": "[encoded data removed]",
      "text/plain": [
       "<Figure size 432x288 with 1 Axes>"
      ]
     },
     "metadata": {
      "needs_background": "light"
     },
     "output_type": "display_data"
    }
   ],
   "source": [
    "plt.plot(np.log10(sigma_star), logM,  'k.')\n",
    "plt.xlabel(r'$\\log \\sigma_{*}$')\n",
    "plt.ylabel(r'$\\log M$')\n",
    "plt.show()"
   ]
  },
  {
   "cell_type": "markdown",
   "metadata": {},
   "source": [
    "Para confirmar esta apreciación, incluimos nuevamente las incertidumbres asociadas. Para ello es necesario recordar la propagación de errores,\n",
    "\n",
    "\\begin{align}\n",
    "f(x) =& \\log_{10} x = \\frac{\\ln x}{\\ln 10}\\\\\n",
    "\\Delta f = &\\frac{1}{\\ln 10} \\frac{\\Delta x}{x}\n",
    "\\end{align}"
   ]
  },
  {
   "cell_type": "code",
   "execution_count": 14,
   "metadata": {},
   "outputs": [
    {
     "data": {
      "image/png": "[encoded data removed]",
      "text/plain": [
       "<Figure size 432x288 with 1 Axes>"
      ]
     },
     "metadata": {
      "needs_background": "light"
     },
     "output_type": "display_data"
    }
   ],
   "source": [
    "\n",
    "e_log_sigma = e_sigma_star/(np.log(10.)*sigma_star)\n",
    "\n",
    "\n",
    "plt.errorbar(np.log10(sigma_star), logM, e_logM, e_log_sigma, fmt='k.')\n",
    "plt.xlabel(r'$\\log \\sigma_{*}$')\n",
    "plt.ylabel(r'$\\log M$')\n",
    "plt.show()"
   ]
  },
  {
   "cell_type": "markdown",
   "metadata": {},
   "source": [
    "Luego volveremos sobre este conjunto de datos para analizar mejor esta relación."
   ]
  },
  {
   "cell_type": "code",
   "execution_count": null,
   "metadata": {},
   "outputs": [],
   "source": []
  }
 ],
 "metadata": {
  "colab": {
   "collapsed_sections": [],
   "name": "DATFiles.ipynb",
   "provenance": []
  },
  "kernelspec": {
   "display_name": "Python 3 (ipykernel)",
   "language": "python",
   "name": "python3"
  },
  "language_info": {
   "codemirror_mode": {
    "name": "ipython",
    "version": 3
   },
   "file_extension": ".py",
   "mimetype": "text/x-python",
   "name": "python",
   "nbconvert_exporter": "python",
   "pygments_lexer": "ipython3",
   "version": "3.9.5"
  }
 },
 "nbformat": 4,
 "nbformat_minor": 1
}
