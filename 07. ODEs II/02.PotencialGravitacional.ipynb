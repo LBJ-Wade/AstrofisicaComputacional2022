{
 "cells": [
  {
   "cell_type": "markdown",
   "metadata": {},
   "source": [
    "![Astrofisica Computacional](../logo.PNG)"
   ]
  },
  {
   "cell_type": "markdown",
   "metadata": {},
   "source": [
    "## Potencial Gravitacional en el Interior de una Estrella Esferica con Densidad Constante\n",
    "---\n",
    "\n",
    "Eduard Larrañaga (ealarranaga@unal.edu.co)\n",
    "\n",
    "---\n",
    "\n",
    "En este ejercicio se modelará el potencial gravitacional en el interior de una estrella esféricamente simétrica con una densidad de masa constante al resolver la ecuación de Poisson correspondiente. Aún cuando esta es una ecuación diferencial parcial, al considerar una distribución esféricamente simétrica el sistema se reduce a una ecuación diferencial ordinaria. \n",
    "\n",
    "\n",
    "Consideraremos la ecuación de Poisson\n",
    "\n",
    "\\begin{equation}\n",
    "\\nabla ^2 \\phi (t,x,y,z) = 4\\pi G \\rho (t,x,y,z)\n",
    "\\end{equation}\n",
    "\n",
    "donde $\\phi(t,x,y,z)$ es el potencial gravitacional y $\\rho(t,x,y,z)$ representa la densidad de masa. Utilizando un sistema de unidades con \n",
    "\n",
    "- Unidades de tiempo : años (yr)\n",
    "- Unidades de masa : Masas solares($M_{\\odot}$)\n",
    "- Unidades de distancia : Unidades Astronómicas (au)\n",
    "\n",
    "se tiene el valor $G=4\\pi^2 \\textrm{au}^3 \\textrm{yr}^{-2} M_{\\odot}^{-1}$.\n",
    "\n",
    "Al imponer que el sistema es estático y tiene simetría esférica, la ecuación se transforma en\n",
    "\n",
    "\\begin{equation}\n",
    "\\frac{1}{r^2} \\frac{d}{dr} \\left( r^2 \\frac{d\\phi (r)}{dr} \\right) = 4\\pi G \\rho (r)\n",
    "\\end{equation}\n",
    "\n",
    "en donde las derivadas parciales se han convertido end erivadas totales debido a la dependencia de las funciones involucradas. En este problema particular, consideraremos que la densidad de masa es constante,\n",
    "\n",
    "\\begin{equation}\n",
    "\\rho = \\textrm{constante}\n",
    "\\end{equation}\n",
    "\n",
    "e impondremos las siguientes condiciones de frontera:\n",
    "\n",
    "\\begin{align}\n",
    "\\phi(0) =& 0 \\\\\n",
    "\\phi(R) =& - \\frac{GM}{R}\n",
    "\\end{align}\n",
    "\n",
    "donde $M$ y $R$ son la masa y el radio de la estrella. Tomaremos los valores obtenidos en un ejercicio anterior (en el caso de una enana blanca),\n",
    "\n",
    "\\begin{align}\n",
    "M = &1.46 M_{\\odot} \\\\\n",
    "R = & 1539.54 \\textrm{km} = 1.02911\\times 10^{-5} \\textrm{au}\n",
    "\\end{align}\n",
    "\n",
    "y con ellos calculamos el valor constante de densidad\n",
    "\n",
    "\\begin{align}\n",
    "\\rho = &\\frac{M}{\\frac{4\\pi}{3}R^3} = 3.1980\\times 10^{14} M_{\\odot} au^{-3}\n",
    "\\end{align}\n"
   ]
  },
  {
   "cell_type": "code",
   "execution_count": 1,
   "metadata": {
    "colab": {
     "base_uri": "https://localhost:8080/"
    },
    "id": "76HH13kmSy-J",
    "outputId": "07331635-1768-4ed8-cd8a-172f7c78fe30"
   },
   "outputs": [],
   "source": [
    "import numpy as np\n",
    "import matplotlib.pyplot as plt\n",
    "%matplotlib inline"
   ]
  },
  {
   "cell_type": "code",
   "execution_count": 2,
   "metadata": {},
   "outputs": [
    {
     "name": "stdout",
     "output_type": "stream",
     "text": [
      "rho = 3.1980e+14\n"
     ]
    }
   ],
   "source": [
    "#### Constantes del Problema ####\n",
    "G = 4*np.pi**2\n",
    "M = 1.46 # Masas solares\n",
    "R = 1.02911e-5 # au\n",
    "V = (4*np.pi/3)*R**3 # Volumen de la estrella esferica\n",
    "rho = M/V # Densidad constante\n",
    "print(f'rho = {rho:.4e}')"
   ]
  },
  {
   "cell_type": "markdown",
   "metadata": {},
   "source": [
    "## Potencial Gravitacional Externo\n",
    "\n",
    "Antes de comenzar con el potencial interno, consideraremos la región externa en donde, debido a la simetría esférica, tomará la forma\n",
    "\n",
    "\\begin{equation}\n",
    "\\phi_{ext}(r) = - \\frac{GM}{r}\n",
    "\\end{equation}"
   ]
  },
  {
   "cell_type": "code",
   "execution_count": 3,
   "metadata": {},
   "outputs": [
    {
     "data": {
      "image/png": "[encoded data removed]",
      "text/plain": [
       "<Figure size 720x504 with 1 Axes>"
      ]
     },
     "metadata": {
      "needs_background": "light"
     },
     "output_type": "display_data"
    }
   ],
   "source": [
    "def phi_ext(r):\n",
    "    return - G*M/r\n",
    "\n",
    "radius = np.linspace(R, 10*R, 100)\n",
    "\n",
    "# Figura potencial externo vs r\n",
    "fig, ax = plt.subplots(figsize=(10,7))\n",
    "ax.plot(radius, phi_ext(radius), color='cornflowerblue')\n",
    "ax.set_title('Potencial Gravitacional Externo')\n",
    "ax.set_xlabel(r'$r$')\n",
    "ax.set_ylabel(r'$\\phi _{ext}(r)$')\n",
    "ax.grid(alpha=0.3)\n",
    "\n",
    "plt.show()"
   ]
  },
  {
   "cell_type": "markdown",
   "metadata": {},
   "source": [
    "---\n",
    "\n",
    "## Potencial Gravitacional Interno\n",
    "\n",
    "Para obtener el potencial interno, es necesario integrar la ecuación diferencial\n",
    "\n",
    "\\begin{equation}\n",
    "\\frac{1}{r^2} \\frac{d}{dr} \\left( r^2 \\frac{d\\phi (r)}{dr} \\right) = 4\\pi G \\rho (r).\n",
    "\\end{equation}\n",
    "\n",
    "Ya que vamos a utilizar el Método Shooting, se implementará un interador Runge-Kutta 4 y por ello debemos re-escribir la relación diferencial como un sistema de ecuaciones de primer orden,\n",
    "\n",
    "\\begin{align}\n",
    "\\frac{d\\phi}{dr} = & \\frac{1}{r^2} u\\\\\n",
    "\\frac{du}{dr} = & 4 \\pi G r^2 \\rho\n",
    "\\end{align}"
   ]
  },
  {
   "cell_type": "markdown",
   "metadata": {
    "id": "IYIMe1F6WVss"
   },
   "source": [
    "---\n",
    "Primero implementaremos la función con las ecuaciones diferenciales y el Método RK4"
   ]
  },
  {
   "cell_type": "code",
   "execution_count": 4,
   "metadata": {},
   "outputs": [],
   "source": [
    "# Ecuaciones diferenciales\n",
    "def ODE(r, q):\n",
    "    '''\n",
    "    q: Variables involucradas\n",
    "    phi = q[0]\n",
    "    u = q[1]\n",
    "    '''\n",
    "    phi = q[0]\n",
    "    u = q[1]\n",
    "\n",
    "    f = np.zeros(2)\n",
    "    f[0] = u/(r**2)\n",
    "    f[1] = 4*np.pi*G*rho*r**2\n",
    "    return f\n",
    "\n",
    "\n",
    "\n",
    "# Método Runge-Kutta 4\n",
    "def RK4(ODE, r, dr, q):\n",
    "    '''\n",
    "    ------------------------------------------\n",
    "    RK4(ODE, r, dr, q):\n",
    "    ------------------------------------------\n",
    "    4th Order Runge-Kutta method for solving \n",
    "    a system of ODEs.\n",
    "    Arguments:\n",
    "    ODE: function defining the system of ODEs\n",
    "    ------------------------------------------\n",
    "    '''\n",
    "    newq = np.zeros(2)\n",
    "    k1 = dr*ODE(r, q)\n",
    "    k2 = dr*ODE(r + dr/2, q + k1/2)\n",
    "    k3 = dr*ODE(r + dr/2, q + k2/2)\n",
    "    k4 = dr*ODE(r + dr, q + k3)\n",
    "    newq = q + (k1 + 2*k2 + 2*k3 + k4)/6\n",
    "\n",
    "    return newq\n"
   ]
  },
  {
   "cell_type": "markdown",
   "metadata": {},
   "source": [
    "Ahora, creamos la malla de integración y proporcionamos una condición inicial adecuada. En este caso conocemos el valor del potencial en el centro de la estrella, pero no sabemos el valor de su primera derivada allí, i.e. $\\frac{d\\phi}{dr} = \\frac{u}{r^2}$. \n",
    "\n",
    "Por ello, debemos considerar un \"ansatz\" para este valor para proceder con la integración. De esta forma supondremos:\n",
    "\n",
    "\\begin{align}\n",
    "\\phi(0) =& 0 \\\\\n",
    "\\frac{d\\phi}{dr} =& z.\n",
    "\\end{align}\n",
    "\n",
    "Nótese que la malla espacial para la discretización no inicia en $r_0=0$ sino en un valor muy pequeño $r_0 = 1 \\times 10^{-5}$ (con el fin de evitar valores divergentes dentro de las ecuaciones)"
   ]
  },
  {
   "cell_type": "code",
   "execution_count": 8,
   "metadata": {
    "colab": {
     "base_uri": "https://localhost:8080/",
     "height": 939
    },
    "executionInfo": {
     "elapsed": 1531,
     "status": "ok",
     "timestamp": 1619733973107,
     "user": {
      "displayName": "Eduard Alexis Larranaga",
      "photoUrl": "https://lh3.googleusercontent.com/a-/AOh14GgCVABzEgj-rCdyxWa29RnA0kIYUCXAaVbnRYOEhQ=s64",
      "userId": "04402438389940282602"
     },
     "user_tz": 300
    },
    "id": "SKTvbYSbWdZp",
    "outputId": "990ce3f4-68d4-426d-8faf-e9f99dcfda11"
   },
   "outputs": [
    {
     "data": {
      "image/png": "[encoded data removed]",
      "text/plain": [
       "<Figure size 720x504 with 1 Axes>"
      ]
     },
     "metadata": {
      "needs_background": "light"
     },
     "output_type": "display_data"
    }
   ],
   "source": [
    "# Establece el grid para la integración\n",
    "npoints = 100\n",
    "r_int = np.linspace(1e-5, R, npoints)\n",
    "dr = radius[1]-radius[0]\n",
    "\n",
    "# Establece las variables\n",
    "q = np.zeros([npoints,2]) \n",
    "\n",
    "#### Condiciones Iniciales ####\n",
    "z = - 700\n",
    "q[0,0] = 0.\n",
    "q[0,1]  = z # Ansatz\n",
    "\n",
    "for i in range(len(r_int)-1):\n",
    "    q[i+1] = RK4(ODE, r_int[i], dr, q[i])\n",
    "    \n",
    "\n",
    "\n",
    "# Figura potencial interno vs r\n",
    "fig, ax = plt.subplots(figsize=(10,7))\n",
    "ax.plot(r_int, q[:,0], color='crimson')\n",
    "ax.set_title('Potencial Gravitacional Interno')\n",
    "ax.set_xlabel(r'$r$')\n",
    "ax.set_ylabel(r'$\\phi_{int}(r)$')\n",
    "ax.grid(alpha=0.3)\n",
    "\n",
    "plt.show()"
   ]
  },
  {
   "cell_type": "markdown",
   "metadata": {},
   "source": [
    "Ahora bien, ya que el problema original posee valores de condición de frontera, es necesario verificar que la solución obtenida cumple con la condición dada en la superficie de la estrella,\n",
    "\n",
    "\\begin{align}\n",
    "\\phi(R) =& - \\frac{GM}{R}\n",
    "\\end{align}.\n",
    "\n",
    "El valor obtenido en la integración es"
   ]
  },
  {
   "cell_type": "code",
   "execution_count": 9,
   "metadata": {},
   "outputs": [
    {
     "data": {
      "text/plain": [
       "92584800.99694648"
      ]
     },
     "execution_count": 9,
     "metadata": {},
     "output_type": "execute_result"
    }
   ],
   "source": [
    "q[-1,0]"
   ]
  },
  {
   "cell_type": "markdown",
   "metadata": {},
   "source": [
    "peor el valor que debe obternerse es"
   ]
  },
  {
   "cell_type": "code",
   "execution_count": 10,
   "metadata": {},
   "outputs": [
    {
     "data": {
      "text/plain": [
       "-5600809.408358859"
      ]
     },
     "execution_count": 10,
     "metadata": {},
     "output_type": "execute_result"
    }
   ],
   "source": [
    "phi_s = -G*M/R\n",
    "phi_s"
   ]
  },
  {
   "cell_type": "markdown",
   "metadata": {},
   "source": [
    "## Método Shooting\n",
    "\n",
    "Debido a que el ansatz $\\left. \\frac{d\\phi}{dr} \\right| _{r=0} = z$ no produjo el valor esperado en la superficie de la estrella, debemos proceder a cambiar el valor de este parámetro.\n",
    "\n",
    "Para conseguir el valor adecuado para $z$, definimos la función\n",
    "\n",
    "\\begin{equation}\n",
    "F(z) = \\phi_{int}(R,z) - \\phi_s(R)\n",
    "\\end{equation}\n",
    "\n",
    "donde $\\phi_{int}(r,z)$ es la función potencial obtenida por integración, la cual depende del ansatz elegido $z$.\n",
    "\n",
    "A continuación implementamos esta función,"
   ]
  },
  {
   "cell_type": "code",
   "execution_count": 13,
   "metadata": {},
   "outputs": [
    {
     "data": {
      "text/plain": [
       "15762425.641259627"
      ]
     },
     "execution_count": 13,
     "metadata": {},
     "output_type": "execute_result"
    }
   ],
   "source": [
    "# Establece el grid para la integración\n",
    "npoints = 100\n",
    "r_int = np.linspace(1e-5, R, npoints)\n",
    "dr = radius[1]-radius[0]\n",
    "\n",
    " \n",
    "def F(z):\n",
    "    # Establece las variables\n",
    "    qz = np.zeros([npoints,2])\n",
    "    #### Condiciones Iniciales ###\n",
    "    qz[0,0] = 0.\n",
    "    qz[0,1]  = z # Ansatz\n",
    "    for i in range(len(r_int)-1):\n",
    "        qz[i+1] = RK4(ODE, r_int[i], dr, qz[i])\n",
    "    return qz[-1,0] - phi_s\n",
    "\n",
    "delta = F(-800)\n",
    "delta"
   ]
  },
  {
   "cell_type": "markdown",
   "metadata": {},
   "source": [
    "y ahora utilizaremos la función [scipy.optimiza.root_scalar](https://docs.scipy.org/doc/scipy/reference/generated/scipy.optimize.root_scalar.html#scipy.optimize.root_scalar) para buscar la raiz de $F(z)$, es decir, el valor $z=z_{root}$ que da como resultado $F(z_{root}) = 0$ y por lo tanto, el potencial gravitacional cumplirá con la condición de frontera en la superficie de la estrella.\n",
    "\n",
    "Para utilizar esta función, se inicia con dos valores iniciales de la variable \n",
    "$z$ y se utiliza el método de la secante para buscar el cero de la función."
   ]
  },
  {
   "cell_type": "code",
   "execution_count": 14,
   "metadata": {},
   "outputs": [
    {
     "data": {
      "text/plain": [
       "      converged: True\n",
       "           flag: 'converged'\n",
       " function_calls: 3\n",
       "     iterations: 2\n",
       "           root: -819.123776503399"
      ]
     },
     "execution_count": 14,
     "metadata": {},
     "output_type": "execute_result"
    }
   ],
   "source": [
    "from scipy.optimize import root_scalar\n",
    "\n",
    "sol = root_scalar(F, x0=-600, x1=-700)\n",
    "sol"
   ]
  },
  {
   "cell_type": "markdown",
   "metadata": {},
   "source": [
    "Como se puede observar del resultado, el procedimiento converge y dió como resultado el valor de $z$"
   ]
  },
  {
   "cell_type": "code",
   "execution_count": 15,
   "metadata": {},
   "outputs": [
    {
     "data": {
      "text/plain": [
       "-819.123776503399"
      ]
     },
     "execution_count": 15,
     "metadata": {},
     "output_type": "execute_result"
    }
   ],
   "source": [
    "z_root = sol.root\n",
    "z_root"
   ]
  },
  {
   "cell_type": "markdown",
   "metadata": {},
   "source": [
    "Fácilmente se puede comprobar que, en efecto, esta es una raiz de la función,"
   ]
  },
  {
   "cell_type": "code",
   "execution_count": 16,
   "metadata": {},
   "outputs": [
    {
     "data": {
      "text/plain": [
       "-1.2200325727462769e-07"
      ]
     },
     "execution_count": 16,
     "metadata": {},
     "output_type": "execute_result"
    }
   ],
   "source": [
    "delta = F(z_root)\n",
    "delta"
   ]
  },
  {
   "cell_type": "markdown",
   "metadata": {},
   "source": [
    "Con esta informción, podemos proceder a realizar la integración para obtener el potencial interno,"
   ]
  },
  {
   "cell_type": "code",
   "execution_count": 17,
   "metadata": {},
   "outputs": [
    {
     "data": {
      "image/png": "[encoded data removed]",
      "text/plain": [
       "<Figure size 720x504 with 1 Axes>"
      ]
     },
     "metadata": {
      "needs_background": "light"
     },
     "output_type": "display_data"
    }
   ],
   "source": [
    "# Establece el grid para la integración\n",
    "npoints = 100\n",
    "r_int = np.linspace(1e-5, R, npoints)\n",
    "dr = radius[1]-radius[0]\n",
    "\n",
    "# Establece las variables\n",
    "q_int = np.zeros([npoints,2]) \n",
    "\n",
    "#### Condiciones Iniciales ####\n",
    "\n",
    "q_int[0,0] = 0.\n",
    "q_int[0,1]  = z_root # True Initial Value\n",
    "\n",
    "for i in range(len(r_int)-1):\n",
    "    q_int[i+1] = RK4(ODE, r_int[i], dr, q_int[i])\n",
    "    \n",
    "\n",
    "\n",
    "# Figura potencial interno vs r\n",
    "fig, ax = plt.subplots(figsize=(10,7))\n",
    "ax.plot(r_int, q_int[:,0], color='crimson')\n",
    "ax.set_title('Potencial Gravitacional Interno')\n",
    "ax.set_xlabel(r'$r$')\n",
    "ax.set_ylabel(r'$\\phi_{int}(r)$')\n",
    "ax.grid(alpha=0.3)\n",
    "\n",
    "plt.show()"
   ]
  },
  {
   "cell_type": "markdown",
   "metadata": {},
   "source": [
    "y a visualizar el potencial gravitacional en las regiones interna y externa."
   ]
  },
  {
   "cell_type": "code",
   "execution_count": 18,
   "metadata": {},
   "outputs": [
    {
     "data": {
      "image/png": "[encoded data removed]",
      "text/plain": [
       "<Figure size 720x504 with 1 Axes>"
      ]
     },
     "metadata": {
      "needs_background": "light"
     },
     "output_type": "display_data"
    }
   ],
   "source": [
    "def phi_ext(r):\n",
    "    return - G*M/r\n",
    "\n",
    "r_ext = np.linspace(R, 2.5*R, 100)\n",
    "\n",
    "# Figura potencial externo vs r\n",
    "fig, ax = plt.subplots(figsize=(10,7))\n",
    "ax.plot(r_int, q_int[:,0], color='crimson')\n",
    "ax.plot(r_ext, phi_ext(r_ext), color='cornflowerblue')\n",
    "ax.set_title('Potencial Gravitacional')\n",
    "ax.set_xscale('log')\n",
    "ax.set_xlabel(r'$\\log r$')\n",
    "ax.set_ylabel(r'$\\phi(r)$')\n",
    "#ax.set_ylim(-0.2e8,0)\n",
    "ax.grid(alpha=0.3)\n",
    "\n",
    "plt.show()"
   ]
  },
  {
   "cell_type": "markdown",
   "metadata": {},
   "source": [
    "\\begin{equation}\n",
    "\\frac{1}{r^2} \\frac{d}{dr} \\left( r^2 \\frac{d\\phi (r)}{dr} \\right) = 4\\pi G \\rho\n",
    "\\end{equation}\n",
    "\n",
    "\\begin{equation}\n",
    "\\frac{d}{dr} \\left( r^2 \\frac{d\\phi (r)}{dr} \\right) = 4\\pi G \\rho r^2\n",
    "\\end{equation}\n",
    "\n",
    "\\begin{equation}\n",
    " r^2 \\frac{d\\phi (r)}{dr}  = \\frac{4\\pi}{3} G \\rho r^3 + C\n",
    "\\end{equation}\n",
    "\n",
    "\\begin{equation}\n",
    " \\frac{d\\phi (r)}{dr}  = \\frac{4\\pi}{3} G \\rho r + \\frac{C}{r^2}\n",
    "\\end{equation}\n",
    "\n",
    "\\begin{equation}\n",
    "\\phi (r)   = \\frac{2\\pi}{3} G \\rho r^2 - \\frac{C}{r} + K\n",
    "\\end{equation}\n",
    "\n",
    "\\begin{equation}\n",
    "\\phi (r)   = \\frac{4\\pi}{3} \\frac{G}{2} \\rho r^2 - \\frac{C}{r} + K\n",
    "\\end{equation}"
   ]
  },
  {
   "cell_type": "code",
   "execution_count": null,
   "metadata": {},
   "outputs": [],
   "source": []
  }
 ],
 "metadata": {
  "colab": {
   "collapsed_sections": [],
   "name": "Ejercicio12_EvaMendez.ipynb",
   "provenance": []
  },
  "kernelspec": {
   "display_name": "Python 3 (ipykernel)",
   "language": "python",
   "name": "python3"
  },
  "language_info": {
   "codemirror_mode": {
    "name": "ipython",
    "version": 3
   },
   "file_extension": ".py",
   "mimetype": "text/x-python",
   "name": "python",
   "nbconvert_exporter": "python",
   "pygments_lexer": "ipython3",
   "version": "3.9.7"
  }
 },
 "nbformat": 4,
 "nbformat_minor": 1
}
