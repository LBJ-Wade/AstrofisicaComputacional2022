{
 "cells": [
  {
   "cell_type": "markdown",
   "metadata": {
    "id": "01gPdISeffwN"
   },
   "source": [
    "![Astrofisica Computacional](../../logo.PNG)"
   ]
  },
  {
   "cell_type": "markdown",
   "metadata": {},
   "source": [
    "---\n",
    "## 40. Problemas Diferenciales con Condiciones de Frontera\n",
    "\n",
    "Eduard Larrañaga (ealarranaga@unal.edu.co)\n",
    "\n",
    "---"
   ]
  },
  {
   "cell_type": "markdown",
   "metadata": {
    "id": "8bSKXjg6ffwV"
   },
   "source": [
    "\n",
    "### Resumen\n",
    "\n",
    "Se presentan algunas de las técnicas para resolver un sistema de ecuaciones diferenciales ordinarias sujetas a condiciones de frontera.\n",
    "\n",
    "`A. Garcia. Numerical Methods for Physics. (1999). Chapter 3 `\n",
    "\n",
    "---"
   ]
  },
  {
   "cell_type": "markdown",
   "metadata": {
    "id": "v5_9s3j-ffwW"
   },
   "source": [
    "## Ecuaciones Diferenciales Ordinarias con Condiciones de Frontera\n",
    "\n",
    "Un problema de valor de frontera (BVP) tiene como objetivo encontrar una solución al sistema de ODEs en un intervalo $[a,b]$ de la variable independiente, sujeta a que debe satisfacer unas condiciiones en los extremos de este intervalo (condiciones de frontera).\n",
    "\n",
    "Un ejemplo de un BVP es\n",
    "\n",
    "\\begin{equation}\n",
    "y'' = f(x,y,y')\\,\\,, \n",
    "\\hspace{0.5em} y(a) = A\\,\\,,\n",
    "\\hspace{0.5em} y(b) = B\\,\\,, \n",
    "\\hspace{0.5em} \\text{and } x \\in [a,b]\\,\\,.\n",
    "\\end{equation}\n",
    "\n",
    "\n",
    "\n",
    "\n",
    "\n",
    "\n",
    "---\n",
    "## El método Shooting\n",
    "\n",
    "El mértodo **Shooting** resuelve el BVP al transformarlo en un problema de valor inicial e introduciendo una elección educada sobre las condiciones iniciales no-conocidas en la frontera interna. Leugo, se itera utilizando un método como Euler, Predictor-Corrector o RK hasta llegar a la frontera externa y se comprueba si se cumple con la condición de frontera requerida. En caso de no satisfacerse, se modifica la condición inicial elegida y se repite el proceso hasta que se logre con las condiciones de frontera.\n",
    "\n",
    "\n",
    "### Ejemplo\n",
    "\n",
    "Dado el BVP presentado arriba, debe notarse que aunque se impone el valor $y(a) = $, el valor de $y'(a)$ no es conocido.\n",
    "\n",
    "\n",
    "Se puede realizar una elección inicial de $y'(a) = z_0$ para convertir el BVP a uno de valor inicial con la estructura \n",
    "\n",
    "\\begin{equation}\n",
    "y' = u(x) \\hspace{0.5cm},\\hspace{0.5cm} y'(a) = z_0\n",
    "\\end{equation}\n",
    "\n",
    "\\begin{equation}\n",
    "u' = f(x,y,u) \\hspace{0.5cm},\\hspace{0.5cm} y(a) = A.\n",
    "\\end{equation}\n",
    "\n",
    "\n",
    "Ahora se integra este sistema de ODEs desde la condición inicial hasta el punto $x=b$. Debido a que se eligió arbitrariamente el valor $z_0$, la solución encontrada se puede escribir como $y=y(x,z_0)$, y el objetivo es que esta función cumpla que  $y(b,z_0) = B$. Si la elección de $z_0$ no logra este objetivo, se puede introducir la función\n",
    "\n",
    "\\begin{equation}\n",
    "\\Phi(z_0) = y(b,z_0) - B\n",
    "\\end{equation}\n",
    "\n",
    "y buscar el valor de $z_0$ que logre que $\\Phi(z_0) = 0$. Esto quiere decir que se estará buscando una raiz de la función $\\Phi(z_0)$."
   ]
  },
  {
   "cell_type": "markdown",
   "metadata": {
    "id": "hnk-IalKffwX"
   },
   "source": [
    "--- \n",
    "### El Algoritmo  Shooting \n",
    "\n",
    "El algoritmo Shooting completo para $y'' = f(x,y,y')$ se puede resumir como\n",
    "\n",
    "1. Se introduce (arbitrariamente)  el valor incial $z_0 = y'(a)$ y se comienza con un contador de iteraciones $i = 0$.\n",
    "\n",
    "2. Se calcula $y = y(x,z_i)$ integrando el problema de valor incial.\n",
    "\n",
    "\n",
    "3. Se calcula $\\Phi(z_i) = y(b,z_i) - B$. \n",
    " - Si $z_i$ no produce una solución suficientemente precisa del problema (i.e. el valor de $\\Phi(z_i)$ no es suficientemente cercano a cero), se incrementa el indice de $i$ a $i+1$ y se encuentra un valor más adecuado $z_{i+1}$ utilizando un buscador de raices para $\\Phi(z_i) = 0$. Luego se vuelve a (2).\n",
    "\n",
    "\n",
    "\n",
    "**Nota:** Típicamente se utiliza el método de la secante para buscar la raíz debido a que la derivada de la función $\\Phi(z)$ no se conoce analíticamente. Para que este método pueda aplicarse, se necesita introducir al menos dos valores iniciales $z$."
   ]
  },
  {
   "cell_type": "markdown",
   "metadata": {
    "id": "mN_S7YZLffwX"
   },
   "source": [
    "---\n",
    "\n",
    "\n",
    "## Método de Diferencias Finitas\n",
    "\n",
    "Los BVPs descritos arriba pueden ser resueltos al expandir en serie de Taylor las ODEs hasta un orden adecuado (por ejemplo lineal, asumiendo que no existen términos no-lineales en y o y').\n",
    "\n",
    "Por ejemplo, consderemos el sistema diferencial\n",
    "\n",
    "\\begin{equation}\n",
    "y'' = g(x) - p(x)y' - q(x) y\\,\\,,\n",
    "\\end{equation}\n",
    "\n",
    "donde $g(x)$, $p(x)$, y $q(x)$ son funciones exclusivamente de la variable independiente $x$ y donde la convención de signos es arbitraria.\n",
    "\n",
    "\n",
    "Las derivadas $y'$ y $y''$ pueden ser discretizadas en una malla equidistante en el intervalo $[a,b]$ con un tamaño de paso $h$,\n",
    "\n",
    "\\begin{equation}\n",
    "\\begin{aligned}\n",
    "y'(x_i) &= \\frac{y_{i+1} - y_{i-1}}{2h}\\,\\,,\\\\\n",
    "y''(x_i) &= \\frac{y_{i+1} + y_{i-1} - 2 y_i}{h^2}\\,\\,,\n",
    "\\end{aligned}\n",
    "\\end{equation}\n",
    "\n",
    "donde $y_i = y(x_{i})$,  $x_i = a + i h$, con $(i = 0, ... , n+1)$, y \n",
    "\n",
    "\\begin{equation}\n",
    "h = \\frac{b-a}{n+1}.\n",
    "\\end{equation}\n",
    "\n",
    "Evaluando la ecuación diferencial en $x_i$ y reemplazando las expresiones discretizadas se obtiene\n",
    "\n",
    "\\begin{equation}\n",
    "\\frac{y_{i+1} + y_{i-1} - 2 y_i}{h^2} + p_i \\frac{y_{i+1} - y_{i-1}}{2h} + q_i y_i =  g_i\n",
    "\\end{equation}\n",
    "\n",
    "donde $p_i = p(x_i)$, $g_i = g(x_i)$, y $q_i = q(x_i)$. Al multiplicar toda la expresión por $h^2$,\n",
    "\n",
    "\\begin{equation}\n",
    "y_{i+1} + y_{i-1} - 2 y_i + \\frac{h}{2}p_i y_{i+1} - \\frac{h}{2} p_i y_{i-1} + h^2 q_i y_i = h^2 g_i.\n",
    "\\end{equation}\n",
    "\n",
    "De esta forma, la versión discreta de estas ecuaciones es un sistema de $n+2$ ecuaciones algebraicas lineales, en donde se han incluido las condiciones de frontera:\n",
    "\n",
    "\\begin{equation}\n",
    "\\begin{aligned}\n",
    "y_0 &= A\\,\\,\\\\\n",
    "\\left(1-\\frac{h}{2}p_i \\right)  y_{i-1} - \\left(2-h^2q_i \\right) y_i +  \\left(1+\\frac{h}{2}p_i \\right) y_{i+1} &= h^2 g_i\\,\\,\\\\\n",
    "y_{n+1} &= B\\,\\,.\n",
    "\\end{aligned}\n",
    "\\end{equation}\n",
    "\n",
    "\n",
    "Este sistema se puede representar con una matriz tri-diagonal de dimensión $n \\times n$ (nótese que los valores de $y_0$ y $y_{n+1}$ ya son concidos y por ello solo se deben buscar $n$ valores de $y_i$):\n",
    "\n",
    "\\begin{equation}\n",
    "\\begin{pmatrix}\n",
    "-2+h^2q_1 & 1+ \\frac{h}{2}p_1& 0 & \\cdots &\\cdots&\\cdots  &0\\\\\n",
    "1-\\frac{h}{2} p_2&\\ddots&\\ddots & 0 &\\cdots & \\cdots & 0\\\\\n",
    "0 & \\ddots & \\ddots & \\ddots & 0 & \\cdots & \\vdots\\\\\n",
    "\\vdots & 0 & \\ddots & \\ddots & \\ddots & 0 & \\vdots \\\\\n",
    "\\vdots & \\vdots & 0 & \\ddots & \\ddots & \\ddots & 0\\\\\n",
    "\\vdots & \\vdots & \\vdots& 0& \\ddots & \\ddots & 1+\\frac{h}{2}p_{n-1}\\\\\n",
    "\\vdots & 0 & 0 & \\cdots & 0 & 1-\\frac{h}{2} p_n & -2+h^2 q_n\\\\\n",
    "\\end{pmatrix}\n",
    "\\begin{pmatrix}\n",
    "y_1\\\\\\vdots \\\\\\vdots \\\\\\vdots \\\\\\vdots \\\\\\vdots \\\\ y_n\n",
    "\\end{pmatrix}\n",
    "= \\begin{pmatrix}\n",
    "h^2 g_1 - A(1-\\frac{h}{2}p_1)\\\\\n",
    "h^2 g_2\\\\\n",
    "\\vdots\\\\\n",
    "\\vdots\\\\\n",
    "\\vdots\\\\\n",
    "h^2 g_{n-1}\\\\\n",
    "h^2 g_n - B(1+\\frac{h}{2}p_n)\\\\\n",
    "\\end{pmatrix}\n",
    "\\end{equation}"
   ]
  }
 ],
 "metadata": {
  "colab": {
   "collapsed_sections": [],
   "name": "ODE02.ipynb",
   "provenance": []
  },
  "kernelspec": {
   "display_name": "Python 3 (ipykernel)",
   "language": "python",
   "name": "python3"
  },
  "language_info": {
   "codemirror_mode": {
    "name": "ipython",
    "version": 3
   },
   "file_extension": ".py",
   "mimetype": "text/x-python",
   "name": "python",
   "nbconvert_exporter": "python",
   "pygments_lexer": "ipython3",
   "version": "3.9.7"
  }
 },
 "nbformat": 4,
 "nbformat_minor": 1
}
