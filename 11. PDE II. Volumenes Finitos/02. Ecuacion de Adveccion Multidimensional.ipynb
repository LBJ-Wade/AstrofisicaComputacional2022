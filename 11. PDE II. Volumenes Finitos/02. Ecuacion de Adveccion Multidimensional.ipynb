{
 "cells": [
  {
   "cell_type": "markdown",
   "metadata": {
    "id": "Uw2bcL6FltCB"
   },
   "source": [
    "![Astrofisica Computacional](../logo.PNG)"
   ]
  },
  {
   "cell_type": "markdown",
   "metadata": {},
   "source": [
    "---\n",
    "## 02. Ecuación de Advección Multidimensional\n",
    "\n",
    "Eduard Larrañaga (ealarranaga@unal.edu.co)\n",
    "\n",
    "---"
   ]
  },
  {
   "cell_type": "markdown",
   "metadata": {
    "id": "aSVOtGizlnwl"
   },
   "source": [
    "\n",
    "### Resumen\n",
    "\n",
    "Se obtiene la solución de la ecuación de advección multidimensional por el método de volumenes finitos\n",
    "\n",
    "\n",
    "---"
   ]
  },
  {
   "cell_type": "markdown",
   "metadata": {
    "id": "8ogdbF2qlnwl"
   },
   "source": [
    "---\n",
    "\n",
    "## Ecuación Lineal de Advección 2-Dimensional\n",
    "\n",
    "La ecuación lineal de advección en 2-dimensiones para la función $\\psi = \\psi(t,x,y)$ es\n",
    "\n",
    "\\begin{equation}\n",
    "\\partial_t \\psi + u \\partial_x \\psi + v \\partial_y \\psi = 0\n",
    "\\end{equation}\n",
    "\n",
    "donde $u$ es la velocidad de advección en direccion-x y $v$ es la velocidad en dirección-y . El promedio de la función $\\psi(t,x,y)$ en la zona $i,j$ se denotará como $\\psi_{i,j}$ y en general, el índice $i$ etiquetará la dirección-x mientras que el índice $j$ etiqueta la dirección-y. \n",
    "\n",
    "<center><img src=\"https://i.ibb.co/gMCg1gC/2Dgrid.png\" alt=\"2Dgrid\" width=\"600\"></center>\n",
    "\n",
    "---\n",
    "\n",
    "### Método de Volumenes Finitos en 2-dimensiones\n",
    "\n",
    "Ya que $u$ y $v$ se conisderarán como constantes, es posible colocarlas dentro de las derivadas parciales en la ecuación de advección,\n",
    "\n",
    "\\begin{equation}\n",
    "\\partial_t \\psi + \\partial_x (u \\psi) + \\partial_y (v \\psi) = 0.\n",
    "\\end{equation}\n",
    "\n",
    "Se define el promedio de la función $\\psi$ en una zona al integras sobre el *volumen* 2-dimensional de uno de los intervalos,\n",
    "\n",
    "\\begin{equation}\n",
    "\\psi_{i,j} = \\frac{1}{\\Delta x \\Delta y} \n",
    "   \\int_{x_{i-\\frac{1}{2}}}^{x_{i+\\frac{1}{2}}} \\int_{y_{j-\\frac{1}{2}}}^{y_{j+\\frac{1}{2}}} \n",
    "   \\psi(x,y,t) \\, dx \\, dy .\n",
    "\\end{equation}\n",
    "\n",
    "De esta forma, al integrar la ecuación de advección con respecto a $x$ y a $y$, se obtiene\n",
    "\n",
    "\\begin{align}\n",
    "\\frac{1}{\\Delta x \\Delta y} \n",
    "  \\int_{x_{i-\\frac{1}{2}}}^{x_{i+\\frac{1}{2}}} \n",
    "  \\int_{y_{j-\\frac{1}{2}}}^{y_{j+\\frac{1}{2}}} \\partial_t \\psi \\, dx \\, dy =  \n",
    "  &- \\frac{1}{\\Delta x \\Delta y}\n",
    "       \\int_{x_{i-\\frac{1}{2}}}^{x_{i+\\frac{1}{2}}} \\int_{y_{j-\\frac{1}{2}}}^{y_{j+\\frac{1}{2}}}\n",
    "      \\partial_x (u \\psi) \\, dx \\, dy \\nonumber \\\\\n",
    "  &- \\frac{1}{\\Delta x \\Delta y}\n",
    "       \\int_{x_{i-\\frac{1}{2}}}^{x_{i+\\frac{1}{2}}} \\int_{y_{j-\\frac{1}{2}}}^{y_{j+\\frac{1}{2}}}\n",
    "      \\partial_y (v \\psi) \\, dx \\, dy \n",
    "\\end{align}\n",
    "\n",
    "y al intercambiar la integral con el operador de derivada temporal al lado izquierdo e integrar adecuadamente los terminos del lado derecho se llega a\n",
    "\n",
    "\\begin{align}\n",
    " \\frac{\\partial \\psi_{i,j}}{\\partial t} =\n",
    "  &- \\frac{1}{\\Delta x\\Delta y} \\int_{y_{j-\\frac{1}{2}}}^{y_{j+\\frac{1}{2}}}\n",
    "     \\left \\{ (u \\psi)_{i+\\frac{1}{2},j} - (u \\psi)_{i-\\frac{1}{2},j} \\right \\} dy \\nonumber \\\\\n",
    "  &- \\frac{1}{\\Delta x\\Delta y} \\int_{x_{i-\\frac{1}{2}}}^{x_{i+\\frac{1}{2}}}\n",
    "     \\left \\{ (v \\psi)_{i,j+\\frac{1}{2}} - (v \\psi)_{i,j-\\frac{1}{2}} \\right \\} dx\n",
    "\\end{align}\n",
    "\n",
    "Integración de esta ecuación entre los tiempos $t^n$ y $t^{n+1}$ da como resultado\n",
    "\n",
    "\\begin{align}\n",
    " \\psi_{i,j}^{n+1} - \\psi_{i,j}^n = \n",
    "  &- \\frac{1}{\\Delta x\\Delta y} \\int_{t^n}^{t^{n+1}} \\int_{y_{j-\\frac{1}{2}}}^{y_{j+\\frac{1}{2}}}\n",
    "     \\left \\{ (u \\psi)_{i+\\frac{1}{2},j} - (u \\psi)_{i-\\frac{1}{2},j} \\right \\} dy dt \\nonumber \\\\\n",
    "  &- \\frac{1}{\\Delta x\\Delta y} \\int_{t^n}^{t^{n+1}} \\int_{x_{i-\\frac{1}{2}}}^{x_{i+\\frac{1}{2}}}\n",
    "     \\left \\{ (v \\psi)_{i,j+\\frac{1}{2}} - (v \\psi)_{i,j-\\frac{1}{2}} \\right \\} dx dt .\n",
    "\\end{align}\n"
   ]
  },
  {
   "cell_type": "markdown",
   "metadata": {},
   "source": [
    "Ahora bien, el flujo a través de una superficie de interfaz se define como el promedio sobre la superficie de esa cara y en el tiempo. Esto da como resultado las siguientes expresiones:\n",
    "\n",
    "1. A través de una cara de x constante:\n",
    "\\begin{equation}\n",
    "\\langle (u\\psi)_{i+\\frac{1}{2},j}\\rangle_{(t)} = \\frac{1}{\\Delta y \\Delta t}\n",
    "    \\int_{t^n}^{t^{n+1}} \\int_{y_{j-\\frac{1}{2}}}^{y_{j+\\frac{1}{2}}} (u\\psi)_{i+\\frac{1}{2},j}\\, dy dt\n",
    "\\end{equation}\n",
    "\n",
    "2. A través de una cara de y constante:\n",
    "\\begin{equation}\n",
    "\\langle (v\\psi)_{i,j+\\frac{1}{2}}\\rangle_{(t)} = \\frac{1}{\\Delta x \\Delta t}\n",
    "    \\int_{t^n}^{t^{n+1}} \\int_{x_{i-\\frac{1}{2}}}^{x_{i+\\frac{1}{2}}} (v\\psi)_{i,j+\\frac{1}{2}}\\, dx dt \n",
    "\\end{equation}\n",
    "\n",
    "donde $\\langle . \\rangle_{(t)}$ denotará el promedio temporal sobre esa cara."
   ]
  },
  {
   "cell_type": "markdown",
   "metadata": {
    "id": "SDSAmoGflnwm"
   },
   "source": [
    "Al igual que en el caso de la advección 1-dimensional, el promedio temporal se reemplaza por el flujo en el punto medio en el tiempo y ahora, también el promedio sobre la cara se reemplazará por el valor del flujo en el centro de la cara,\n",
    "\n",
    "\\begin{equation}\n",
    "\\langle (u\\psi)_{i+\\frac{1}{2},j} \\rangle_{(t)} \\approx (u\\psi)_{i+\\frac{1}{2},j}^{n+\\frac{1}{2}}\n",
    "\\end{equation}\n",
    "\n",
    "y por lo tanto,\n",
    "\n",
    "\\begin{equation}\n",
    "\\psi_{i,j}^{n+1} = \\psi_{i,j}^n - \\Delta t \\left [\n",
    "   \\frac{(u\\psi)_{i+\\frac{1}{2},j}^{n+\\frac{1}{2}} - (u\\psi)_{i-\\frac{1}{2},j}^{n+\\frac{1}{2}}}{\\Delta x} +\n",
    "   \\frac{(v\\psi)_{i,j+\\frac{1}{2}}^{n+\\frac{1}{2}} - (v\\psi)_{i,j-\\frac{1}{2}}^{n+\\frac{1}{2}}}{\\Delta y} \\right ]\n",
    "\\end{equation} \n",
    "\n",
    "\n",
    "\n",
    "En este problea de advección lineal, en el que $u$ y $v$ son constantes, solo es necesario encontrar los valores de $a$ aen las interfaces, esto quiere decir $\\psi^{n+1/2}_{i\\pm 1/2 , j}$ en las interfaces-x y $\\psi^{n+1/2}_{i, j \\pm 1/2}$ en las interfaces-y. Existen dos métodos para calcular estos estados: **con división dimensional** y **sin división**. "
   ]
  },
  {
   "cell_type": "markdown",
   "metadata": {
    "id": "33wrJjswlnwm"
   },
   "source": [
    "---\n",
    "### Método de División Dimensional \n",
    "\n",
    "Los métodos con división dimensional son los más sencillos de implementar y tienen como base que cada una de las dimensiones se trabaja de forma independiente a las demás. Esto implica que se utilizará el método de solución 1-dimensional descrito en clases anteriores en cada una de las direcciones.\n",
    "\n",
    "El método de Strang es un algoritmo de segundo orden de precisión en el tiempo en el cual se alterna el orden de actualización dimensional en cada paso temporal. De esta forma, cada actualización temporal en un $\\Delta t$ consiste en una actualización en $x$ seguida de una actualización en $y$,\n",
    "\n",
    "\\begin{eqnarray}\n",
    "\\bar{\\psi}_{i,j} &=& \\psi_{i,j}^n \n",
    "  - \\Delta t \\frac{ u \\psi_{i+\\frac{1}{2},j}^{n+\\frac{1}{2}} - u \\psi_{i-\\frac{1}{2},j}^{n+\\frac{1}{2}} }{\\Delta x}\\\\\n",
    "\\psi_{i,j}^{n+1} &=&  \\bar{\\psi}_{i,j}\n",
    "  - \\Delta t \\frac{ v \\bar{\\psi}_{i,j+\\frac{1}{2}}^{n+\\frac{1}{2}} - v \\bar{\\psi}_{i,j-\\frac{1}{2}}^{n+\\frac{1}{2}} }{\\Delta y}.\n",
    "\\end{eqnarray}\n",
    "\n",
    "Para construir los estados en las interfaces se sigue el mismo porceso descrito para la ecuación de advección 1-dimensional, i.e. considerando las expansiones desde la izquierda o desde la derecha y resolviendo el problema de Riemann correspondiente.\n"
   ]
  },
  {
   "cell_type": "code",
   "execution_count": null,
   "metadata": {},
   "outputs": [],
   "source": []
  }
 ],
 "metadata": {
  "colab": {
   "collapsed_sections": [],
   "name": "PDE05.ipynb",
   "provenance": []
  },
  "kernelspec": {
   "display_name": "Python 3 (ipykernel)",
   "language": "python",
   "name": "python3"
  },
  "language_info": {
   "codemirror_mode": {
    "name": "ipython",
    "version": 3
   },
   "file_extension": ".py",
   "mimetype": "text/x-python",
   "name": "python",
   "nbconvert_exporter": "python",
   "pygments_lexer": "ipython3",
   "version": "3.9.5"
  }
 },
 "nbformat": 4,
 "nbformat_minor": 1
}
