{
 "cells": [
  {
   "cell_type": "markdown",
   "metadata": {},
   "source": [
    "![Astrofisica Computacional](../logo.PNG)"
   ]
  },
  {
   "cell_type": "markdown",
   "metadata": {
    "id": "3NgqXCbSJCtT"
   },
   "source": [
    "---\n",
    "## 31. Busqueda de Raices\n",
    "\n",
    "\n",
    "Eduard Larrañaga (ealarranaga@unal.edu.co)\n",
    "\n",
    "---"
   ]
  },
  {
   "cell_type": "markdown",
   "metadata": {
    "id": "dLPHY7q7JCtd"
   },
   "source": [
    "\n",
    "\n",
    "### Resumen\n",
    "\n",
    "En este cuaderno se describen algunas de las técnicas para encontrar numéricamente las raices de una función. \n",
    "\n",
    "---"
   ]
  },
  {
   "cell_type": "markdown",
   "metadata": {
    "id": "QCXkYB3vJCte"
   },
   "source": [
    "En muchas ocasiones, es necesario encontrar las raices de una función , i.e. aquellos valores de la variable independiente $x_r$ para los cuales $f(x_r) = 0$. En general, $x_r$ puede representar uno o multiples variables y $f$ puede ser una sola función o puede representar un sistema de ecuaciones. También es posible que $f$ dependa explicitamente de $x$ o que $f$ dependa implicitamente de $x$.\n",
    "\n",
    "---\n",
    "## Método de Newton-Raphson \n",
    "\n",
    "Existen multiples métodos para encontrar las raices de una función, pero el más popular de ellos es el método de **Newton-Raphson**. Para describir esta técnica, debemos considerar la expansión en serie de Taylor de la función $f(x)$ alrededor de la raíz $x_r$, \n",
    "\n",
    "\\begin{equation}\n",
    "f(x_r) = f(x) + (x_r - x) f'(x) +  \\mathcal{O}( (x_r - x)^2) \\approx 0 .\n",
    "\\end{equation}\n",
    "\n",
    "El valor $x_r$ debe entenderse como el valor de la raíz en el paso $n$-ésimo en un proceso iterativo. Por lo tanto, en el paso $n+1$ de la iteración, a primer orden, se tendrá\n",
    "\n",
    "\\begin{equation}\n",
    "f(x_{n+1}) = f(x_n) + (x_{n+1} - x_{n})\n",
    "f'(x_n) \\approx 0 ,\n",
    "\\end{equation}\n",
    "\n",
    "de donde despejamos\n",
    "\n",
    "\\begin{equation}\n",
    "x_{n+1} =  x_n - \\frac{f(x_n)}{f'(x_n)} .\n",
    "\\end{equation}\n",
    "\n",
    "La implementación de este procedmiento iterativo se dentendrá cuando el cambio fraccionario entre los resultados de la iteración $n$ y $n+1$ isea más pequeña que la precisión de punto flotante (epsilon de la máquina)\n",
    "\n",
    "\\begin{equation}\n",
    "\\left| \\frac{[f(x_{n+1}) - f(x_{n})]}{f({x_n})} \\right| < \\epsilon .\n",
    "\\end{equation}\n",
    "\n",
    "La convergencia del método de Newton-Raphson Method es de segundo orden si $f(x)$ se comporta bien y si el valor incial para el procedimiento  $x_0$ es un punto cercano al valor de la raíz.\n",
    "\n",
    "Nota Importante: Este método necesita conocer la forma analítica de la primera derivada $f'(x)$. Si este no es el caso, se necesitará evaluar numéricamnete esta derivada y la técnica se denominará el **método de la secante**."
   ]
  },
  {
   "cell_type": "markdown",
   "metadata": {
    "id": "Hn6aHxRAJCtf"
   },
   "source": [
    "---\n",
    "### Método de la secante\n",
    "\n",
    "El método de la secante es similar al método de Newton-Raphson, pero la primera derivada $f'(x_n)$ es evaluada numericamente. Usualmente esta se evalua con diferencias hacia atrás, con lo que se obtiene el proceso iterativo\n",
    "\n",
    "\\begin{equation}\n",
    "x_{n+1} = x_{n} - f(x_n)\\frac{x_n - x_{n-1}}{f(x_n) - f(x_{n-1})}\\,\\,.\n",
    "\\end{equation}\n",
    "\n",
    "Note que este proceso iterativo necesita dos puntos para iniciar, o al menos un valor inicial de la primera derivada, i.e. $f'(x_0)$.  Debido a la inclusion del procedimiento numérico para estimar la primera derivada, el método de la secante converge mas lentamente que el método de Newton-Raphson. "
   ]
  },
  {
   "cell_type": "markdown",
   "metadata": {
    "id": "teYE6T0lJCtg"
   },
   "source": [
    "#### Ejemplo. Raices de una función discreta utilizando el método de Newton-Raphson ( secante ) \n",
    "\n",
    "La información de la función sera leida de un archivo .txt y se encontrará numéricamente la raiz de la función aplicando el método de Newton-Raphson (o secante). Se utilizará una interpolación cuadrática por intervalos para modelar la función. \n",
    "\n",
    "Antrs de localizar numéricamente la rai´z, se visualizará el comportamiento de la función. "
   ]
  },
  {
   "cell_type": "code",
   "execution_count": 1,
   "metadata": {
    "colab": {
     "base_uri": "https://localhost:8080/",
     "height": 334
    },
    "executionInfo": {
     "elapsed": 2167,
     "status": "ok",
     "timestamp": 1618768943329,
     "user": {
      "displayName": "Eduard Alexis Larranaga",
      "photoUrl": "https://lh3.googleusercontent.com/a-/AOh14GgCVABzEgj-rCdyxWa29RnA0kIYUCXAaVbnRYOEhQ=s64",
      "userId": "04402438389940282602"
     },
     "user_tz": 300
    },
    "id": "QmtJMqNuJCtg",
    "outputId": "c2a03a01-663a-4ceb-88dc-2b43168bd377"
   },
   "outputs": [
    {
     "data": {
      "image/png": "[encoded data removed]",
      "text/plain": [
       "<Figure size 504x360 with 1 Axes>"
      ]
     },
     "metadata": {
      "needs_background": "light"
     },
     "output_type": "display_data"
    }
   ],
   "source": [
    "import numpy as np\n",
    "import matplotlib.pyplot as plt\n",
    "%matplotlib inline\n",
    "\n",
    "# Reading the data\n",
    "data = np.loadtxt( 'data_points.txt', comments='#', delimiter=',')\n",
    "x_data = data[:,0]\n",
    "f_data = data[:,1]\n",
    "\n",
    "plt.figure(figsize=(7,5))\n",
    "plt.plot(x_data, f_data, color='red')\n",
    "plt.title('')\n",
    "plt.xlabel(r'$x$')\n",
    "plt.ylabel(r'$f(x)$')\n",
    "plt.grid()\n",
    "plt.show()"
   ]
  },
  {
   "cell_type": "markdown",
   "metadata": {
    "id": "e3J7AgyMJCti"
   },
   "source": [
    " Del gráfico, se observa qye la raíz debe ubicarse en el intervalo entre $x=0$ y $x=2$. Por ello nos restringiremos a esta región:"
   ]
  },
  {
   "cell_type": "code",
   "execution_count": 2,
   "metadata": {
    "colab": {
     "base_uri": "https://localhost:8080/",
     "height": 338
    },
    "executionInfo": {
     "elapsed": 711,
     "status": "ok",
     "timestamp": 1618768949288,
     "user": {
      "displayName": "Eduard Alexis Larranaga",
      "photoUrl": "https://lh3.googleusercontent.com/a-/AOh14GgCVABzEgj-rCdyxWa29RnA0kIYUCXAaVbnRYOEhQ=s64",
      "userId": "04402438389940282602"
     },
     "user_tz": 300
    },
    "id": "fJXVwP4aJCti",
    "outputId": "1d8d10d7-d115-4972-b346-1dd83d7d5e57"
   },
   "outputs": [
    {
     "data": {
      "image/png": "[encoded data removed]",
      "text/plain": [
       "<Figure size 504x360 with 1 Axes>"
      ]
     },
     "metadata": {
      "needs_background": "light"
     },
     "output_type": "display_data"
    }
   ],
   "source": [
    "plt.figure(figsize=(7,5))\n",
    "plt.plot(x_data, f_data, color='red')\n",
    "plt.scatter(x_data, f_data, color='black')\n",
    "plt.title('')\n",
    "plt.xlabel(r'$x$')\n",
    "plt.ylabel(r'$f(x)$')\n",
    "plt.xlim(0,2)\n",
    "plt.ylim(-10,10)\n",
    "plt.grid()\n",
    "plt.show()"
   ]
  },
  {
   "cell_type": "markdown",
   "metadata": {
    "id": "4zO-JVDYJCti"
   },
   "source": [
    "Este zoom muestra el interior del intervalo  $1<x<1.75$. Nos concentraremos en los tres puntos en el medio del intervalo con el fin de interpolar un polinómio cuadrático y aplicar el método de busqueda de raices."
   ]
  },
  {
   "cell_type": "code",
   "execution_count": 3,
   "metadata": {
    "colab": {
     "base_uri": "https://localhost:8080/"
    },
    "executionInfo": {
     "elapsed": 747,
     "status": "ok",
     "timestamp": 1618768958741,
     "user": {
      "displayName": "Eduard Alexis Larranaga",
      "photoUrl": "https://lh3.googleusercontent.com/a-/AOh14GgCVABzEgj-rCdyxWa29RnA0kIYUCXAaVbnRYOEhQ=s64",
      "userId": "04402438389940282602"
     },
     "user_tz": 300
    },
    "id": "KMZdsIuYJCtj",
    "outputId": "8917a41a-eb9e-4b62-c8c5-7a872f22888b"
   },
   "outputs": [
    {
     "name": "stdout",
     "output_type": "stream",
     "text": [
      "a =  30 : x_a =  1.12245 : f(x_a) =  2.44474\n",
      "a =  31 : x_a =  1.32653 : f(x_a) =  -0.0279679\n"
     ]
    }
   ],
   "source": [
    "# Find the initial and final points of the restricted interval of \n",
    "# three points to interpolate.\n",
    "for i in range(len(x_data)-1):\n",
    "    if x_data[i]>=1:\n",
    "        a=i\n",
    "        break\n",
    "\n",
    "# The interval will include three points:\n",
    "# x[a], x[a+1], x[a+2]\n",
    "# Here we define the arrays that enter as arguments\n",
    "# for the interpolated polynomial\n",
    "x_int =[x_data[a], x_data[a+1], x_data[a+2]]\n",
    "f_int =[f_data[a], f_data[a+1], f_data[a+2]]\n",
    "\n",
    "print('a = ', a, ': x_a = ', x_data[a], ': f(x_a) = ', f_data[a])\n",
    "print('a = ', 31, ': x_a = ', x_data[31], ': f(x_a) = ', f_data[31])"
   ]
  },
  {
   "cell_type": "markdown",
   "metadata": {
    "id": "VEOTM32-JCtj"
   },
   "source": [
    "Ahora, utilizamos el polinomio cuadrático interpolado y utilizamos el métodos de Newton-Raphson (o secante)."
   ]
  },
  {
   "cell_type": "code",
   "execution_count": 4,
   "metadata": {
    "colab": {
     "base_uri": "https://localhost:8080/"
    },
    "executionInfo": {
     "elapsed": 523,
     "status": "ok",
     "timestamp": 1618768965922,
     "user": {
      "displayName": "Eduard Alexis Larranaga",
      "photoUrl": "https://lh3.googleusercontent.com/a-/AOh14GgCVABzEgj-rCdyxWa29RnA0kIYUCXAaVbnRYOEhQ=s64",
      "userId": "04402438389940282602"
     },
     "user_tz": 300
    },
    "id": "g1CwaB6cJCtk",
    "outputId": "0266189b-2bb6-4cc1-e58b-a10abbb06fd5"
   },
   "outputs": [
    {
     "name": "stdout",
     "output_type": "stream",
     "text": [
      "La raiz es x_r = 1.32429525\n",
      "para la cual la función interpolada da un valor de f(x_r) =  7.09501902e-16\n"
     ]
    }
   ],
   "source": [
    "# 2-order Interpolated Polynomial \n",
    "def p2(x):\n",
    "    pol = (((x-x_int[1])*(x-x_int[2]))/((x_int[0]-x_int[1])*(x_int[0]-x_int[2])))*f_int[0] +\\\n",
    "          (((x-x_int[0])*(x-x_int[2]))/((x_int[1]-x_int[0])*(x_int[1]-x_int[2])))*f_int[1] +\\\n",
    "          (((x-x_int[0])*(x-x_int[1]))/((x_int[2]-x_int[0])*(x_int[2]-x_int[1])))*f_int[2]\n",
    "    return pol\n",
    "\n",
    "\n",
    "# Newton-Raphson Method. We begin with the value at point x[a]\n",
    "root0 = x_data[a]-1e-5\n",
    "root = x_data[a]\n",
    "\n",
    "while np.abs(p2(root))>1e-10:\n",
    "    new_root = root - p2(root)*(root - root0)/(p2(root) - p2(root0))\n",
    "    root0, root = root, new_root\n",
    "\n",
    "print(f'La raiz es x_r = {root:.8f}')\n",
    "print(f'para la cual la función interpolada da un valor de f(x_r) =  {p2(root):.8e}')\n",
    "\n"
   ]
  },
  {
   "cell_type": "markdown",
   "metadata": {
    "id": "jDTuIMYXJCtk"
   },
   "source": [
    "Podemos visualizar la ubicación de la raíz,"
   ]
  },
  {
   "cell_type": "code",
   "execution_count": 5,
   "metadata": {
    "colab": {
     "base_uri": "https://localhost:8080/",
     "height": 350
    },
    "executionInfo": {
     "elapsed": 492,
     "status": "ok",
     "timestamp": 1618768969109,
     "user": {
      "displayName": "Eduard Alexis Larranaga",
      "photoUrl": "https://lh3.googleusercontent.com/a-/AOh14GgCVABzEgj-rCdyxWa29RnA0kIYUCXAaVbnRYOEhQ=s64",
      "userId": "04402438389940282602"
     },
     "user_tz": 300
    },
    "id": "hEm0sjPeJCtk",
    "outputId": "15717ee6-a915-42b2-9ca6-4220ab40a856"
   },
   "outputs": [
    {
     "data": {
      "image/png": "[encoded data removed]",
      "text/plain": [
       "<Figure size 504x360 with 1 Axes>"
      ]
     },
     "metadata": {
      "needs_background": "light"
     },
     "output_type": "display_data"
    }
   ],
   "source": [
    "plt.figure(figsize=(7,5))\n",
    "plt.plot(x_data, f_data, color='red')\n",
    "plt.scatter(x_data, f_data, color='black')\n",
    "plt.scatter(root, p2(root), color='blue', marker='*',s=150)\n",
    "plt.vlines(root, -7, p2(root), linestyle='dashed')\n",
    "plt.hlines(p2(root),0, root, linestyle='dashed')\n",
    "plt.title('Root')\n",
    "plt.xlabel(r'$x$')\n",
    "plt.ylabel(r'$f(x)$')\n",
    "plt.xlim(0.5,2)\n",
    "plt.ylim(-7,7)\n",
    "plt.grid()\n",
    "plt.show()"
   ]
  },
  {
   "cell_type": "markdown",
   "metadata": {
    "id": "qWkcqJ2sJCtl"
   },
   "source": [
    "---\n",
    "## Método de la Bisección\n",
    "\n",
    "El método de bisección esta basado en el teorema del valor intermedio, que establee que una función continua $f(x)$ debe poseer al menos una raíz en el intervalo $[x_a,x_b]$ si $f(x_a)$ y\n",
    "$f(x_b)$ tienen signos opuestos.\n",
    "\n",
    "De esta forma, el método de la bisección se implementa en la siguiente forma,\n",
    "\n",
    "1. Se eligen dos valores iniciales  $x_a$ y $x_b$ tales que $f(x_a)$ y $f(x_b)$ tnegan signos opuestos.\n",
    "\n",
    "2. Se calcula el punto medio $x_c = \\frac{x_a+x_b}{2}$ y el valor de la función allí, $f(x_c)$. \n",
    "\n",
    "3. Si $f(x_c) = 0$ o\n",
    "  $\\left| \\frac{f(x_c) - f(x_a)}{f(x_a)} \\right| < \\epsilon$ or $\\left| \\frac{f(x_c) - f(x_b)}{f(x_b)} \\right| <\n",
    "  \\epsilon$, la raíz se ha encontrado.\n",
    "  \n",
    "  Si este no es el caso, entonces:\n",
    "    * si $f(x_a)$ y $f(x_c)$ tienen signos opuestos, entonces ellos encierran la raíz. Volvemos al punto (2) con $x_a=x_a$ y $x_b=x_c$.\n",
    "      \n",
    "    * Si $f(x_c)$ y $f(x_b)$ tienen signos opuestos, entonces ellos encierran la raíz. Volvemos al punto (2) con $x_a=x_c$ y $x_b=x_b$.\n",
    "  \n",
    "\n",
    "A pesar de que el método de la bisección es muy robusto y eficiente, generalmente no es tán rápido como el método de Newton porque requiere de más iteraciones para encontrar la raíz.\n",
    "\n",
    "\n",
    "#### Ejemplo. Raices de una función discreta con le método de la bisección.\n"
   ]
  },
  {
   "cell_type": "code",
   "execution_count": 6,
   "metadata": {
    "colab": {
     "base_uri": "https://localhost:8080/",
     "height": 334
    },
    "executionInfo": {
     "elapsed": 795,
     "status": "ok",
     "timestamp": 1618768978151,
     "user": {
      "displayName": "Eduard Alexis Larranaga",
      "photoUrl": "https://lh3.googleusercontent.com/a-/AOh14GgCVABzEgj-rCdyxWa29RnA0kIYUCXAaVbnRYOEhQ=s64",
      "userId": "04402438389940282602"
     },
     "user_tz": 300
    },
    "id": "Lz1CEeRmJCtm",
    "outputId": "836b40db-0711-4be5-f8ee-7968bb7e3a6a",
    "scrolled": true
   },
   "outputs": [
    {
     "data": {
      "image/png": "[encoded data removed]",
      "text/plain": [
       "<Figure size 504x360 with 1 Axes>"
      ]
     },
     "metadata": {
      "needs_background": "light"
     },
     "output_type": "display_data"
    }
   ],
   "source": [
    "import numpy as np\n",
    "import matplotlib.pyplot as plt\n",
    "\n",
    "# Reading the data\n",
    "data = np.loadtxt('data_points.txt', comments='#', delimiter=',')\n",
    "x_data = data[:,0]\n",
    "f_data = data[:,1]\n",
    "\n",
    "plt.figure(figsize=(7,5))\n",
    "plt.plot(x_data, f_data, color='red')\n",
    "plt.title('')\n",
    "plt.xlabel(r'$x$')\n",
    "plt.ylabel(r'$f(x)$')\n",
    "plt.grid()\n",
    "plt.show()"
   ]
  },
  {
   "cell_type": "code",
   "execution_count": 7,
   "metadata": {
    "colab": {
     "base_uri": "https://localhost:8080/",
     "height": 338
    },
    "executionInfo": {
     "elapsed": 633,
     "status": "ok",
     "timestamp": 1618768982809,
     "user": {
      "displayName": "Eduard Alexis Larranaga",
      "photoUrl": "https://lh3.googleusercontent.com/a-/AOh14GgCVABzEgj-rCdyxWa29RnA0kIYUCXAaVbnRYOEhQ=s64",
      "userId": "04402438389940282602"
     },
     "user_tz": 300
    },
    "id": "iJJKzDulJCtn",
    "outputId": "539165a3-bf79-4967-ce56-5fa1f0d3b61b"
   },
   "outputs": [
    {
     "data": {
      "image/png": "[encoded data removed]",
      "text/plain": [
       "<Figure size 504x360 with 1 Axes>"
      ]
     },
     "metadata": {
      "needs_background": "light"
     },
     "output_type": "display_data"
    }
   ],
   "source": [
    "plt.figure(figsize=(7,5))\n",
    "plt.plot(x_data, f_data, color='red')\n",
    "plt.scatter(x_data, f_data, color='black')\n",
    "plt.title('')\n",
    "plt.xlabel(r'$x$')\n",
    "plt.ylabel(r'$f(x)$')\n",
    "plt.xlim(0,2)\n",
    "plt.ylim(-10,10)\n",
    "plt.grid()\n",
    "plt.show()"
   ]
  },
  {
   "cell_type": "code",
   "execution_count": 8,
   "metadata": {
    "colab": {
     "base_uri": "https://localhost:8080/"
    },
    "executionInfo": {
     "elapsed": 837,
     "status": "ok",
     "timestamp": 1618768986284,
     "user": {
      "displayName": "Eduard Alexis Larranaga",
      "photoUrl": "https://lh3.googleusercontent.com/a-/AOh14GgCVABzEgj-rCdyxWa29RnA0kIYUCXAaVbnRYOEhQ=s64",
      "userId": "04402438389940282602"
     },
     "user_tz": 300
    },
    "id": "NRm63erCJCto",
    "outputId": "396da358-1770-4f50-f8d8-89b089c6481a"
   },
   "outputs": [
    {
     "name": "stdout",
     "output_type": "stream",
     "text": [
      "a =  30 : x_a =  1.12245 : f(x_a) =  2.44474\n"
     ]
    }
   ],
   "source": [
    "# Find the initial and final points of the restricted interval of \n",
    "# three pints to interpolate.\n",
    "for i in range(len(x_data)-1):\n",
    "    if x_data[i]>=1:\n",
    "        a=i\n",
    "        break\n",
    "\n",
    "# The interval will include three points:\n",
    "# x[a], x[a+1], x[a+2]\n",
    "# Here we define the arrays that enter as arguments\n",
    "# for the interpolated polynomial\n",
    "x_int =[x_data[a], x_data[a+1], x_data[a+2]]\n",
    "f_int =[f_data[a], f_data[a+1], f_data[a+2]]\n",
    "\n",
    "print('a = ', a, ': x_a = ', x_data[a], ': f(x_a) = ', f_data[a])\n"
   ]
  },
  {
   "cell_type": "markdown",
   "metadata": {
    "id": "vZ5Hjz6_JCto"
   },
   "source": [
    "Ahora, interpolamos el polinomio cuadrático y utilizamos el método de la bisección para encontrar la raíz."
   ]
  },
  {
   "cell_type": "code",
   "execution_count": 9,
   "metadata": {
    "colab": {
     "base_uri": "https://localhost:8080/"
    },
    "executionInfo": {
     "elapsed": 703,
     "status": "ok",
     "timestamp": 1618768990118,
     "user": {
      "displayName": "Eduard Alexis Larranaga",
      "photoUrl": "https://lh3.googleusercontent.com/a-/AOh14GgCVABzEgj-rCdyxWa29RnA0kIYUCXAaVbnRYOEhQ=s64",
      "userId": "04402438389940282602"
     },
     "user_tz": 300
    },
    "id": "jRAbyIS8JCto",
    "outputId": "67e6c49a-5faf-49ab-8109-526eab7fad3d"
   },
   "outputs": [
    {
     "name": "stdout",
     "output_type": "stream",
     "text": [
      "La raíz es x_r = 1.32429525\n",
      "para la cual la función interpolada da un valor de f(x_r) =  7.09501902e-16\n"
     ]
    }
   ],
   "source": [
    "# 2-order Interpolated Polynomial \n",
    "def p2(x):\n",
    "    pol = (((x-x_int[1])*(x-x_int[2]))/((x_int[0]-x_int[1])*(x_int[0]-x_int[2])))*f_int[0] +\\\n",
    "          (((x-x_int[0])*(x-x_int[2]))/((x_int[1]-x_int[0])*(x_int[1]-x_int[2])))*f_int[1] +\\\n",
    "          (((x-x_int[0])*(x-x_int[1]))/((x_int[2]-x_int[0])*(x_int[2]-x_int[1])))*f_int[2]\n",
    "    return pol\n",
    "\n",
    "\n",
    "# Bisection Method. \n",
    "# We begin with the values at the points x_data[a] and x_data[a+2]\n",
    "x_a = x_data[a]\n",
    "x_b = x_data[a+2]\n",
    "x_c = (x_a + x_b)/2.\n",
    "\n",
    "while np.abs(p2(x_c)) > 1e-15:\n",
    "    x_c = (x_a + x_b)/2.\n",
    "    if p2(x_a)*p2(x_c) < 0:\n",
    "        x_b = x_c\n",
    "    else:\n",
    "        x_a = x_c\n",
    "\n",
    "root = x_c\n",
    "    \n",
    "print(f'La raíz es x_r = {root:.8f}')\n",
    "print(f'para la cual la función interpolada da un valor de f(x_r) =  {p2(root):.8e}')\n",
    "\n"
   ]
  },
  {
   "cell_type": "code",
   "execution_count": null,
   "metadata": {
    "id": "2MbdeVvlJCtp"
   },
   "outputs": [],
   "source": []
  }
 ],
 "metadata": {
  "colab": {
   "collapsed_sections": [],
   "name": "Roots01.ipynb",
   "provenance": []
  },
  "kernelspec": {
   "display_name": "Python 3 (ipykernel)",
   "language": "python",
   "name": "python3"
  },
  "language_info": {
   "codemirror_mode": {
    "name": "ipython",
    "version": 3
   },
   "file_extension": ".py",
   "mimetype": "text/x-python",
   "name": "python",
   "nbconvert_exporter": "python",
   "pygments_lexer": "ipython3",
   "version": "3.9.5"
  }
 },
 "nbformat": 4,
 "nbformat_minor": 1
}
