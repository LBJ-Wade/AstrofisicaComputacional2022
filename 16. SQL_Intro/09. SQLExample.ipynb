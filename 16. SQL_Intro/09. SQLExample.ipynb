{
 "cells": [
  {
   "cell_type": "markdown",
   "metadata": {
    "id": "JG-5Y0W5_4cm"
   },
   "source": [
    "![Astrofisica Computacional](../logo.png)"
   ]
  },
  {
   "cell_type": "markdown",
   "metadata": {},
   "source": [
    "---\n",
    "## 09. Introduction to SQL\n",
    "\n",
    "\n",
    "Eduard Larrañaga (ealarranaga@unal.edu.co)\n",
    "\n",
    "---"
   ]
  },
  {
   "cell_type": "markdown",
   "metadata": {
    "id": "V_L8Z7Pb_4cp"
   },
   "source": [
    "\n",
    "### About this notebook\n",
    "\n",
    "In this worksheet we will present some basic examples using SQL. \n",
    "\n",
    "---"
   ]
  },
  {
   "cell_type": "markdown",
   "metadata": {
    "id": "g7R70iXH-qH9"
   },
   "source": [
    "### SQL\n",
    "\n",
    "SQL (**S**tructured **Q**uery **L**anguage) is a standard language for storing, manipulating and retrieving data in databases.\n",
    " \n",
    " It is particularly useful in handling structured data, i.e. data incorporating relations among entities and variables."
   ]
  },
  {
   "cell_type": "markdown",
   "metadata": {
    "id": "MwAOj4WE_4cp"
   },
   "source": [
    "### Introducing the data\n",
    "\n",
    "In this lesson, we will consider a spreadsheet file used in the CS50x course at Harvard \n",
    "\n",
    "https://docs.google.com/spreadsheets/d/e/2PACX-1vRfpjV8pF6iNBu5xV-wnzHPXvW69wZcTxqsSnYqHx126N0bPfVhq63UtkG9mqUawB4tXneYh31xJlem/pubhtml\n",
    "\n",
    "\n",
    "(This course is available at https://cs50.harvard.edu/x/2021/).\n",
    "\n",
    "---\n",
    "\n",
    "The spreadsheet contains the information of shows in the Netflix site and will show some problems that arise when we want to access the data!\n",
    " "
   ]
  },
  {
   "cell_type": "markdown",
   "metadata": {
    "id": "HSLJ6sCyMp_A"
   },
   "source": [
    "---\n",
    "### A database to work with\n",
    "\n",
    "Now,  we will introduce a file that contains the same information of the spreadsheet but in the format of a relational database. This file is called 'shows.db'."
   ]
  },
  {
   "cell_type": "markdown",
   "metadata": {
    "id": "Na-z41GsJN0b"
   },
   "source": [
    "---\n",
    "### SQLite\n",
    "\n",
    "SQLite is a C-language library that implemnts a small and fast SQL database engine. Complete information about SQLite can be found at\n",
    "\n",
    "https://www.sqlite.org/index.html\n",
    "\n",
    "You can check if SQLite is installed in your computer using\n",
    "```\n",
    "$ sqlite3 --version\n",
    "```\n",
    "\n",
    "Download links for all OS can be found at\n",
    "\n",
    "https://www.sqlite.org/download.html\n",
    "\n",
    "---\n",
    "Now, we will use this library to access the information in the shows database. The first step is to load the database using\n",
    "```\n",
    "$ sqlite3 shows.db\n",
    "```\n",
    "\n",
    "The promt will change to `sqlite>`. \n",
    "\n",
    "The structure of the database can be seen with the command\n",
    "```\n",
    "sqlite> .schema\n",
    "```\n",
    "\n",
    "The structure of a particular table in the database is obtained by\n",
    "```\n",
    "sqlite> .schema stars\n",
    "```"
   ]
  },
  {
   "cell_type": "markdown",
   "metadata": {
    "id": "wq0AzEqgJSs_"
   },
   "source": [
    "---\n",
    "### Structure of a Query\n",
    "An SQL query consists of three pieces or blocks: the **SELECT block**, the **FROM block** and the **WHERE block**.\n",
    "\n",
    " - The SELECT block tells the database which columns of data you want it to return. You must separate each column name with a comma. \n",
    "\n",
    "- The FROM block specifies which table (or tables) you want to search.\n",
    "\n",
    "For example, if you wanted to select the year feature from the shows table, we use the command\n",
    "```\n",
    "SELECT year FROM shows;\n",
    "```\n",
    "\n",
    "If  you want to select all the features from the shows table, you use\n",
    "```\n",
    "SELECT * FROM shows;\n",
    "```\n",
    "\n",
    "\n",
    "- The WHERE block allows you to search for records with certain characteristics. Your list of characteristics must be separated by boolean operators. \n",
    "\n",
    "Suppose you wanted to limit your search to a particular show using its title. Then you use\n",
    "```\n",
    "SELECT * FROM shows WHERE title='Black Mirror';\n",
    "```\n"
   ]
  },
  {
   "cell_type": "markdown",
   "metadata": {
    "id": "CvIcvv7LN85r"
   },
   "source": [
    "Now, let us try some of the basic commands of sqlite.\n",
    "\n",
    "\n",
    "1. Show the structure of the database:\n",
    "```\n",
    "sqlite> .schema\n",
    "```\n",
    "\n",
    "2. Show the structure of a particular table in the database:\n",
    "```\n",
    "sqlite> .schema stars\n",
    "```\n",
    "\n",
    "3. Select all features from a table (too many information!)\n",
    "```\n",
    "SELECT * FROM shows;\n",
    "```\n",
    "\n",
    "4. How many entries are in this table?\n",
    "```\n",
    "SELECT COUNT(*) FROM shows;\n",
    "```\n",
    "\n",
    "5. Select a particular sample in the list. (e.g. exact title!)\n",
    "```\n",
    "SELECT * FROM shows WHERE title = 'Black Mirror';\n",
    "```\n",
    "\n",
    "6. Sometimes, a query may give many results. For example\n",
    "```\n",
    "SELECT * FROM shows WHERE title = 'The Office';\n",
    "```\n",
    "\n",
    "7. Select samples with part of a text string.\n",
    "```\n",
    "SELECT * FROM shows WHERE title LIKE '%Things%';\n",
    "```\n",
    "\n",
    "8. Select entries with a range of numerical values\n",
    "```\n",
    "SELECT * FROM shows WHERE year > 2020;\n",
    "```\n",
    "\n",
    "9. Select a particular feature in a table\n",
    "```\n",
    "SELECT year FROM shows WHERE title LIKE 'Stranger Things';\n",
    "```\n",
    "\n",
    "10. Order the selection according to one feature\n",
    "```\n",
    "SELECT * FROM shows WHERE title LIKE 'Doctor Who%' ORDER BY year;\n",
    "```\n",
    "```\n",
    "SELECT * FROM shows WHERE title LIKE 'Doctor Who%' ORDER BY year DESC;\n",
    "```\n",
    "\n",
    "11. Limiting the number of results.\n",
    "```\n",
    "SELECT * FROM shows WHERE title LIKE 'Doctor Who%' ORDER BY year DESC LIMIT 10;\n",
    "```\n",
    "\n",
    "12. Including boolean operators in the query\n",
    "```\n",
    "SELECT * FROM shows WHERE year > 1990 AND year < 2000 ;\n",
    "```\n",
    "```\n",
    "SELECT * FROM shows WHERE year BETWEEN 1990 AND 2000 ;\n",
    "```\n",
    "```\n",
    "SELECT id FROM shows WHERE title='Stranger Things' AND year = 2016;\n",
    "```\n",
    "\n",
    "13. Search involving more than one table.\n",
    "```\n",
    "SELECT * FROM genres WHERE show_id = 4574334;\n",
    "```\n",
    "This is improved by using \n",
    "```\n",
    "SELECT * FROM genres WHERE show_id = (SELECT id FROM shows WHERE title='Stranger Things' AND year = 2016);\n",
    "```\n",
    "\n",
    "14. To exit SQLite, use\n",
    "```\n",
    ".quit\n",
    "```\n"
   ]
  },
  {
   "cell_type": "markdown",
   "metadata": {
    "id": "UCYT79oQOZe0"
   },
   "source": [
    "---\n",
    "### Exercises\n",
    "\n",
    "1. How many shows have a perfect 10.0 rating?\n",
    "\n",
    "2. How many episodes have the show 'Black Mirror'?\n",
    "\n",
    "3. How many shows are in the Sci-Fi genre?\n",
    "\n",
    "4. Which is the best rated show in the Horror genre?\n",
    "\n",
    "5. How many Animation genre shows are in thre database?\n",
    "\n",
    "6. Which are the 10 worst rated shows in the Animation genre in the last five years?\n",
    "\n",
    "\n"
   ]
  }
 ],
 "metadata": {
  "colab": {
   "collapsed_sections": [],
   "name": "01. SQLExample.ipynb",
   "provenance": []
  },
  "kernelspec": {
   "display_name": "Python 3 (ipykernel)",
   "language": "python",
   "name": "python3"
  },
  "language_info": {
   "codemirror_mode": {
    "name": "ipython",
    "version": 3
   },
   "file_extension": ".py",
   "mimetype": "text/x-python",
   "name": "python",
   "nbconvert_exporter": "python",
   "pygments_lexer": "ipython3",
   "version": "3.9.7"
  }
 },
 "nbformat": 4,
 "nbformat_minor": 1
}
