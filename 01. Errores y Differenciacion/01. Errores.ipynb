{
 "cells": [
  {
   "cell_type": "markdown",
   "metadata": {
    "id": "NgGr6lO24Kw7"
   },
   "source": [
    "![Astrofisica Computacional](../logo.PNG)"
   ]
  },
  {
   "cell_type": "markdown",
   "metadata": {},
   "source": [
    "---\n",
    "## 01. Análisis de Errores\n",
    "\n",
    "\n",
    "Eduard Larrañaga (ealarranaga@unal.edu.co)\n",
    "\n",
    "---"
   ]
  },
  {
   "cell_type": "markdown",
   "metadata": {
    "id": "IXMtRwwg4Kw8"
   },
   "source": [
    "### Resumen\n",
    "\n",
    "En este cuaderno se presentan algunos conceptos fundamentales del análisis de errores y de la estabilidad.\n",
    "\n",
    "---"
   ]
  },
  {
   "cell_type": "markdown",
   "metadata": {
    "id": "6MsfOTJP4Kw8"
   },
   "source": [
    "Varias fuentes de error aparecen en los calculos numéricos. Algunas de ellas son:\n",
    "\n",
    "**Incertidumbre experimental** : Los datos experimentales están limitados por la precisión de los aparatos de medida. Por lo tanto es usual representar las cantidades experimentales con el formato $x \\pm \\Delta x$ donde $\\Delta x$ corresponde a la incertidumbre en las mediciones.\\\n",
    "Cuando se utilizan cantidades o datos experimentales en algoritmos numéricos, las incertidumbres pueden llevar a errores finales grandes.\n",
    "\n",
    "**Errores de Redondeo (Números de Punto Flotante)** : La representación computacional de un número esta siempre limitado por la memoria adjudicada a su representación. Por lo tanto, es inherente un error de redondeo en cualquier cantidad almacendad en un ordenador y este hecho puede llevar a una acumulación que finalmente desemboca en un error grande si no se controla por el algoritmo. \n",
    "\n",
    "**Errores de Truncamiento** : Cuando se representa una función en el computador, como por ejemplo una raiz cuadrada, una exponencial, un logaritmo, etc., utilizando expansiones en serie, el truncamiento de la serie o las iteraciones del algoritmo induce un error que puede acumularse en cada paso.\n",
    "\n",
    "A continuación ilustraremos la existencia de estas fuentes de error con algunos ejemplos concretos."
   ]
  },
  {
   "cell_type": "markdown",
   "metadata": {
    "id": "PI9r80dX4Kw9"
   },
   "source": [
    "---\n",
    "### Errores de Redondeo (Números de Punto Flotante)\n",
    "\n",
    "Primero, definiremos un número de punto flotante,"
   ]
  },
  {
   "cell_type": "code",
   "execution_count": 1,
   "metadata": {
    "colab": {
     "base_uri": "https://localhost:8080/"
    },
    "executionInfo": {
     "elapsed": 551,
     "status": "ok",
     "timestamp": 1618613627388,
     "user": {
      "displayName": "Eduard Alexis Larranaga",
      "photoUrl": "https://lh3.googleusercontent.com/a-/AOh14GgCVABzEgj-rCdyxWa29RnA0kIYUCXAaVbnRYOEhQ=s64",
      "userId": "04402438389940282602"
     },
     "user_tz": 300
    },
    "id": "DgDigz_f4Kw9",
    "outputId": "ebac9517-b206-429b-af1a-05d95caa4343"
   },
   "outputs": [
    {
     "data": {
      "text/plain": [
       "3.1416"
      ]
     },
     "execution_count": 1,
     "metadata": {},
     "output_type": "execute_result"
    }
   ],
   "source": [
    "x = 3.1416\n",
    "x"
   ]
  },
  {
   "cell_type": "markdown",
   "metadata": {
    "id": "W7c9sX8R4Kw9"
   },
   "source": [
    "Si se muestra en pantalla este número, con una precisión de 20 cifras decimales, se puede observar un error inducido por la representación que realiza el computador. Este error es inherente al número finito de bits que se utilizan para guardar el número de punto flotante."
   ]
  },
  {
   "cell_type": "code",
   "execution_count": 2,
   "metadata": {
    "colab": {
     "base_uri": "https://localhost:8080/"
    },
    "executionInfo": {
     "elapsed": 670,
     "status": "ok",
     "timestamp": 1618613630416,
     "user": {
      "displayName": "Eduard Alexis Larranaga",
      "photoUrl": "https://lh3.googleusercontent.com/a-/AOh14GgCVABzEgj-rCdyxWa29RnA0kIYUCXAaVbnRYOEhQ=s64",
      "userId": "04402438389940282602"
     },
     "user_tz": 300
    },
    "id": "PNIC-GV24Kw9",
    "outputId": "9bca8102-5f87-4be1-98c5-dc320e3830b1"
   },
   "outputs": [
    {
     "name": "stdout",
     "output_type": "stream",
     "text": [
      "3.14159999999999994813\n"
     ]
    }
   ],
   "source": [
    "print(f'{x:.20f}')"
   ]
  },
  {
   "cell_type": "markdown",
   "metadata": {
    "id": "m7laERy44Kw9"
   },
   "source": [
    "De esta forma, sumar un número pequeño a $x$ da como resultado algo inesperado: "
   ]
  },
  {
   "cell_type": "code",
   "execution_count": 3,
   "metadata": {
    "colab": {
     "base_uri": "https://localhost:8080/"
    },
    "executionInfo": {
     "elapsed": 433,
     "status": "ok",
     "timestamp": 1618613633509,
     "user": {
      "displayName": "Eduard Alexis Larranaga",
      "photoUrl": "https://lh3.googleusercontent.com/a-/AOh14GgCVABzEgj-rCdyxWa29RnA0kIYUCXAaVbnRYOEhQ=s64",
      "userId": "04402438389940282602"
     },
     "user_tz": 300
    },
    "id": "MgDOo2ez4Kw-",
    "outputId": "50223361-d357-489c-f9a6-46a48fa7c630"
   },
   "outputs": [
    {
     "name": "stdout",
     "output_type": "stream",
     "text": [
      "3.14159999999999994813\n"
     ]
    }
   ],
   "source": [
    "y= x + 0.0000000000000001\n",
    "print(f'{y:.20f}')"
   ]
  },
  {
   "cell_type": "markdown",
   "metadata": {
    "id": "LGHWVnCb4Kw-"
   },
   "source": [
    "#### Epsilon de la Máquina \n",
    "\n",
    "La cantidad denominada **épsilon de la máquina** corresponde al valor mínimo $\\epsilon$ para el cual la máquina asume que  $1. + \\epsilon= 1$. Matemáticamente lo definimos diciendo que \n",
    "\n",
    "$\\epsilon = \\min \\left[ \\delta >0 |: 1 +\\delta >1 \\right]  $\n",
    "\n",
    "Esta cantidad define la precisión de la maquina para representar números de punto flotante y para realizar cálculos con ellos."
   ]
  },
  {
   "cell_type": "code",
   "execution_count": 4,
   "metadata": {
    "colab": {
     "base_uri": "https://localhost:8080/"
    },
    "executionInfo": {
     "elapsed": 403,
     "status": "ok",
     "timestamp": 1618613637103,
     "user": {
      "displayName": "Eduard Alexis Larranaga",
      "photoUrl": "https://lh3.googleusercontent.com/a-/AOh14GgCVABzEgj-rCdyxWa29RnA0kIYUCXAaVbnRYOEhQ=s64",
      "userId": "04402438389940282602"
     },
     "user_tz": 300
    },
    "id": "TpNdL5hE4Kw-",
    "outputId": "69bf25be-40bd-4d30-92d5-3a76720502d7"
   },
   "outputs": [
    {
     "data": {
      "text/plain": [
       "1.1102230246251565e-16"
      ]
     },
     "execution_count": 4,
     "metadata": {},
     "output_type": "execute_result"
    }
   ],
   "source": [
    "epsilon = 1.\n",
    "\n",
    "while (1.+epsilon != 1.):\n",
    "    epsilon = epsilon/2.\n",
    "\n",
    "epsilon"
   ]
  },
  {
   "cell_type": "markdown",
   "metadata": {
    "id": "JFp-rqzm4Kw-"
   },
   "source": [
    "---\n",
    "Considere el número de punto flotante $y = \\cos \\frac{\\pi}{2}$. Se espera que este número debe ser igual a cero. Sin embargo, un cálculo simple nos presenta una representación de número de unto flotante del cero:"
   ]
  },
  {
   "cell_type": "code",
   "execution_count": 5,
   "metadata": {
    "colab": {
     "base_uri": "https://localhost:8080/"
    },
    "executionInfo": {
     "elapsed": 400,
     "status": "ok",
     "timestamp": 1618613642255,
     "user": {
      "displayName": "Eduard Alexis Larranaga",
      "photoUrl": "https://lh3.googleusercontent.com/a-/AOh14GgCVABzEgj-rCdyxWa29RnA0kIYUCXAaVbnRYOEhQ=s64",
      "userId": "04402438389940282602"
     },
     "user_tz": 300
    },
    "id": "98lr9tqu4Kw-",
    "outputId": "50d842b7-8093-41a8-d8ee-a0ffdacfe26f"
   },
   "outputs": [
    {
     "data": {
      "text/plain": [
       "3.141592653589793"
      ]
     },
     "execution_count": 5,
     "metadata": {},
     "output_type": "execute_result"
    }
   ],
   "source": [
    "import numpy as np\n",
    "np.pi"
   ]
  },
  {
   "cell_type": "code",
   "execution_count": 6,
   "metadata": {
    "colab": {
     "base_uri": "https://localhost:8080/"
    },
    "executionInfo": {
     "elapsed": 363,
     "status": "ok",
     "timestamp": 1618613643313,
     "user": {
      "displayName": "Eduard Alexis Larranaga",
      "photoUrl": "https://lh3.googleusercontent.com/a-/AOh14GgCVABzEgj-rCdyxWa29RnA0kIYUCXAaVbnRYOEhQ=s64",
      "userId": "04402438389940282602"
     },
     "user_tz": 300
    },
    "id": "Hdelt8PD4Kw_",
    "outputId": "3773dd30-d2d4-4081-aa0d-440084196e10"
   },
   "outputs": [
    {
     "data": {
      "text/plain": [
       "6.123233995736766e-17"
      ]
     },
     "execution_count": 6,
     "metadata": {},
     "output_type": "execute_result"
    }
   ],
   "source": [
    "y = np.cos(np.pi/2.) \n",
    "y"
   ]
  },
  {
   "cell_type": "markdown",
   "metadata": {
    "id": "tgurmbsc4Kw_"
   },
   "source": [
    "Otro ejemplo del error de redondeo aparece cuando tomamos la raiz del número 3,"
   ]
  },
  {
   "cell_type": "code",
   "execution_count": 6,
   "metadata": {
    "colab": {
     "base_uri": "https://localhost:8080/"
    },
    "executionInfo": {
     "elapsed": 392,
     "status": "ok",
     "timestamp": 1618613646393,
     "user": {
      "displayName": "Eduard Alexis Larranaga",
      "photoUrl": "https://lh3.googleusercontent.com/a-/AOh14GgCVABzEgj-rCdyxWa29RnA0kIYUCXAaVbnRYOEhQ=s64",
      "userId": "04402438389940282602"
     },
     "user_tz": 300
    },
    "id": "_fqyyE7P4Kw_",
    "outputId": "ba2d33f8-ac89-4263-e57b-5f9ffa87d154"
   },
   "outputs": [
    {
     "data": {
      "text/plain": [
       "1.7320508075688772"
      ]
     },
     "execution_count": 6,
     "metadata": {},
     "output_type": "execute_result"
    }
   ],
   "source": [
    "z = np.sqrt(3)\n",
    "z"
   ]
  },
  {
   "cell_type": "markdown",
   "metadata": {
    "id": "KJaYTNRh4Kw_"
   },
   "source": [
    "Nótese que, debido al error de redondeo, se tiene que $\\sqrt{3} \\cdot \\sqrt{3} \\neq 3$"
   ]
  },
  {
   "cell_type": "code",
   "execution_count": 7,
   "metadata": {
    "colab": {
     "base_uri": "https://localhost:8080/"
    },
    "executionInfo": {
     "elapsed": 456,
     "status": "ok",
     "timestamp": 1618613649800,
     "user": {
      "displayName": "Eduard Alexis Larranaga",
      "photoUrl": "https://lh3.googleusercontent.com/a-/AOh14GgCVABzEgj-rCdyxWa29RnA0kIYUCXAaVbnRYOEhQ=s64",
      "userId": "04402438389940282602"
     },
     "user_tz": 300
    },
    "id": "C6dUbBVL4Kw_",
    "outputId": "43921201-36bb-4a8e-ef12-926cfd6c5cde"
   },
   "outputs": [
    {
     "data": {
      "text/plain": [
       "2.9999999999999996"
      ]
     },
     "execution_count": 7,
     "metadata": {},
     "output_type": "execute_result"
    }
   ],
   "source": [
    "z*z"
   ]
  },
  {
   "cell_type": "markdown",
   "metadata": {
    "id": "20TXhXTt4Kw_"
   },
   "source": [
    "---\n",
    "### Errores Absolutos y Relativos\n",
    "\n",
    "A continuación definiremos los errores **absolutos** y **relativos**. Denotando el valor *verdadero* de una cantidad por $X$ y su valor *aproximado* por $x$, se tiene\n",
    "\n",
    "$\\epsilon_a = \\left| X - x \\right|$ :  error absoluto\n",
    "\n",
    "\n",
    "$\\epsilon_r = \\left| \\frac{X - x}{X} \\right|$ : error relativo\n"
   ]
  },
  {
   "cell_type": "code",
   "execution_count": 8,
   "metadata": {
    "colab": {
     "base_uri": "https://localhost:8080/"
    },
    "executionInfo": {
     "elapsed": 415,
     "status": "ok",
     "timestamp": 1618613652349,
     "user": {
      "displayName": "Eduard Alexis Larranaga",
      "photoUrl": "https://lh3.googleusercontent.com/a-/AOh14GgCVABzEgj-rCdyxWa29RnA0kIYUCXAaVbnRYOEhQ=s64",
      "userId": "04402438389940282602"
     },
     "user_tz": 300
    },
    "id": "IOtqUA164Kw_",
    "outputId": "13fec628-c425-4d0f-a2ee-a920105dd2ce"
   },
   "outputs": [
    {
     "data": {
      "text/plain": [
       "7.346410206832132e-06"
      ]
     },
     "execution_count": 8,
     "metadata": {},
     "output_type": "execute_result"
    }
   ],
   "source": [
    "import numpy as np\n",
    "\n",
    "X = np.pi\n",
    "x = 3.1416\n",
    "\n",
    "abs_error = np.abs(X - x) \n",
    "abs_error"
   ]
  },
  {
   "cell_type": "code",
   "execution_count": 9,
   "metadata": {
    "colab": {
     "base_uri": "https://localhost:8080/"
    },
    "executionInfo": {
     "elapsed": 553,
     "status": "ok",
     "timestamp": 1618613654659,
     "user": {
      "displayName": "Eduard Alexis Larranaga",
      "photoUrl": "https://lh3.googleusercontent.com/a-/AOh14GgCVABzEgj-rCdyxWa29RnA0kIYUCXAaVbnRYOEhQ=s64",
      "userId": "04402438389940282602"
     },
     "user_tz": 300
    },
    "id": "Kd8cdM9x4KxA",
    "outputId": "c8f54e62-7892-4c1d-8f8f-bf331654e213"
   },
   "outputs": [
    {
     "data": {
      "text/plain": [
       "2.3384349967961744e-06"
      ]
     },
     "execution_count": 9,
     "metadata": {},
     "output_type": "execute_result"
    }
   ],
   "source": [
    "rel_error = np.abs((X - x)/X)\n",
    "rel_error"
   ]
  },
  {
   "cell_type": "markdown",
   "metadata": {
    "id": "bdEX-BrI4KxA"
   },
   "source": [
    "---\n",
    "###  Error de Truncamiento\n",
    "\n",
    "Considere la función $\\sin x$ en su forma aproximada\n",
    "\n",
    "$\\sin x = \\sum_{n=1}^\\infty (-1)^{n-1} \\frac{x^{2n-1}}{(2n-1)!}$\n",
    "\n",
    "La aproximación a orden 7 (i.e. despreciando ordenes 7 y superiores) será\n",
    "\n",
    "$f(x) = x - \\frac{x^3}{6} + \\frac{x^5}{120}$.\n",
    "\n",
    "Esta aproximación de la función $\\sin x$ induce un **error de truncamiento** que puede estimarse mediante la siguiente función"
   ]
  },
  {
   "cell_type": "code",
   "execution_count": 10,
   "metadata": {
    "colab": {
     "base_uri": "https://localhost:8080/",
     "height": 279
    },
    "executionInfo": {
     "elapsed": 898,
     "status": "ok",
     "timestamp": 1618613667238,
     "user": {
      "displayName": "Eduard Alexis Larranaga",
      "photoUrl": "https://lh3.googleusercontent.com/a-/AOh14GgCVABzEgj-rCdyxWa29RnA0kIYUCXAaVbnRYOEhQ=s64",
      "userId": "04402438389940282602"
     },
     "user_tz": 300
    },
    "id": "cAUwr8nJ4KxA",
    "outputId": "8e9b844b-a9c4-4d05-b19f-56f135387d65"
   },
   "outputs": [
    {
     "data": {
      "image/png": "[encoded data removed]",
      "text/plain": [
       "<Figure size 432x288 with 1 Axes>"
      ]
     },
     "metadata": {
      "needs_background": "light"
     },
     "output_type": "display_data"
    }
   ],
   "source": [
    "import numpy as np\n",
    "import matplotlib.pyplot as plt\n",
    "\n",
    "def truncation_error(x):\n",
    "    '''\n",
    "    ------------------------------------------\n",
    "    Returns the truncarion error obtained when\n",
    "    comparing the 7th order accurate \n",
    "    approximation of the sin x function and \n",
    "    the numpy.sin() function \n",
    "    ------------------------------------------\n",
    "    Arguments:\n",
    "    x : point at which the truncation error is\n",
    "    calculated\n",
    "    ------------------------------------------\n",
    "    '''\n",
    "    mysin = x - x**3/6 + x**5/120\n",
    "    return np.abs(np.sin(x) - mysin)\n",
    "\n",
    "x = np.linspace(0, 1, 50)\n",
    "\n",
    "plt.figure()\n",
    "plt.plot(x, truncation_error(x))\n",
    "\n",
    "plt.xlim(1, 0)\n",
    "plt.xlabel(r'$x$')\n",
    "plt.ylabel(r'truncation error')\n",
    "plt.show()"
   ]
  },
  {
   "cell_type": "markdown",
   "metadata": {
    "id": "d9_AoayC4KxA"
   },
   "source": [
    "#### Estimación de la precisión de una serie truncada\n",
    "\n",
    "Para estimar el orden de precisión de una aproximación truncada de una función, tomaremos un número en el rango $0<x<1$ y se calculará el error de truncamiento. Luego, se reducirá a la mitad el número elegido  y se calculará de nuevo el error de truncamiento. La razón entre los dos errores obtenidos da como resultado un factor de la forma $2^n$, donde $n$ es el orden de precisión de la aproximación. "
   ]
  },
  {
   "cell_type": "code",
   "execution_count": 11,
   "metadata": {
    "colab": {
     "base_uri": "https://localhost:8080/"
    },
    "executionInfo": {
     "elapsed": 474,
     "status": "ok",
     "timestamp": 1618613672495,
     "user": {
      "displayName": "Eduard Alexis Larranaga",
      "photoUrl": "https://lh3.googleusercontent.com/a-/AOh14GgCVABzEgj-rCdyxWa29RnA0kIYUCXAaVbnRYOEhQ=s64",
      "userId": "04402438389940282602"
     },
     "user_tz": 300
    },
    "id": "81FoyWrC4KxA",
    "outputId": "53ae2f28-6b24-4c62-d134-6ece182532b0"
   },
   "outputs": [
    {
     "name": "stdout",
     "output_type": "stream",
     "text": [
      "Para x = 0.478 el valor del error de truncamiento es : 1.130e-06\n",
      "Para x = 0.239 el valor del error de truncamiento es : 8.848e-09\n",
      "\n",
      "La razón de estos valores es 127.696\n",
      "que es aproximadamente 2^7.0\n"
     ]
    }
   ],
   "source": [
    "# Randomly choosing the number in the range 0<x<1\n",
    "x = np.random.random()  \n",
    "# Calculate the truncation errors and their ratio\n",
    "te_x = truncation_error(x)\n",
    "te_x2 = truncation_error(x/2)\n",
    "ratio = te_x/te_x2 \n",
    "\n",
    "# Results.\n",
    "print(f'Para x = {x:.3f} el valor del error de truncamiento es : {te_x:.3e}' )\n",
    "print(f'Para x = {x/2:.3f} el valor del error de truncamiento es : {te_x2:.3e}')\n",
    "print(\"\")\n",
    "print(f'La razón de estos valores es {ratio:.3f}')\n",
    "print(f'que es aproximadamente 2^{np.log2(ratio):.1f}')\n"
   ]
  },
  {
   "cell_type": "markdown",
   "metadata": {
    "id": "9QGdYI9h4KxB"
   },
   "source": [
    "---\n",
    "### Estabilidad de un Algoritmo\n",
    "\n",
    "Un algoritmo, ecuación o problema se denomina **inestable** o **mal-condicionado** si pequeños cambios en los datos de entrada produce grandes cambios en los datos de salida. "
   ]
  },
  {
   "cell_type": "markdown",
   "metadata": {
    "id": "tofgqFeb4KxB"
   },
   "source": [
    "Para ilustrar un algoritmo estable, considere la relación de recurrencia \n",
    "\n",
    "$x_0 = 1$\\\n",
    "$x_1 = \\frac{1}{3}$\\\n",
    "$x_{n+1} = \\frac{13}{3}x_n - \\frac{4}{3} x_{n-1} $\n",
    "\n",
    "que es equivalente a \n",
    "\n",
    "$x_n = \\left( \\frac{1}{3} \\right)^n$."
   ]
  },
  {
   "cell_type": "code",
   "execution_count": 29,
   "metadata": {
    "colab": {
     "base_uri": "https://localhost:8080/",
     "height": 334
    },
    "executionInfo": {
     "elapsed": 680,
     "status": "ok",
     "timestamp": 1618613677155,
     "user": {
      "displayName": "Eduard Alexis Larranaga",
      "photoUrl": "https://lh3.googleusercontent.com/a-/AOh14GgCVABzEgj-rCdyxWa29RnA0kIYUCXAaVbnRYOEhQ=s64",
      "userId": "04402438389940282602"
     },
     "user_tz": 300
    },
    "id": "A_NhTtNs4KxB",
    "outputId": "d3f303fa-3375-4dc1-bfdf-0a51e2b575ff"
   },
   "outputs": [
    {
     "data": {
      "image/png": "[encoded data removed]",
      "text/plain": [
       "<Figure size 504x360 with 1 Axes>"
      ]
     },
     "metadata": {
      "needs_background": "light"
     },
     "output_type": "display_data"
    }
   ],
   "source": [
    "import numpy as np\n",
    "import matplotlib.pyplot as plt\n",
    "\n",
    "n = 18\n",
    "X = np.zeros(n)\n",
    "x = np.zeros(n)\n",
    "\n",
    "X[0] = 1.\n",
    "X[1] = 1./3.\n",
    "\n",
    "x[0] = 1.\n",
    "x[1] = 1./3.\n",
    "\n",
    "for i in range(2,n):\n",
    "    X[i] = 13.*X[i-1]/3. - 4.*X[i-2]/3.\n",
    "    x[i] = (1./3.)**(i)\n",
    "\n",
    "abs_error = np.abs(X - x)\n",
    "rel_error = np.abs((X - x)/X)\n",
    "\n",
    "plt.figure(figsize=(7,5))\n",
    "\n",
    "plt.plot(range(n), abs_error, label='absolute error')\n",
    "plt.plot(range(n), rel_error, label='relative error')\n",
    "plt.xlabel(r'n')\n",
    "plt.legend()\n",
    "plt.show()"
   ]
  },
  {
   "cell_type": "markdown",
   "metadata": {
    "id": "j_PFZK8o4KxB"
   },
   "source": [
    "Hasta el paso $n=15$ en la relación de recurrencia, el error absoluto es prácticamente cero, mientras que el error relativo crece a tan solo $0.05 = 5\\%$. Esto muestra que el algoritmo es **estable**.\n"
   ]
  },
  {
   "cell_type": "markdown",
   "metadata": {
    "id": "dg8FkAM34KxB"
   },
   "source": [
    "---\n",
    "Por otra parte, la relación de recurrencia\n",
    "\n",
    "$x_0 = 1$\\\n",
    "$x_1 = 4$\\\n",
    "$x_{n+1} = \\frac{13}{3}x_n - \\frac{4}{3} x_{n-1} $\n",
    "\n",
    "comparada con  \n",
    "\n",
    "$x_n = 4^n$,\n",
    "\n",
    "muestra un comportamiento completamente diferente,"
   ]
  },
  {
   "cell_type": "code",
   "execution_count": 30,
   "metadata": {
    "colab": {
     "base_uri": "https://localhost:8080/",
     "height": 334
    },
    "executionInfo": {
     "elapsed": 742,
     "status": "ok",
     "timestamp": 1618613681392,
     "user": {
      "displayName": "Eduard Alexis Larranaga",
      "photoUrl": "https://lh3.googleusercontent.com/a-/AOh14GgCVABzEgj-rCdyxWa29RnA0kIYUCXAaVbnRYOEhQ=s64",
      "userId": "04402438389940282602"
     },
     "user_tz": 300
    },
    "id": "AvvklL-B4KxB",
    "outputId": "b94cf533-a09c-485f-cfc8-52102273d660",
    "scrolled": false
   },
   "outputs": [
    {
     "data": {
      "image/png": "[encoded data removed]",
      "text/plain": [
       "<Figure size 504x360 with 1 Axes>"
      ]
     },
     "metadata": {
      "needs_background": "light"
     },
     "output_type": "display_data"
    }
   ],
   "source": [
    "import numpy as np\n",
    "import matplotlib.pyplot as plt\n",
    "\n",
    "n = 18\n",
    "X = np.zeros(n)\n",
    "x = np.zeros(n)\n",
    "\n",
    "X[0] = 1.\n",
    "X[1] = 4.\n",
    "\n",
    "x[0] = 1.\n",
    "x[1] = 4.\n",
    "\n",
    "for i in range(2,n):\n",
    "    X[i] = 13.*X[i-1]/3. - 4.*X[i-2]/3.\n",
    "    x[i] = (4.)**(i)\n",
    "\n",
    "abs_error = np.abs(X - x)\n",
    "rel_error = np.abs((X - x)/X)\n",
    "\n",
    "plt.figure(figsize=(7,5))\n",
    "\n",
    "plt.plot(range(n), abs_error, label='error absoluto')\n",
    "plt.plot(range(n), rel_error, label='error relativo')\n",
    "plt.xlabel(r'n')\n",
    "plt.legend()\n",
    "plt.show()"
   ]
  },
  {
   "cell_type": "markdown",
   "metadata": {
    "id": "LZJarnzn4KxB"
   },
   "source": [
    "Nótese que, aproximadamente hasta el paso $n=20$, el error relativo es muy pequeño pero el error absoluto crece rápidamente. Se dice que el algoritmo es **inestable**."
   ]
  },
  {
   "cell_type": "code",
   "execution_count": null,
   "metadata": {},
   "outputs": [],
   "source": []
  }
 ],
 "metadata": {
  "colab": {
   "name": "Errors01.ipynb",
   "provenance": []
  },
  "kernelspec": {
   "display_name": "Python 3 (ipykernel)",
   "language": "python",
   "name": "python3"
  },
  "language_info": {
   "codemirror_mode": {
    "name": "ipython",
    "version": 3
   },
   "file_extension": ".py",
   "mimetype": "text/x-python",
   "name": "python",
   "nbconvert_exporter": "python",
   "pygments_lexer": "ipython3",
   "version": "3.9.5"
  }
 },
 "nbformat": 4,
 "nbformat_minor": 1
}
